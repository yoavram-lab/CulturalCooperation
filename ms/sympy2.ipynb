{
 "cells": [
  {
   "cell_type": "code",
   "execution_count": 1,
   "metadata": {},
   "outputs": [],
   "source": [
    "from sympy import *\n",
    "b, c, TA, TB, α1, α2, p, w, p1, p2, p3, p4, x, y, v, ε = symbols('b c TA TB α1, α2 p, w, p1, p2, p3, p4, x, y, v, ε')"
   ]
  },
  {
   "cell_type": "code",
   "execution_count": 2,
   "metadata": {},
   "outputs": [],
   "source": [
    "#p = (c*(1-TB) - b*α1*TA-(TA-TB))/(b*(1-α1)*(TA-TB)) # equation 20\n",
    "w = 1 + p*(b-c) # mean fitness\n"
   ]
  },
  {
   "source": [
    "# changing p' in eq8 with p3'\n",
    "eq8 = (p3+p1)*p3*(α2+(1-α2)*(p1+p3+(p2+p4)*(1-TB)))\n",
    "eq8 += (p2+p4)*p3*(α2*(1-TB)+(1-α2)*(p1+p3+(p2+p4)*(1-TB)))\n",
    "eq8 += (p1+p3)*p4*(α2*TA+(1-α2)*((p1+p3)*TA))\n",
    "eq8 += (p2+p4)*p4*((1-α2)*(p1+p3)*TA)\n",
    "simplify(eq8)"
   ],
   "cell_type": "code",
   "metadata": {},
   "execution_count": 3,
   "outputs": [
    {
     "output_type": "execute_result",
     "data": {
      "text/plain": [
       "-TA*p4*(p1 + p3)*(p2 + p4)*(α2 - 1) + TA*p4*(p1 + p3)*(α2 - (p1 + p3)*(α2 - 1)) + p3*(p1 + p3)*(α2 - (α2 - 1)*(p1 + p3 - (TB - 1)*(p2 + p4))) - p3*(p2 + p4)*(α2*(TB - 1) + (α2 - 1)*(p1 + p3 - (TB - 1)*(p2 + p4)))"
      ],
      "text/latex": "$\\displaystyle - TA p_{4} \\left(p_{1} + p_{3}\\right) \\left(p_{2} + p_{4}\\right) \\left(α2 - 1\\right) + TA p_{4} \\left(p_{1} + p_{3}\\right) \\left(α2 - \\left(p_{1} + p_{3}\\right) \\left(α2 - 1\\right)\\right) + p_{3} \\left(p_{1} + p_{3}\\right) \\left(α2 - \\left(α2 - 1\\right) \\left(p_{1} + p_{3} - \\left(TB - 1\\right) \\left(p_{2} + p_{4}\\right)\\right)\\right) - p_{3} \\left(p_{2} + p_{4}\\right) \\left(α2 \\left(TB - 1\\right) + \\left(α2 - 1\\right) \\left(p_{1} + p_{3} - \\left(TB - 1\\right) \\left(p_{2} + p_{4}\\right)\\right)\\right)$"
     },
     "metadata": {},
     "execution_count": 3
    }
   ]
  },
  {
   "cell_type": "code",
   "execution_count": 9,
   "metadata": {},
   "outputs": [
    {
     "output_type": "execute_result",
     "data": {
      "text/plain": [
       "TA*p4*x + TB*p3*x - TB*p3 + p3"
      ],
      "text/latex": "$\\displaystyle TA p_{4} x + TB p_{3} x - TB p_{3} + p_{3}$"
     },
     "metadata": {},
     "execution_count": 9
    }
   ],
   "source": [
    "## ignore\n",
    "\n",
    "eq8 = (x)*p3*(α2+(1-α2)*(x+(1-x)*(1-TB)))\n",
    "eq8 += (1-x)*p3*(α2*(1-TB)+(1-α2)*(x+(1-x)*(1-TB)))\n",
    "eq8 += (x)*p4*(α2*TA+(1-α2)*((x)*TA))\n",
    "eq8 += (1-x)*p4*((1-α2)*(x)*TA)\n",
    "simplify(eq8)"
   ]
  },
  {
   "cell_type": "code",
   "execution_count": 4,
   "metadata": {},
   "outputs": [
    {
     "output_type": "execute_result",
     "data": {
      "text/plain": [
       "TB*p - TB + 1"
      ],
      "text/latex": "$\\displaystyle TB p - TB + 1$"
     },
     "metadata": {},
     "execution_count": 4
    }
   ],
   "source": [
    "deq8dp3 = diff(eq8, p3)\n",
    "deq8dp3 = deq8dp3.subs(p3,0)\n",
    "deq8dp3 = deq8dp3.subs(p4,0)\n",
    "deq8dp3 = deq8dp3.subs(p1,p)\n",
    "deq8dp3 = deq8dp3.subs(p2,1-p)\n",
    "simplify(deq8dp3)\n",
    "\n"
   ]
  },
  {
   "cell_type": "code",
   "execution_count": 5,
   "metadata": {},
   "outputs": [
    {
     "output_type": "execute_result",
     "data": {
      "text/plain": [
       "TA*p"
      ],
      "text/latex": "$\\displaystyle TA p$"
     },
     "metadata": {},
     "execution_count": 5
    }
   ],
   "source": [
    "deq8dp4 = diff(eq8, p4)\n",
    "deq8dp4 = deq8dp4.subs(p3,0)\n",
    "deq8dp4 = deq8dp4.subs(p4,0)\n",
    "deq8dp4 = deq8dp4.subs(p1,p)\n",
    "deq8dp4 = deq8dp4.subs(p2,1-p)\n",
    "simplify(deq8dp4)"
   ]
  },
  {
   "source": [
    "# $\\partial\\bar{w} \\tilde{p}_3' / \\partial \\tilde{p}_3$"
   ],
   "cell_type": "markdown",
   "metadata": {}
  },
  {
   "cell_type": "code",
   "execution_count": null,
   "metadata": {},
   "outputs": [],
   "source": []
  },
  {
   "cell_type": "code",
   "execution_count": 6,
   "metadata": {},
   "outputs": [
    {
     "output_type": "execute_result",
     "data": {
      "text/plain": [
       "-v*(b*p*(TB*(p - 1)*(α2 - 1) - 1) + (c - 1)*(TB*p - TB + 1)) - (v - 1)*(p*(b - c) + 1)*(TB*p - TB + 1)"
      ],
      "text/latex": "$\\displaystyle - v \\left(b p \\left(TB \\left(p - 1\\right) \\left(α2 - 1\\right) - 1\\right) + \\left(c - 1\\right) \\left(TB p - TB + 1\\right)\\right) - \\left(v - 1\\right) \\left(p \\left(b - c\\right) + 1\\right) \\left(TB p - TB + 1\\right)$"
     },
     "metadata": {},
     "execution_count": 6
    }
   ],
   "source": [
    "dp3p3 = v*(b*(p-(1-α2)*TB*(p-p**2))+(1-c)*(1+p*TB-TB))+w*(1-v)*(TB*p-TB+1) # from equation 45\n",
    "dp3p3 =simplify(dp3p3)\n",
    "dp3p3"
   ]
  },
  {
   "cell_type": "code",
   "execution_count": 7,
   "metadata": {},
   "outputs": [
    {
     "output_type": "execute_result",
     "data": {
      "text/plain": [
       "0"
      ],
      "text/latex": "$\\displaystyle 0$"
     },
     "metadata": {},
     "execution_count": 7
    }
   ],
   "source": [
    "### For sanity check - let sympy derive w*p3' by p3 and substitude p*, 1-p*, 0 ,0\n",
    "wp3 = v*p3*(p1+p3)*(1+b-c)*(1-(1-α2)*(p2+p4)*TB)\n",
    "wp3 += v*p3*(p2+p4)*(1-c)*(1-α2*TB*(p1+p3)-TB*(p2+p4))\n",
    "wp3 += v*p4*(p1+p3)*(1+b)*TA*(p1+p3+α2*(p2+p4))\n",
    "wp3 += v*p4*(p2+p4)*(p1+p3)*(1-α2)*TA\n",
    "wp3 += w*(1-v)*eq8\n",
    "dfp3dp3 = diff(wp3, p3)\n",
    "dfp3dp3 = dfp3dp3.subs(p3, 0)\n",
    "dfp3dp3 = dfp3dp3.subs(p4, 0)\n",
    "dfp3dp3 = dfp3dp3.subs(p1, p)\n",
    "dfp3dp3 = dfp3dp3.subs(p2, 1-p)\n",
    "### Sanity check - should be 0\n",
    "simplify(dp3p3-dfp3dp3)"
   ]
  },
  {
   "source": [
    "# $\\partial \\bar{w} \\tilde{p}_3' / \\partial \\tilde{p}_4$"
   ],
   "cell_type": "markdown",
   "metadata": {}
  },
  {
   "cell_type": "code",
   "execution_count": 8,
   "metadata": {},
   "outputs": [
    {
     "output_type": "execute_result",
     "data": {
      "text/plain": [
       "TA*p*(b*v*(p - α2*(p - 1)) + v - (v - 1)*(p*(b - c) + 1))"
      ],
      "text/latex": "$\\displaystyle TA p \\left(b v \\left(p - α2 \\left(p - 1\\right)\\right) + v - \\left(v - 1\\right) \\left(p \\left(b - c\\right) + 1\\right)\\right)$"
     },
     "metadata": {},
     "execution_count": 8
    }
   ],
   "source": [
    "dp3p4 = v*b*TA*p*(p+α2*(1-p)) + v*p*TA+w*(1-v)*p*TA # from equation 45\n",
    "dp3p4 = simplify(dp3p4)\n",
    "dp3p4"
   ]
  },
  {
   "cell_type": "code",
   "execution_count": 9,
   "metadata": {},
   "outputs": [
    {
     "output_type": "execute_result",
     "data": {
      "text/plain": [
       "0"
      ],
      "text/latex": "$\\displaystyle 0$"
     },
     "metadata": {},
     "execution_count": 9
    }
   ],
   "source": [
    "### For sanity check - let sympy derive w*p3' by p4 and substitude p*, 1-p*, 0 ,0\n",
    "\n",
    "dfp3dp4 = diff(wp3, p4)\n",
    "dfp3dp4 = dfp3dp4.subs(p3, 0)\n",
    "dfp3dp4 = dfp3dp4.subs(p4, 0)\n",
    "dfp3dp4 = dfp3dp4.subs(p1, p)\n",
    "dfp3dp4 = dfp3dp4.subs(p2, 1-p)\n",
    "### Sanity check - should be 0\n",
    "simplify(dp3p4-dfp3dp4)"
   ]
  },
  {
   "source": [
    "# $\\partial \\bar{w} \\tilde{p}_4' / \\partial \\tilde{p}_3$"
   ],
   "cell_type": "markdown",
   "metadata": {}
  },
  {
   "cell_type": "code",
   "execution_count": 10,
   "metadata": {},
   "outputs": [
    {
     "output_type": "execute_result",
     "data": {
      "text/plain": [
       "-TB*p3*(p1 + p3)*(p2 + p4)*(α2 - 1) + TB*p3*(p2 + p4)*(α2 - (p2 + p4)*(α2 - 1)) - p4*(p1 + p3)*(α2*(TA - 1) + (α2 - 1)*(p2 + p4 - (TA - 1)*(p1 + p3))) + p4*(p2 + p4)*(α2 - (α2 - 1)*(p2 + p4 - (TA - 1)*(p1 + p3)))"
      ],
      "text/latex": "$\\displaystyle - TB p_{3} \\left(p_{1} + p_{3}\\right) \\left(p_{2} + p_{4}\\right) \\left(α2 - 1\\right) + TB p_{3} \\left(p_{2} + p_{4}\\right) \\left(α2 - \\left(p_{2} + p_{4}\\right) \\left(α2 - 1\\right)\\right) - p_{4} \\left(p_{1} + p_{3}\\right) \\left(α2 \\left(TA - 1\\right) + \\left(α2 - 1\\right) \\left(p_{2} + p_{4} - \\left(TA - 1\\right) \\left(p_{1} + p_{3}\\right)\\right)\\right) + p_{4} \\left(p_{2} + p_{4}\\right) \\left(α2 - \\left(α2 - 1\\right) \\left(p_{2} + p_{4} - \\left(TA - 1\\right) \\left(p_{1} + p_{3}\\right)\\right)\\right)$"
     },
     "metadata": {},
     "execution_count": 10
    }
   ],
   "source": [
    "# changing p' in eq8 with p4'\n",
    "eq8_4 = (p4+p2)*p4*(α2+(1-α2)*(p2+p4+(p1+p3)*(1-TA)))\n",
    "eq8_4 += (p3+p1)*p4*(α2*(1-TA)+(1-α2)*(p2+p4+(p1+p3)*(1-TA)))\n",
    "eq8_4 += (p2+p4)*p3*(α2*TB+(1-α2)*((p2+p4)*TB))\n",
    "eq8_4 += (p1+p3)*p3*((1-α2)*(p2+p4)*TB)\n",
    "simplify(eq8_4)"
   ]
  },
  {
   "cell_type": "code",
   "execution_count": 11,
   "metadata": {},
   "outputs": [
    {
     "output_type": "execute_result",
     "data": {
      "text/plain": [
       "TB*(1 - p)"
      ],
      "text/latex": "$\\displaystyle TB \\left(1 - p\\right)$"
     },
     "metadata": {},
     "execution_count": 11
    }
   ],
   "source": [
    "deq8_4_dp3 = diff(eq8_4, p3)\n",
    "deq8_4_dp3 = deq8_4_dp3.subs(p3,0)\n",
    "deq8_4_dp3 = deq8_4_dp3.subs(p4,0)\n",
    "deq8_4_dp3 = deq8_4_dp3.subs(p1,p)\n",
    "deq8_4_dp3 = deq8_4_dp3.subs(p2,1-p)\n",
    "simplify(deq8_4_dp3)"
   ]
  },
  {
   "cell_type": "code",
   "execution_count": 12,
   "metadata": {},
   "outputs": [
    {
     "output_type": "execute_result",
     "data": {
      "text/plain": [
       "-TA*p + 1"
      ],
      "text/latex": "$\\displaystyle - TA p + 1$"
     },
     "metadata": {},
     "execution_count": 12
    }
   ],
   "source": [
    "deq8_4_dp4 = diff(eq8_4, p4)\n",
    "ddeq8_4_dp4= deq8_4_dp4.subs(p3,0)\n",
    "ddeq8_4_dp4 = ddeq8_4_dp4.subs(p4,0)\n",
    "ddeq8_4_dp4 = ddeq8_4_dp4.subs(p1,p)\n",
    "ddeq8_4_dp4 = ddeq8_4_dp4.subs(p2,1-p)\n",
    "simplify(ddeq8_4_dp4)"
   ]
  },
  {
   "cell_type": "code",
   "execution_count": 13,
   "metadata": {},
   "outputs": [
    {
     "output_type": "execute_result",
     "data": {
      "text/plain": [
       "TB*(p - 1)*(v*(b*p*(α2 - 1) + c - 1) + (v - 1)*(p*(b - c) + 1))"
      ],
      "text/latex": "$\\displaystyle TB \\left(p - 1\\right) \\left(v \\left(b p \\left(α2 - 1\\right) + c - 1\\right) + \\left(v - 1\\right) \\left(p \\left(b - c\\right) + 1\\right)\\right)$"
     },
     "metadata": {},
     "execution_count": 13
    }
   ],
   "source": [
    "dp4p3 = v*((1-p)*(1-c)*TB+b*p*(1-α2)*(1-p)*TB)+(1-v)*w*TB*(1-p)\n",
    "dp4p3 = simplify(dp4p3)\n",
    "dp4p3"
   ]
  },
  {
   "cell_type": "code",
   "execution_count": 14,
   "metadata": {},
   "outputs": [
    {
     "output_type": "execute_result",
     "data": {
      "text/plain": [
       "0"
      ],
      "text/latex": "$\\displaystyle 0$"
     },
     "metadata": {},
     "execution_count": 14
    }
   ],
   "source": [
    "### For sanity check - let sympy derive w*p4' by p3 and substitude p*, 1-p*, 0 ,0\n",
    "\n",
    "wp4 = v*(p4*(p2+p4)*(1-(1-α2)*(p1+p3)*TA))\n",
    "wp4 += v*(p4*(p1+p3)*(1+b)*(1-α2*TA*(p2+p4)-TA*(p1+p3)))\n",
    "wp4 += v*(p3*(p2+p4)*(1-c)*(α2*TB+(1-α2)*(p2+p4)*TB))\n",
    "wp4 += v*(p3*(p1+p3)*(1+b-c)*(1-α2)*(p2+p4)*TB)\n",
    "wp4 += (1-v)*w*eq8_4\n",
    "\n",
    "dfp4dp3 = diff(wp4, p3)\n",
    "dfp4dp3 = dfp4dp3.subs(p3, 0)\n",
    "dfp4dp3 = dfp4dp3.subs(p4, 0)\n",
    "dfp4dp3 = dfp4dp3.subs(p1, p)\n",
    "dfp4dp3 = dfp4dp3.subs(p2, 1-p)\n",
    "### Sanity check - should be 0\n",
    "simplify(dp4p3-dfp4dp3)"
   ]
  },
  {
   "source": [
    "# $\\partial \\bar{w} \\tilde{p}_4' / \\partial \\tilde{p}_4$"
   ],
   "cell_type": "markdown",
   "metadata": {}
  },
  {
   "cell_type": "code",
   "execution_count": 15,
   "metadata": {},
   "outputs": [
    {
     "output_type": "execute_result",
     "data": {
      "text/plain": [
       "TB*(p - 1)*(v*(b*p*(α2 - 1) + c - 1) + (v - 1)*(p*(b - c) + 1))"
      ],
      "text/latex": "$\\displaystyle TB \\left(p - 1\\right) \\left(v \\left(b p \\left(α2 - 1\\right) + c - 1\\right) + \\left(v - 1\\right) \\left(p \\left(b - c\\right) + 1\\right)\\right)$"
     },
     "metadata": {},
     "execution_count": 15
    }
   ],
   "source": [
    "dp4p4 = v*(1-p*TA+b*p*(1-α2*TA*(1-p)-TA*p)) + (1-v)*w*(-TA*p+1)\n",
    "dp4p3 = simplify(dp4p3)\n",
    "dp4p3"
   ]
  },
  {
   "cell_type": "code",
   "execution_count": 16,
   "metadata": {},
   "outputs": [
    {
     "output_type": "execute_result",
     "data": {
      "text/plain": [
       "0"
      ],
      "text/latex": "$\\displaystyle 0$"
     },
     "metadata": {},
     "execution_count": 16
    }
   ],
   "source": [
    "### For sanity check - let sympy derive w*p4' by p4 and substitude p*, 1-p*, 0 ,0\n",
    "dfp4dp4 = diff(wp4, p4)\n",
    "dfp4dp4 = dfp4dp4.subs(p3, 0)\n",
    "dfp4dp4 = dfp4dp4.subs(p4, 0)\n",
    "dfp4dp4 = dfp4dp4.subs(p1, p)\n",
    "dfp4dp4 = dfp4dp4.subs(p2, 1-p)\n",
    "### Sanity check - should be 0\n",
    "simplify(dp4p4-dfp4dp4)"
   ]
  },
  {
   "source": [
    "# Find the eigenvalues \n",
    "We will mark the eigenvalues in x and solve the typical polynomial equation."
   ],
   "cell_type": "markdown",
   "metadata": {}
  },
  {
   "cell_type": "code",
   "execution_count": 17,
   "metadata": {
    "tags": []
   },
   "outputs": [
    {
     "output_type": "execute_result",
     "data": {
      "text/plain": [
       "-(TA*TB*p*(p - 1)*(p*v*(α2 - 1)*(b - c + 1) + v*(c - 1)*(α2 + (p - 1)*(α2 - 1)) + (v - 1)*(p*(b - c) + 1)*(-p*(α2 - 1) + α2 + (p - 1)*(α2 - 1)))*(-b*p*v*α2 + b*p + b*v*α2 + c*p*v - c*p + 1) + (p*v*(TB*(p - 1)*(α2 - 1) - 1)*(b - c + 1) - v*(c - 1)*(p - 1)*(-TB*p*α2 + TB*(p - 1) + 1) + (v - 1)*(p*(b - c) + 1)*(p*(α2 - (p + (TB - 1)*(p - 1))*(α2 - 1)) + (p - 1)*(α2*(TB - 1) + (p + (TB - 1)*(p - 1))*(α2 - 1))))*(TA*b*p**2*v*α2 - TA*b*p**2 - TA*b*p*v*α2 - TA*c*p**2*v + TA*c*p**2 - TA*p + b*p + c*p*v - c*p + 1))/((p*(b - c) + 1)*(b*p - c*p + 1))"
      ],
      "text/latex": "$\\displaystyle - \\frac{TA TB p \\left(p - 1\\right) \\left(p v \\left(α2 - 1\\right) \\left(b - c + 1\\right) + v \\left(c - 1\\right) \\left(α2 + \\left(p - 1\\right) \\left(α2 - 1\\right)\\right) + \\left(v - 1\\right) \\left(p \\left(b - c\\right) + 1\\right) \\left(- p \\left(α2 - 1\\right) + α2 + \\left(p - 1\\right) \\left(α2 - 1\\right)\\right)\\right) \\left(- b p v α2 + b p + b v α2 + c p v - c p + 1\\right) + \\left(p v \\left(TB \\left(p - 1\\right) \\left(α2 - 1\\right) - 1\\right) \\left(b - c + 1\\right) - v \\left(c - 1\\right) \\left(p - 1\\right) \\left(- TB p α2 + TB \\left(p - 1\\right) + 1\\right) + \\left(v - 1\\right) \\left(p \\left(b - c\\right) + 1\\right) \\left(p \\left(α2 - \\left(p + \\left(TB - 1\\right) \\left(p - 1\\right)\\right) \\left(α2 - 1\\right)\\right) + \\left(p - 1\\right) \\left(α2 \\left(TB - 1\\right) + \\left(p + \\left(TB - 1\\right) \\left(p - 1\\right)\\right) \\left(α2 - 1\\right)\\right)\\right)\\right) \\left(TA b p^{2} v α2 - TA b p^{2} - TA b p v α2 - TA c p^{2} v + TA c p^{2} - TA p + b p + c p v - c p + 1\\right)}{\\left(p \\left(b - c\\right) + 1\\right) \\left(b p - c p + 1\\right)}$"
     },
     "metadata": {},
     "execution_count": 17
    }
   ],
   "source": [
    "dp4p4 = simplify(dfp4dp4/w)\n",
    "dp3p3 = simplify(dfp3dp3/w)\n",
    "dp3p4 = simplify(dfp3dp4/w)\n",
    "dp4p3 = simplify(dfp4dp3/w)\n",
    "\n",
    "dp3p4dp4p3 = dp4p3*dp3p4\n",
    "dp3p4dp4p3 = simplify(dp3p4dp4p3)\n",
    "\n",
    "## polynomial \n",
    "# λ^2 + a2*λ + a3\n",
    "\n",
    "a3 = simplify(-dp3p4dp4p3 + dp3p3*dp4p4)\n",
    "a2 = simplify(-dp3p3 - dp4p4)\n",
    "a3\n"
   ]
  },
  {
   "cell_type": "code",
   "execution_count": 36,
   "metadata": {},
   "outputs": [
    {
     "output_type": "execute_result",
     "data": {
      "text/plain": [
       "((TA*b*v*α1*(TA*b*v*α1 + TA - TB - c*v*(1 - TB))/((TA - TB)*(-b*(-v*α1 + 1) + c*(1 - v))) - TA*b*v*α1*(TA*b*v*α1 + TA - TB - c*v*(1 - TB))**2/((TA - TB)**2*(-b*(-v*α1 + 1) + c*(1 - v))**2) + TA*b*(TA*b*v*α1 + TA - TB - c*v*(1 - TB))**2/((TA - TB)**2*(-b*(-v*α1 + 1) + c*(1 - v))**2) + TA*c*v*(TA*b*v*α1 + TA - TB - c*v*(1 - TB))**2/((TA - TB)**2*(-b*(-v*α1 + 1) + c*(1 - v))**2) - TA*c*(TA*b*v*α1 + TA - TB - c*v*(1 - TB))**2/((TA - TB)**2*(-b*(-v*α1 + 1) + c*(1 - v))**2) + TA*(TA*b*v*α1 + TA - TB - c*v*(1 - TB))/((TA - TB)*(-b*(-v*α1 + 1) + c*(1 - v))) - TB*b*v*α1*(TA*b*v*α1 + TA - TB - c*v*(1 - TB))/((TA - TB)*(-b*(-v*α1 + 1) + c*(1 - v))) + TB*b*v*α1*(TA*b*v*α1 + TA - TB - c*v*(1 - TB))**2/((TA - TB)**2*(-b*(-v*α1 + 1) + c*(1 - v))**2) + TB*b*(TA*b*v*α1 + TA - TB - c*v*(1 - TB))/((TA - TB)*(-b*(-v*α1 + 1) + c*(1 - v))) - TB*b*(TA*b*v*α1 + TA - TB - c*v*(1 - TB))**2/((TA - TB)**2*(-b*(-v*α1 + 1) + c*(1 - v))**2) - TB*c*v + 2*TB*c*v*(TA*b*v*α1 + TA - TB - c*v*(1 - TB))/((TA - TB)*(-b*(-v*α1 + 1) + c*(1 - v))) - TB*c*v*(TA*b*v*α1 + TA - TB - c*v*(1 - TB))**2/((TA - TB)**2*(-b*(-v*α1 + 1) + c*(1 - v))**2) - TB*c*(TA*b*v*α1 + TA - TB - c*v*(1 - TB))/((TA - TB)*(-b*(-v*α1 + 1) + c*(1 - v))) + TB*c*(TA*b*v*α1 + TA - TB - c*v*(1 - TB))**2/((TA - TB)**2*(-b*(-v*α1 + 1) + c*(1 - v))**2) + TB - TB*(TA*b*v*α1 + TA - TB - c*v*(1 - TB))/((TA - TB)*(-b*(-v*α1 + 1) + c*(1 - v))) - 2*b*(TA*b*v*α1 + TA - TB - c*v*(1 - TB))/((TA - TB)*(-b*(-v*α1 + 1) + c*(1 - v))) + c*v - 2*c*v*(TA*b*v*α1 + TA - TB - c*v*(1 - TB))/((TA - TB)*(-b*(-v*α1 + 1) + c*(1 - v))) + 2*c*(TA*b*v*α1 + TA - TB - c*v*(1 - TB))/((TA - TB)*(-b*(-v*α1 + 1) + c*(1 - v))) - 2)**2/(b*(TA*b*v*α1 + TA - TB - c*v*(1 - TB))/((TA - TB)*(-b*(-v*α1 + 1) + c*(1 - v))) - c*(TA*b*v*α1 + TA - TB - c*v*(1 - TB))/((TA - TB)*(-b*(-v*α1 + 1) + c*(1 - v))) + 1)**2 + 4*(TA*TB*(-1 + (TA*b*v*α1 + TA - TB - c*v*(1 - TB))/((TA - TB)*(-b*(-v*α1 + 1) + c*(1 - v))))*(v*(c - 1)*(α1 + (-1 + (TA*b*v*α1 + TA - TB - c*v*(1 - TB))/((TA - TB)*(-b*(-v*α1 + 1) + c*(1 - v))))*(α1 - 1)) + v*(α1 - 1)*(b - c + 1)*(TA*b*v*α1 + TA - TB - c*v*(1 - TB))/((TA - TB)*(-b*(-v*α1 + 1) + c*(1 - v))) + (1 + (b - c)*(TA*b*v*α1 + TA - TB - c*v*(1 - TB))/((TA - TB)*(-b*(-v*α1 + 1) + c*(1 - v))))*(v - 1)*(α1 + (-1 + (TA*b*v*α1 + TA - TB - c*v*(1 - TB))/((TA - TB)*(-b*(-v*α1 + 1) + c*(1 - v))))*(α1 - 1) - (α1 - 1)*(TA*b*v*α1 + TA - TB - c*v*(1 - TB))/((TA - TB)*(-b*(-v*α1 + 1) + c*(1 - v)))))*(TA*b*v*α1 + TA - TB - c*v*(1 - TB))*(b*v*α1 - b*v*α1*(TA*b*v*α1 + TA - TB - c*v*(1 - TB))/((TA - TB)*(-b*(-v*α1 + 1) + c*(1 - v))) + b*(TA*b*v*α1 + TA - TB - c*v*(1 - TB))/((TA - TB)*(-b*(-v*α1 + 1) + c*(1 - v))) + c*v*(TA*b*v*α1 + TA - TB - c*v*(1 - TB))/((TA - TB)*(-b*(-v*α1 + 1) + c*(1 - v))) - c*(TA*b*v*α1 + TA - TB - c*v*(1 - TB))/((TA - TB)*(-b*(-v*α1 + 1) + c*(1 - v))) + 1)/((TA - TB)*(-b*(-v*α1 + 1) + c*(1 - v))) + (-v*(-1 + (TA*b*v*α1 + TA - TB - c*v*(1 - TB))/((TA - TB)*(-b*(-v*α1 + 1) + c*(1 - v))))*(c - 1)*(-TB*α1*(TA*b*v*α1 + TA - TB - c*v*(1 - TB))/((TA - TB)*(-b*(-v*α1 + 1) + c*(1 - v))) + TB*(-1 + (TA*b*v*α1 + TA - TB - c*v*(1 - TB))/((TA - TB)*(-b*(-v*α1 + 1) + c*(1 - v)))) + 1) + v*(TB*(-1 + (TA*b*v*α1 + TA - TB - c*v*(1 - TB))/((TA - TB)*(-b*(-v*α1 + 1) + c*(1 - v))))*(α1 - 1) - 1)*(b - c + 1)*(TA*b*v*α1 + TA - TB - c*v*(1 - TB))/((TA - TB)*(-b*(-v*α1 + 1) + c*(1 - v))) + (1 + (b - c)*(TA*b*v*α1 + TA - TB - c*v*(1 - TB))/((TA - TB)*(-b*(-v*α1 + 1) + c*(1 - v))))*(v - 1)*((-1 + (TA*b*v*α1 + TA - TB - c*v*(1 - TB))/((TA - TB)*(-b*(-v*α1 + 1) + c*(1 - v))))*(α1*(TB - 1) + (α1 - 1)*((-1 + (TA*b*v*α1 + TA - TB - c*v*(1 - TB))/((TA - TB)*(-b*(-v*α1 + 1) + c*(1 - v))))*(TB - 1) + (TA*b*v*α1 + TA - TB - c*v*(1 - TB))/((TA - TB)*(-b*(-v*α1 + 1) + c*(1 - v))))) + (α1 - (α1 - 1)*((-1 + (TA*b*v*α1 + TA - TB - c*v*(1 - TB))/((TA - TB)*(-b*(-v*α1 + 1) + c*(1 - v))))*(TB - 1) + (TA*b*v*α1 + TA - TB - c*v*(1 - TB))/((TA - TB)*(-b*(-v*α1 + 1) + c*(1 - v)))))*(TA*b*v*α1 + TA - TB - c*v*(1 - TB))/((TA - TB)*(-b*(-v*α1 + 1) + c*(1 - v)))))*(-TA*b*v*α1*(TA*b*v*α1 + TA - TB - c*v*(1 - TB))/((TA - TB)*(-b*(-v*α1 + 1) + c*(1 - v))) + TA*b*v*α1*(TA*b*v*α1 + TA - TB - c*v*(1 - TB))**2/((TA - TB)**2*(-b*(-v*α1 + 1) + c*(1 - v))**2) - TA*b*(TA*b*v*α1 + TA - TB - c*v*(1 - TB))**2/((TA - TB)**2*(-b*(-v*α1 + 1) + c*(1 - v))**2) - TA*c*v*(TA*b*v*α1 + TA - TB - c*v*(1 - TB))**2/((TA - TB)**2*(-b*(-v*α1 + 1) + c*(1 - v))**2) + TA*c*(TA*b*v*α1 + TA - TB - c*v*(1 - TB))**2/((TA - TB)**2*(-b*(-v*α1 + 1) + c*(1 - v))**2) - TA*(TA*b*v*α1 + TA - TB - c*v*(1 - TB))/((TA - TB)*(-b*(-v*α1 + 1) + c*(1 - v))) + b*(TA*b*v*α1 + TA - TB - c*v*(1 - TB))/((TA - TB)*(-b*(-v*α1 + 1) + c*(1 - v))) + c*v*(TA*b*v*α1 + TA - TB - c*v*(1 - TB))/((TA - TB)*(-b*(-v*α1 + 1) + c*(1 - v))) - c*(TA*b*v*α1 + TA - TB - c*v*(1 - TB))/((TA - TB)*(-b*(-v*α1 + 1) + c*(1 - v))) + 1))/((1 + (b - c)*(TA*b*v*α1 + TA - TB - c*v*(1 - TB))/((TA - TB)*(-b*(-v*α1 + 1) + c*(1 - v))))*(b*(TA*b*v*α1 + TA - TB - c*v*(1 - TB))/((TA - TB)*(-b*(-v*α1 + 1) + c*(1 - v))) - c*(TA*b*v*α1 + TA - TB - c*v*(1 - TB))/((TA - TB)*(-b*(-v*α1 + 1) + c*(1 - v))) + 1)))**(-0.5)*(0.5*(2*TA*b*v*(TA*b*v*α1 + TA - TB - c*v*(1 - TB))/((TA - TB)*(-b*(-v*α1 + 1) + c*(1 - v))) - 2*TA*b*v*(TA*b*v*α1 + TA - TB - c*v*(1 - TB))**2/((TA - TB)**2*(-b*(-v*α1 + 1) + c*(1 - v))**2) - 2*TB*b*v*(TA*b*v*α1 + TA - TB - c*v*(1 - TB))/((TA - TB)*(-b*(-v*α1 + 1) + c*(1 - v))) + 2*TB*b*v*(TA*b*v*α1 + TA - TB - c*v*(1 - TB))**2/((TA - TB)**2*(-b*(-v*α1 + 1) + c*(1 - v))**2))*(TA*b*v*α1*(TA*b*v*α1 + TA - TB - c*v*(1 - TB))/((TA - TB)*(-b*(-v*α1 + 1) + c*(1 - v))) - TA*b*v*α1*(TA*b*v*α1 + TA - TB - c*v*(1 - TB))**2/((TA - TB)**2*(-b*(-v*α1 + 1) + c*(1 - v))**2) + TA*b*(TA*b*v*α1 + TA - TB - c*v*(1 - TB))**2/((TA - TB)**2*(-b*(-v*α1 + 1) + c*(1 - v))**2) + TA*c*v*(TA*b*v*α1 + TA - TB - c*v*(1 - TB))**2/((TA - TB)**2*(-b*(-v*α1 + 1) + c*(1 - v))**2) - TA*c*(TA*b*v*α1 + TA - TB - c*v*(1 - TB))**2/((TA - TB)**2*(-b*(-v*α1 + 1) + c*(1 - v))**2) + TA*(TA*b*v*α1 + TA - TB - c*v*(1 - TB))/((TA - TB)*(-b*(-v*α1 + 1) + c*(1 - v))) - TB*b*v*α1*(TA*b*v*α1 + TA - TB - c*v*(1 - TB))/((TA - TB)*(-b*(-v*α1 + 1) + c*(1 - v))) + TB*b*v*α1*(TA*b*v*α1 + TA - TB - c*v*(1 - TB))**2/((TA - TB)**2*(-b*(-v*α1 + 1) + c*(1 - v))**2) + TB*b*(TA*b*v*α1 + TA - TB - c*v*(1 - TB))/((TA - TB)*(-b*(-v*α1 + 1) + c*(1 - v))) - TB*b*(TA*b*v*α1 + TA - TB - c*v*(1 - TB))**2/((TA - TB)**2*(-b*(-v*α1 + 1) + c*(1 - v))**2) - TB*c*v + 2*TB*c*v*(TA*b*v*α1 + TA - TB - c*v*(1 - TB))/((TA - TB)*(-b*(-v*α1 + 1) + c*(1 - v))) - TB*c*v*(TA*b*v*α1 + TA - TB - c*v*(1 - TB))**2/((TA - TB)**2*(-b*(-v*α1 + 1) + c*(1 - v))**2) - TB*c*(TA*b*v*α1 + TA - TB - c*v*(1 - TB))/((TA - TB)*(-b*(-v*α1 + 1) + c*(1 - v))) + TB*c*(TA*b*v*α1 + TA - TB - c*v*(1 - TB))**2/((TA - TB)**2*(-b*(-v*α1 + 1) + c*(1 - v))**2) + TB - TB*(TA*b*v*α1 + TA - TB - c*v*(1 - TB))/((TA - TB)*(-b*(-v*α1 + 1) + c*(1 - v))) - 2*b*(TA*b*v*α1 + TA - TB - c*v*(1 - TB))/((TA - TB)*(-b*(-v*α1 + 1) + c*(1 - v))) + c*v - 2*c*v*(TA*b*v*α1 + TA - TB - c*v*(1 - TB))/((TA - TB)*(-b*(-v*α1 + 1) + c*(1 - v))) + 2*c*(TA*b*v*α1 + TA - TB - c*v*(1 - TB))/((TA - TB)*(-b*(-v*α1 + 1) + c*(1 - v))) - 2)/(b*(TA*b*v*α1 + TA - TB - c*v*(1 - TB))/((TA - TB)*(-b*(-v*α1 + 1) + c*(1 - v))) - c*(TA*b*v*α1 + TA - TB - c*v*(1 - TB))/((TA - TB)*(-b*(-v*α1 + 1) + c*(1 - v))) + 1)**2 + 2.0*(TA*TB*(-1 + (TA*b*v*α1 + TA - TB - c*v*(1 - TB))/((TA - TB)*(-b*(-v*α1 + 1) + c*(1 - v))))*(b*v - b*v*(TA*b*v*α1 + TA - TB - c*v*(1 - TB))/((TA - TB)*(-b*(-v*α1 + 1) + c*(1 - v))))*(v*(c - 1)*(α1 + (-1 + (TA*b*v*α1 + TA - TB - c*v*(1 - TB))/((TA - TB)*(-b*(-v*α1 + 1) + c*(1 - v))))*(α1 - 1)) + v*(α1 - 1)*(b - c + 1)*(TA*b*v*α1 + TA - TB - c*v*(1 - TB))/((TA - TB)*(-b*(-v*α1 + 1) + c*(1 - v))) + (1 + (b - c)*(TA*b*v*α1 + TA - TB - c*v*(1 - TB))/((TA - TB)*(-b*(-v*α1 + 1) + c*(1 - v))))*(v - 1)*(α1 + (-1 + (TA*b*v*α1 + TA - TB - c*v*(1 - TB))/((TA - TB)*(-b*(-v*α1 + 1) + c*(1 - v))))*(α1 - 1) - (α1 - 1)*(TA*b*v*α1 + TA - TB - c*v*(1 - TB))/((TA - TB)*(-b*(-v*α1 + 1) + c*(1 - v)))))*(TA*b*v*α1 + TA - TB - c*v*(1 - TB))/((TA - TB)*(-b*(-v*α1 + 1) + c*(1 - v))) + TA*TB*(-1 + (TA*b*v*α1 + TA - TB - c*v*(1 - TB))/((TA - TB)*(-b*(-v*α1 + 1) + c*(1 - v))))*(v*(c - 1)*(TA*b*v*α1 + TA - TB - c*v*(1 - TB))/((TA - TB)*(-b*(-v*α1 + 1) + c*(1 - v))) + v*(b - c + 1)*(TA*b*v*α1 + TA - TB - c*v*(1 - TB))/((TA - TB)*(-b*(-v*α1 + 1) + c*(1 - v))))*(TA*b*v*α1 + TA - TB - c*v*(1 - TB))*(b*v*α1 - b*v*α1*(TA*b*v*α1 + TA - TB - c*v*(1 - TB))/((TA - TB)*(-b*(-v*α1 + 1) + c*(1 - v))) + b*(TA*b*v*α1 + TA - TB - c*v*(1 - TB))/((TA - TB)*(-b*(-v*α1 + 1) + c*(1 - v))) + c*v*(TA*b*v*α1 + TA - TB - c*v*(1 - TB))/((TA - TB)*(-b*(-v*α1 + 1) + c*(1 - v))) - c*(TA*b*v*α1 + TA - TB - c*v*(1 - TB))/((TA - TB)*(-b*(-v*α1 + 1) + c*(1 - v))) + 1)/((TA - TB)*(-b*(-v*α1 + 1) + c*(1 - v))) + (-TA*b*v*(TA*b*v*α1 + TA - TB - c*v*(1 - TB))/((TA - TB)*(-b*(-v*α1 + 1) + c*(1 - v))) + TA*b*v*(TA*b*v*α1 + TA - TB - c*v*(1 - TB))**2/((TA - TB)**2*(-b*(-v*α1 + 1) + c*(1 - v))**2))*(-v*(-1 + (TA*b*v*α1 + TA - TB - c*v*(1 - TB))/((TA - TB)*(-b*(-v*α1 + 1) + c*(1 - v))))*(c - 1)*(-TB*α1*(TA*b*v*α1 + TA - TB - c*v*(1 - TB))/((TA - TB)*(-b*(-v*α1 + 1) + c*(1 - v))) + TB*(-1 + (TA*b*v*α1 + TA - TB - c*v*(1 - TB))/((TA - TB)*(-b*(-v*α1 + 1) + c*(1 - v)))) + 1) + v*(TB*(-1 + (TA*b*v*α1 + TA - TB - c*v*(1 - TB))/((TA - TB)*(-b*(-v*α1 + 1) + c*(1 - v))))*(α1 - 1) - 1)*(b - c + 1)*(TA*b*v*α1 + TA - TB - c*v*(1 - TB))/((TA - TB)*(-b*(-v*α1 + 1) + c*(1 - v))) + (1 + (b - c)*(TA*b*v*α1 + TA - TB - c*v*(1 - TB))/((TA - TB)*(-b*(-v*α1 + 1) + c*(1 - v))))*(v - 1)*((-1 + (TA*b*v*α1 + TA - TB - c*v*(1 - TB))/((TA - TB)*(-b*(-v*α1 + 1) + c*(1 - v))))*(α1*(TB - 1) + (α1 - 1)*((-1 + (TA*b*v*α1 + TA - TB - c*v*(1 - TB))/((TA - TB)*(-b*(-v*α1 + 1) + c*(1 - v))))*(TB - 1) + (TA*b*v*α1 + TA - TB - c*v*(1 - TB))/((TA - TB)*(-b*(-v*α1 + 1) + c*(1 - v))))) + (α1 - (α1 - 1)*((-1 + (TA*b*v*α1 + TA - TB - c*v*(1 - TB))/((TA - TB)*(-b*(-v*α1 + 1) + c*(1 - v))))*(TB - 1) + (TA*b*v*α1 + TA - TB - c*v*(1 - TB))/((TA - TB)*(-b*(-v*α1 + 1) + c*(1 - v)))))*(TA*b*v*α1 + TA - TB - c*v*(1 - TB))/((TA - TB)*(-b*(-v*α1 + 1) + c*(1 - v))))) + (TB*v*(-1 + (TA*b*v*α1 + TA - TB - c*v*(1 - TB))/((TA - TB)*(-b*(-v*α1 + 1) + c*(1 - v))))*(c - 1)*(TA*b*v*α1 + TA - TB - c*v*(1 - TB))/((TA - TB)*(-b*(-v*α1 + 1) + c*(1 - v))) + TB*v*(-1 + (TA*b*v*α1 + TA - TB - c*v*(1 - TB))/((TA - TB)*(-b*(-v*α1 + 1) + c*(1 - v))))*(b - c + 1)*(TA*b*v*α1 + TA - TB - c*v*(1 - TB))/((TA - TB)*(-b*(-v*α1 + 1) + c*(1 - v))) + (1 + (b - c)*(TA*b*v*α1 + TA - TB - c*v*(1 - TB))/((TA - TB)*(-b*(-v*α1 + 1) + c*(1 - v))))*(v - 1)*((-1 + (TA*b*v*α1 + TA - TB - c*v*(1 - TB))/((TA - TB)*(-b*(-v*α1 + 1) + c*(1 - v))))*(TB + (-1 + (TA*b*v*α1 + TA - TB - c*v*(1 - TB))/((TA - TB)*(-b*(-v*α1 + 1) + c*(1 - v))))*(TB - 1) - 1 + (TA*b*v*α1 + TA - TB - c*v*(1 - TB))/((TA - TB)*(-b*(-v*α1 + 1) + c*(1 - v)))) + (-(-1 + (TA*b*v*α1 + TA - TB - c*v*(1 - TB))/((TA - TB)*(-b*(-v*α1 + 1) + c*(1 - v))))*(TB - 1) + 1 - (TA*b*v*α1 + TA - TB - c*v*(1 - TB))/((TA - TB)*(-b*(-v*α1 + 1) + c*(1 - v))))*(TA*b*v*α1 + TA - TB - c*v*(1 - TB))/((TA - TB)*(-b*(-v*α1 + 1) + c*(1 - v)))))*(-TA*b*v*α1*(TA*b*v*α1 + TA - TB - c*v*(1 - TB))/((TA - TB)*(-b*(-v*α1 + 1) + c*(1 - v))) + TA*b*v*α1*(TA*b*v*α1 + TA - TB - c*v*(1 - TB))**2/((TA - TB)**2*(-b*(-v*α1 + 1) + c*(1 - v))**2) - TA*b*(TA*b*v*α1 + TA - TB - c*v*(1 - TB))**2/((TA - TB)**2*(-b*(-v*α1 + 1) + c*(1 - v))**2) - TA*c*v*(TA*b*v*α1 + TA - TB - c*v*(1 - TB))**2/((TA - TB)**2*(-b*(-v*α1 + 1) + c*(1 - v))**2) + TA*c*(TA*b*v*α1 + TA - TB - c*v*(1 - TB))**2/((TA - TB)**2*(-b*(-v*α1 + 1) + c*(1 - v))**2) - TA*(TA*b*v*α1 + TA - TB - c*v*(1 - TB))/((TA - TB)*(-b*(-v*α1 + 1) + c*(1 - v))) + b*(TA*b*v*α1 + TA - TB - c*v*(1 - TB))/((TA - TB)*(-b*(-v*α1 + 1) + c*(1 - v))) + c*v*(TA*b*v*α1 + TA - TB - c*v*(1 - TB))/((TA - TB)*(-b*(-v*α1 + 1) + c*(1 - v))) - c*(TA*b*v*α1 + TA - TB - c*v*(1 - TB))/((TA - TB)*(-b*(-v*α1 + 1) + c*(1 - v))) + 1))/((1 + (b - c)*(TA*b*v*α1 + TA - TB - c*v*(1 - TB))/((TA - TB)*(-b*(-v*α1 + 1) + c*(1 - v))))*(b*(TA*b*v*α1 + TA - TB - c*v*(1 - TB))/((TA - TB)*(-b*(-v*α1 + 1) + c*(1 - v))) - c*(TA*b*v*α1 + TA - TB - c*v*(1 - TB))/((TA - TB)*(-b*(-v*α1 + 1) + c*(1 - v))) + 1)))/2 - (TA*b*v*(TA*b*v*α1 + TA - TB - c*v*(1 - TB))/((TA - TB)*(-b*(-v*α1 + 1) + c*(1 - v))) - TA*b*v*(TA*b*v*α1 + TA - TB - c*v*(1 - TB))**2/((TA - TB)**2*(-b*(-v*α1 + 1) + c*(1 - v))**2) - TB*b*v*(TA*b*v*α1 + TA - TB - c*v*(1 - TB))/((TA - TB)*(-b*(-v*α1 + 1) + c*(1 - v))) + TB*b*v*(TA*b*v*α1 + TA - TB - c*v*(1 - TB))**2/((TA - TB)**2*(-b*(-v*α1 + 1) + c*(1 - v))**2))/(2*(b*(TA*b*v*α1 + TA - TB - c*v*(1 - TB))/((TA - TB)*(-b*(-v*α1 + 1) + c*(1 - v))) - c*(TA*b*v*α1 + TA - TB - c*v*(1 - TB))/((TA - TB)*(-b*(-v*α1 + 1) + c*(1 - v))) + 1))"
      ],
      "text/latex": "$\\displaystyle \\frac{\\frac{0.5 \\left(\\frac{2 TA b v \\left(TA b v α1 + TA - TB - c v \\left(1 - TB\\right)\\right)}{\\left(TA - TB\\right) \\left(- b \\left(- v α1 + 1\\right) + c \\left(1 - v\\right)\\right)} - \\frac{2 TA b v \\left(TA b v α1 + TA - TB - c v \\left(1 - TB\\right)\\right)^{2}}{\\left(TA - TB\\right)^{2} \\left(- b \\left(- v α1 + 1\\right) + c \\left(1 - v\\right)\\right)^{2}} - \\frac{2 TB b v \\left(TA b v α1 + TA - TB - c v \\left(1 - TB\\right)\\right)}{\\left(TA - TB\\right) \\left(- b \\left(- v α1 + 1\\right) + c \\left(1 - v\\right)\\right)} + \\frac{2 TB b v \\left(TA b v α1 + TA - TB - c v \\left(1 - TB\\right)\\right)^{2}}{\\left(TA - TB\\right)^{2} \\left(- b \\left(- v α1 + 1\\right) + c \\left(1 - v\\right)\\right)^{2}}\\right) \\left(\\frac{TA b v α1 \\left(TA b v α1 + TA - TB - c v \\left(1 - TB\\right)\\right)}{\\left(TA - TB\\right) \\left(- b \\left(- v α1 + 1\\right) + c \\left(1 - v\\right)\\right)} - \\frac{TA b v α1 \\left(TA b v α1 + TA - TB - c v \\left(1 - TB\\right)\\right)^{2}}{\\left(TA - TB\\right)^{2} \\left(- b \\left(- v α1 + 1\\right) + c \\left(1 - v\\right)\\right)^{2}} + \\frac{TA b \\left(TA b v α1 + TA - TB - c v \\left(1 - TB\\right)\\right)^{2}}{\\left(TA - TB\\right)^{2} \\left(- b \\left(- v α1 + 1\\right) + c \\left(1 - v\\right)\\right)^{2}} + \\frac{TA c v \\left(TA b v α1 + TA - TB - c v \\left(1 - TB\\right)\\right)^{2}}{\\left(TA - TB\\right)^{2} \\left(- b \\left(- v α1 + 1\\right) + c \\left(1 - v\\right)\\right)^{2}} - \\frac{TA c \\left(TA b v α1 + TA - TB - c v \\left(1 - TB\\right)\\right)^{2}}{\\left(TA - TB\\right)^{2} \\left(- b \\left(- v α1 + 1\\right) + c \\left(1 - v\\right)\\right)^{2}} + \\frac{TA \\left(TA b v α1 + TA - TB - c v \\left(1 - TB\\right)\\right)}{\\left(TA - TB\\right) \\left(- b \\left(- v α1 + 1\\right) + c \\left(1 - v\\right)\\right)} - \\frac{TB b v α1 \\left(TA b v α1 + TA - TB - c v \\left(1 - TB\\right)\\right)}{\\left(TA - TB\\right) \\left(- b \\left(- v α1 + 1\\right) + c \\left(1 - v\\right)\\right)} + \\frac{TB b v α1 \\left(TA b v α1 + TA - TB - c v \\left(1 - TB\\right)\\right)^{2}}{\\left(TA - TB\\right)^{2} \\left(- b \\left(- v α1 + 1\\right) + c \\left(1 - v\\right)\\right)^{2}} + \\frac{TB b \\left(TA b v α1 + TA - TB - c v \\left(1 - TB\\right)\\right)}{\\left(TA - TB\\right) \\left(- b \\left(- v α1 + 1\\right) + c \\left(1 - v\\right)\\right)} - \\frac{TB b \\left(TA b v α1 + TA - TB - c v \\left(1 - TB\\right)\\right)^{2}}{\\left(TA - TB\\right)^{2} \\left(- b \\left(- v α1 + 1\\right) + c \\left(1 - v\\right)\\right)^{2}} - TB c v + \\frac{2 TB c v \\left(TA b v α1 + TA - TB - c v \\left(1 - TB\\right)\\right)}{\\left(TA - TB\\right) \\left(- b \\left(- v α1 + 1\\right) + c \\left(1 - v\\right)\\right)} - \\frac{TB c v \\left(TA b v α1 + TA - TB - c v \\left(1 - TB\\right)\\right)^{2}}{\\left(TA - TB\\right)^{2} \\left(- b \\left(- v α1 + 1\\right) + c \\left(1 - v\\right)\\right)^{2}} - \\frac{TB c \\left(TA b v α1 + TA - TB - c v \\left(1 - TB\\right)\\right)}{\\left(TA - TB\\right) \\left(- b \\left(- v α1 + 1\\right) + c \\left(1 - v\\right)\\right)} + \\frac{TB c \\left(TA b v α1 + TA - TB - c v \\left(1 - TB\\right)\\right)^{2}}{\\left(TA - TB\\right)^{2} \\left(- b \\left(- v α1 + 1\\right) + c \\left(1 - v\\right)\\right)^{2}} + TB - \\frac{TB \\left(TA b v α1 + TA - TB - c v \\left(1 - TB\\right)\\right)}{\\left(TA - TB\\right) \\left(- b \\left(- v α1 + 1\\right) + c \\left(1 - v\\right)\\right)} - \\frac{2 b \\left(TA b v α1 + TA - TB - c v \\left(1 - TB\\right)\\right)}{\\left(TA - TB\\right) \\left(- b \\left(- v α1 + 1\\right) + c \\left(1 - v\\right)\\right)} + c v - \\frac{2 c v \\left(TA b v α1 + TA - TB - c v \\left(1 - TB\\right)\\right)}{\\left(TA - TB\\right) \\left(- b \\left(- v α1 + 1\\right) + c \\left(1 - v\\right)\\right)} + \\frac{2 c \\left(TA b v α1 + TA - TB - c v \\left(1 - TB\\right)\\right)}{\\left(TA - TB\\right) \\left(- b \\left(- v α1 + 1\\right) + c \\left(1 - v\\right)\\right)} - 2\\right)}{\\left(\\frac{b \\left(TA b v α1 + TA - TB - c v \\left(1 - TB\\right)\\right)}{\\left(TA - TB\\right) \\left(- b \\left(- v α1 + 1\\right) + c \\left(1 - v\\right)\\right)} - \\frac{c \\left(TA b v α1 + TA - TB - c v \\left(1 - TB\\right)\\right)}{\\left(TA - TB\\right) \\left(- b \\left(- v α1 + 1\\right) + c \\left(1 - v\\right)\\right)} + 1\\right)^{2}} + \\frac{2.0 \\left(\\frac{TA TB \\left(-1 + \\frac{TA b v α1 + TA - TB - c v \\left(1 - TB\\right)}{\\left(TA - TB\\right) \\left(- b \\left(- v α1 + 1\\right) + c \\left(1 - v\\right)\\right)}\\right) \\left(b v - \\frac{b v \\left(TA b v α1 + TA - TB - c v \\left(1 - TB\\right)\\right)}{\\left(TA - TB\\right) \\left(- b \\left(- v α1 + 1\\right) + c \\left(1 - v\\right)\\right)}\\right) \\left(v \\left(c - 1\\right) \\left(α1 + \\left(-1 + \\frac{TA b v α1 + TA - TB - c v \\left(1 - TB\\right)}{\\left(TA - TB\\right) \\left(- b \\left(- v α1 + 1\\right) + c \\left(1 - v\\right)\\right)}\\right) \\left(α1 - 1\\right)\\right) + \\frac{v \\left(α1 - 1\\right) \\left(b - c + 1\\right) \\left(TA b v α1 + TA - TB - c v \\left(1 - TB\\right)\\right)}{\\left(TA - TB\\right) \\left(- b \\left(- v α1 + 1\\right) + c \\left(1 - v\\right)\\right)} + \\left(1 + \\frac{\\left(b - c\\right) \\left(TA b v α1 + TA - TB - c v \\left(1 - TB\\right)\\right)}{\\left(TA - TB\\right) \\left(- b \\left(- v α1 + 1\\right) + c \\left(1 - v\\right)\\right)}\\right) \\left(v - 1\\right) \\left(α1 + \\left(-1 + \\frac{TA b v α1 + TA - TB - c v \\left(1 - TB\\right)}{\\left(TA - TB\\right) \\left(- b \\left(- v α1 + 1\\right) + c \\left(1 - v\\right)\\right)}\\right) \\left(α1 - 1\\right) - \\frac{\\left(α1 - 1\\right) \\left(TA b v α1 + TA - TB - c v \\left(1 - TB\\right)\\right)}{\\left(TA - TB\\right) \\left(- b \\left(- v α1 + 1\\right) + c \\left(1 - v\\right)\\right)}\\right)\\right) \\left(TA b v α1 + TA - TB - c v \\left(1 - TB\\right)\\right)}{\\left(TA - TB\\right) \\left(- b \\left(- v α1 + 1\\right) + c \\left(1 - v\\right)\\right)} + \\frac{TA TB \\left(-1 + \\frac{TA b v α1 + TA - TB - c v \\left(1 - TB\\right)}{\\left(TA - TB\\right) \\left(- b \\left(- v α1 + 1\\right) + c \\left(1 - v\\right)\\right)}\\right) \\left(\\frac{v \\left(c - 1\\right) \\left(TA b v α1 + TA - TB - c v \\left(1 - TB\\right)\\right)}{\\left(TA - TB\\right) \\left(- b \\left(- v α1 + 1\\right) + c \\left(1 - v\\right)\\right)} + \\frac{v \\left(b - c + 1\\right) \\left(TA b v α1 + TA - TB - c v \\left(1 - TB\\right)\\right)}{\\left(TA - TB\\right) \\left(- b \\left(- v α1 + 1\\right) + c \\left(1 - v\\right)\\right)}\\right) \\left(TA b v α1 + TA - TB - c v \\left(1 - TB\\right)\\right) \\left(b v α1 - \\frac{b v α1 \\left(TA b v α1 + TA - TB - c v \\left(1 - TB\\right)\\right)}{\\left(TA - TB\\right) \\left(- b \\left(- v α1 + 1\\right) + c \\left(1 - v\\right)\\right)} + \\frac{b \\left(TA b v α1 + TA - TB - c v \\left(1 - TB\\right)\\right)}{\\left(TA - TB\\right) \\left(- b \\left(- v α1 + 1\\right) + c \\left(1 - v\\right)\\right)} + \\frac{c v \\left(TA b v α1 + TA - TB - c v \\left(1 - TB\\right)\\right)}{\\left(TA - TB\\right) \\left(- b \\left(- v α1 + 1\\right) + c \\left(1 - v\\right)\\right)} - \\frac{c \\left(TA b v α1 + TA - TB - c v \\left(1 - TB\\right)\\right)}{\\left(TA - TB\\right) \\left(- b \\left(- v α1 + 1\\right) + c \\left(1 - v\\right)\\right)} + 1\\right)}{\\left(TA - TB\\right) \\left(- b \\left(- v α1 + 1\\right) + c \\left(1 - v\\right)\\right)} + \\left(- \\frac{TA b v \\left(TA b v α1 + TA - TB - c v \\left(1 - TB\\right)\\right)}{\\left(TA - TB\\right) \\left(- b \\left(- v α1 + 1\\right) + c \\left(1 - v\\right)\\right)} + \\frac{TA b v \\left(TA b v α1 + TA - TB - c v \\left(1 - TB\\right)\\right)^{2}}{\\left(TA - TB\\right)^{2} \\left(- b \\left(- v α1 + 1\\right) + c \\left(1 - v\\right)\\right)^{2}}\\right) \\left(- v \\left(-1 + \\frac{TA b v α1 + TA - TB - c v \\left(1 - TB\\right)}{\\left(TA - TB\\right) \\left(- b \\left(- v α1 + 1\\right) + c \\left(1 - v\\right)\\right)}\\right) \\left(c - 1\\right) \\left(- \\frac{TB α1 \\left(TA b v α1 + TA - TB - c v \\left(1 - TB\\right)\\right)}{\\left(TA - TB\\right) \\left(- b \\left(- v α1 + 1\\right) + c \\left(1 - v\\right)\\right)} + TB \\left(-1 + \\frac{TA b v α1 + TA - TB - c v \\left(1 - TB\\right)}{\\left(TA - TB\\right) \\left(- b \\left(- v α1 + 1\\right) + c \\left(1 - v\\right)\\right)}\\right) + 1\\right) + \\frac{v \\left(TB \\left(-1 + \\frac{TA b v α1 + TA - TB - c v \\left(1 - TB\\right)}{\\left(TA - TB\\right) \\left(- b \\left(- v α1 + 1\\right) + c \\left(1 - v\\right)\\right)}\\right) \\left(α1 - 1\\right) - 1\\right) \\left(b - c + 1\\right) \\left(TA b v α1 + TA - TB - c v \\left(1 - TB\\right)\\right)}{\\left(TA - TB\\right) \\left(- b \\left(- v α1 + 1\\right) + c \\left(1 - v\\right)\\right)} + \\left(1 + \\frac{\\left(b - c\\right) \\left(TA b v α1 + TA - TB - c v \\left(1 - TB\\right)\\right)}{\\left(TA - TB\\right) \\left(- b \\left(- v α1 + 1\\right) + c \\left(1 - v\\right)\\right)}\\right) \\left(v - 1\\right) \\left(\\left(-1 + \\frac{TA b v α1 + TA - TB - c v \\left(1 - TB\\right)}{\\left(TA - TB\\right) \\left(- b \\left(- v α1 + 1\\right) + c \\left(1 - v\\right)\\right)}\\right) \\left(α1 \\left(TB - 1\\right) + \\left(α1 - 1\\right) \\left(\\left(-1 + \\frac{TA b v α1 + TA - TB - c v \\left(1 - TB\\right)}{\\left(TA - TB\\right) \\left(- b \\left(- v α1 + 1\\right) + c \\left(1 - v\\right)\\right)}\\right) \\left(TB - 1\\right) + \\frac{TA b v α1 + TA - TB - c v \\left(1 - TB\\right)}{\\left(TA - TB\\right) \\left(- b \\left(- v α1 + 1\\right) + c \\left(1 - v\\right)\\right)}\\right)\\right) + \\frac{\\left(α1 - \\left(α1 - 1\\right) \\left(\\left(-1 + \\frac{TA b v α1 + TA - TB - c v \\left(1 - TB\\right)}{\\left(TA - TB\\right) \\left(- b \\left(- v α1 + 1\\right) + c \\left(1 - v\\right)\\right)}\\right) \\left(TB - 1\\right) + \\frac{TA b v α1 + TA - TB - c v \\left(1 - TB\\right)}{\\left(TA - TB\\right) \\left(- b \\left(- v α1 + 1\\right) + c \\left(1 - v\\right)\\right)}\\right)\\right) \\left(TA b v α1 + TA - TB - c v \\left(1 - TB\\right)\\right)}{\\left(TA - TB\\right) \\left(- b \\left(- v α1 + 1\\right) + c \\left(1 - v\\right)\\right)}\\right)\\right) + \\left(\\frac{TB v \\left(-1 + \\frac{TA b v α1 + TA - TB - c v \\left(1 - TB\\right)}{\\left(TA - TB\\right) \\left(- b \\left(- v α1 + 1\\right) + c \\left(1 - v\\right)\\right)}\\right) \\left(c - 1\\right) \\left(TA b v α1 + TA - TB - c v \\left(1 - TB\\right)\\right)}{\\left(TA - TB\\right) \\left(- b \\left(- v α1 + 1\\right) + c \\left(1 - v\\right)\\right)} + \\frac{TB v \\left(-1 + \\frac{TA b v α1 + TA - TB - c v \\left(1 - TB\\right)}{\\left(TA - TB\\right) \\left(- b \\left(- v α1 + 1\\right) + c \\left(1 - v\\right)\\right)}\\right) \\left(b - c + 1\\right) \\left(TA b v α1 + TA - TB - c v \\left(1 - TB\\right)\\right)}{\\left(TA - TB\\right) \\left(- b \\left(- v α1 + 1\\right) + c \\left(1 - v\\right)\\right)} + \\left(1 + \\frac{\\left(b - c\\right) \\left(TA b v α1 + TA - TB - c v \\left(1 - TB\\right)\\right)}{\\left(TA - TB\\right) \\left(- b \\left(- v α1 + 1\\right) + c \\left(1 - v\\right)\\right)}\\right) \\left(v - 1\\right) \\left(\\left(-1 + \\frac{TA b v α1 + TA - TB - c v \\left(1 - TB\\right)}{\\left(TA - TB\\right) \\left(- b \\left(- v α1 + 1\\right) + c \\left(1 - v\\right)\\right)}\\right) \\left(TB + \\left(-1 + \\frac{TA b v α1 + TA - TB - c v \\left(1 - TB\\right)}{\\left(TA - TB\\right) \\left(- b \\left(- v α1 + 1\\right) + c \\left(1 - v\\right)\\right)}\\right) \\left(TB - 1\\right) - 1 + \\frac{TA b v α1 + TA - TB - c v \\left(1 - TB\\right)}{\\left(TA - TB\\right) \\left(- b \\left(- v α1 + 1\\right) + c \\left(1 - v\\right)\\right)}\\right) + \\frac{\\left(- \\left(-1 + \\frac{TA b v α1 + TA - TB - c v \\left(1 - TB\\right)}{\\left(TA - TB\\right) \\left(- b \\left(- v α1 + 1\\right) + c \\left(1 - v\\right)\\right)}\\right) \\left(TB - 1\\right) + 1 - \\frac{TA b v α1 + TA - TB - c v \\left(1 - TB\\right)}{\\left(TA - TB\\right) \\left(- b \\left(- v α1 + 1\\right) + c \\left(1 - v\\right)\\right)}\\right) \\left(TA b v α1 + TA - TB - c v \\left(1 - TB\\right)\\right)}{\\left(TA - TB\\right) \\left(- b \\left(- v α1 + 1\\right) + c \\left(1 - v\\right)\\right)}\\right)\\right) \\left(- \\frac{TA b v α1 \\left(TA b v α1 + TA - TB - c v \\left(1 - TB\\right)\\right)}{\\left(TA - TB\\right) \\left(- b \\left(- v α1 + 1\\right) + c \\left(1 - v\\right)\\right)} + \\frac{TA b v α1 \\left(TA b v α1 + TA - TB - c v \\left(1 - TB\\right)\\right)^{2}}{\\left(TA - TB\\right)^{2} \\left(- b \\left(- v α1 + 1\\right) + c \\left(1 - v\\right)\\right)^{2}} - \\frac{TA b \\left(TA b v α1 + TA - TB - c v \\left(1 - TB\\right)\\right)^{2}}{\\left(TA - TB\\right)^{2} \\left(- b \\left(- v α1 + 1\\right) + c \\left(1 - v\\right)\\right)^{2}} - \\frac{TA c v \\left(TA b v α1 + TA - TB - c v \\left(1 - TB\\right)\\right)^{2}}{\\left(TA - TB\\right)^{2} \\left(- b \\left(- v α1 + 1\\right) + c \\left(1 - v\\right)\\right)^{2}} + \\frac{TA c \\left(TA b v α1 + TA - TB - c v \\left(1 - TB\\right)\\right)^{2}}{\\left(TA - TB\\right)^{2} \\left(- b \\left(- v α1 + 1\\right) + c \\left(1 - v\\right)\\right)^{2}} - \\frac{TA \\left(TA b v α1 + TA - TB - c v \\left(1 - TB\\right)\\right)}{\\left(TA - TB\\right) \\left(- b \\left(- v α1 + 1\\right) + c \\left(1 - v\\right)\\right)} + \\frac{b \\left(TA b v α1 + TA - TB - c v \\left(1 - TB\\right)\\right)}{\\left(TA - TB\\right) \\left(- b \\left(- v α1 + 1\\right) + c \\left(1 - v\\right)\\right)} + \\frac{c v \\left(TA b v α1 + TA - TB - c v \\left(1 - TB\\right)\\right)}{\\left(TA - TB\\right) \\left(- b \\left(- v α1 + 1\\right) + c \\left(1 - v\\right)\\right)} - \\frac{c \\left(TA b v α1 + TA - TB - c v \\left(1 - TB\\right)\\right)}{\\left(TA - TB\\right) \\left(- b \\left(- v α1 + 1\\right) + c \\left(1 - v\\right)\\right)} + 1\\right)\\right)}{\\left(1 + \\frac{\\left(b - c\\right) \\left(TA b v α1 + TA - TB - c v \\left(1 - TB\\right)\\right)}{\\left(TA - TB\\right) \\left(- b \\left(- v α1 + 1\\right) + c \\left(1 - v\\right)\\right)}\\right) \\left(\\frac{b \\left(TA b v α1 + TA - TB - c v \\left(1 - TB\\right)\\right)}{\\left(TA - TB\\right) \\left(- b \\left(- v α1 + 1\\right) + c \\left(1 - v\\right)\\right)} - \\frac{c \\left(TA b v α1 + TA - TB - c v \\left(1 - TB\\right)\\right)}{\\left(TA - TB\\right) \\left(- b \\left(- v α1 + 1\\right) + c \\left(1 - v\\right)\\right)} + 1\\right)}}{2 \\left(\\frac{\\left(\\frac{TA b v α1 \\left(TA b v α1 + TA - TB - c v \\left(1 - TB\\right)\\right)}{\\left(TA - TB\\right) \\left(- b \\left(- v α1 + 1\\right) + c \\left(1 - v\\right)\\right)} - \\frac{TA b v α1 \\left(TA b v α1 + TA - TB - c v \\left(1 - TB\\right)\\right)^{2}}{\\left(TA - TB\\right)^{2} \\left(- b \\left(- v α1 + 1\\right) + c \\left(1 - v\\right)\\right)^{2}} + \\frac{TA b \\left(TA b v α1 + TA - TB - c v \\left(1 - TB\\right)\\right)^{2}}{\\left(TA - TB\\right)^{2} \\left(- b \\left(- v α1 + 1\\right) + c \\left(1 - v\\right)\\right)^{2}} + \\frac{TA c v \\left(TA b v α1 + TA - TB - c v \\left(1 - TB\\right)\\right)^{2}}{\\left(TA - TB\\right)^{2} \\left(- b \\left(- v α1 + 1\\right) + c \\left(1 - v\\right)\\right)^{2}} - \\frac{TA c \\left(TA b v α1 + TA - TB - c v \\left(1 - TB\\right)\\right)^{2}}{\\left(TA - TB\\right)^{2} \\left(- b \\left(- v α1 + 1\\right) + c \\left(1 - v\\right)\\right)^{2}} + \\frac{TA \\left(TA b v α1 + TA - TB - c v \\left(1 - TB\\right)\\right)}{\\left(TA - TB\\right) \\left(- b \\left(- v α1 + 1\\right) + c \\left(1 - v\\right)\\right)} - \\frac{TB b v α1 \\left(TA b v α1 + TA - TB - c v \\left(1 - TB\\right)\\right)}{\\left(TA - TB\\right) \\left(- b \\left(- v α1 + 1\\right) + c \\left(1 - v\\right)\\right)} + \\frac{TB b v α1 \\left(TA b v α1 + TA - TB - c v \\left(1 - TB\\right)\\right)^{2}}{\\left(TA - TB\\right)^{2} \\left(- b \\left(- v α1 + 1\\right) + c \\left(1 - v\\right)\\right)^{2}} + \\frac{TB b \\left(TA b v α1 + TA - TB - c v \\left(1 - TB\\right)\\right)}{\\left(TA - TB\\right) \\left(- b \\left(- v α1 + 1\\right) + c \\left(1 - v\\right)\\right)} - \\frac{TB b \\left(TA b v α1 + TA - TB - c v \\left(1 - TB\\right)\\right)^{2}}{\\left(TA - TB\\right)^{2} \\left(- b \\left(- v α1 + 1\\right) + c \\left(1 - v\\right)\\right)^{2}} - TB c v + \\frac{2 TB c v \\left(TA b v α1 + TA - TB - c v \\left(1 - TB\\right)\\right)}{\\left(TA - TB\\right) \\left(- b \\left(- v α1 + 1\\right) + c \\left(1 - v\\right)\\right)} - \\frac{TB c v \\left(TA b v α1 + TA - TB - c v \\left(1 - TB\\right)\\right)^{2}}{\\left(TA - TB\\right)^{2} \\left(- b \\left(- v α1 + 1\\right) + c \\left(1 - v\\right)\\right)^{2}} - \\frac{TB c \\left(TA b v α1 + TA - TB - c v \\left(1 - TB\\right)\\right)}{\\left(TA - TB\\right) \\left(- b \\left(- v α1 + 1\\right) + c \\left(1 - v\\right)\\right)} + \\frac{TB c \\left(TA b v α1 + TA - TB - c v \\left(1 - TB\\right)\\right)^{2}}{\\left(TA - TB\\right)^{2} \\left(- b \\left(- v α1 + 1\\right) + c \\left(1 - v\\right)\\right)^{2}} + TB - \\frac{TB \\left(TA b v α1 + TA - TB - c v \\left(1 - TB\\right)\\right)}{\\left(TA - TB\\right) \\left(- b \\left(- v α1 + 1\\right) + c \\left(1 - v\\right)\\right)} - \\frac{2 b \\left(TA b v α1 + TA - TB - c v \\left(1 - TB\\right)\\right)}{\\left(TA - TB\\right) \\left(- b \\left(- v α1 + 1\\right) + c \\left(1 - v\\right)\\right)} + c v - \\frac{2 c v \\left(TA b v α1 + TA - TB - c v \\left(1 - TB\\right)\\right)}{\\left(TA - TB\\right) \\left(- b \\left(- v α1 + 1\\right) + c \\left(1 - v\\right)\\right)} + \\frac{2 c \\left(TA b v α1 + TA - TB - c v \\left(1 - TB\\right)\\right)}{\\left(TA - TB\\right) \\left(- b \\left(- v α1 + 1\\right) + c \\left(1 - v\\right)\\right)} - 2\\right)^{2}}{\\left(\\frac{b \\left(TA b v α1 + TA - TB - c v \\left(1 - TB\\right)\\right)}{\\left(TA - TB\\right) \\left(- b \\left(- v α1 + 1\\right) + c \\left(1 - v\\right)\\right)} - \\frac{c \\left(TA b v α1 + TA - TB - c v \\left(1 - TB\\right)\\right)}{\\left(TA - TB\\right) \\left(- b \\left(- v α1 + 1\\right) + c \\left(1 - v\\right)\\right)} + 1\\right)^{2}} + \\frac{4 \\left(\\frac{TA TB \\left(-1 + \\frac{TA b v α1 + TA - TB - c v \\left(1 - TB\\right)}{\\left(TA - TB\\right) \\left(- b \\left(- v α1 + 1\\right) + c \\left(1 - v\\right)\\right)}\\right) \\left(v \\left(c - 1\\right) \\left(α1 + \\left(-1 + \\frac{TA b v α1 + TA - TB - c v \\left(1 - TB\\right)}{\\left(TA - TB\\right) \\left(- b \\left(- v α1 + 1\\right) + c \\left(1 - v\\right)\\right)}\\right) \\left(α1 - 1\\right)\\right) + \\frac{v \\left(α1 - 1\\right) \\left(b - c + 1\\right) \\left(TA b v α1 + TA - TB - c v \\left(1 - TB\\right)\\right)}{\\left(TA - TB\\right) \\left(- b \\left(- v α1 + 1\\right) + c \\left(1 - v\\right)\\right)} + \\left(1 + \\frac{\\left(b - c\\right) \\left(TA b v α1 + TA - TB - c v \\left(1 - TB\\right)\\right)}{\\left(TA - TB\\right) \\left(- b \\left(- v α1 + 1\\right) + c \\left(1 - v\\right)\\right)}\\right) \\left(v - 1\\right) \\left(α1 + \\left(-1 + \\frac{TA b v α1 + TA - TB - c v \\left(1 - TB\\right)}{\\left(TA - TB\\right) \\left(- b \\left(- v α1 + 1\\right) + c \\left(1 - v\\right)\\right)}\\right) \\left(α1 - 1\\right) - \\frac{\\left(α1 - 1\\right) \\left(TA b v α1 + TA - TB - c v \\left(1 - TB\\right)\\right)}{\\left(TA - TB\\right) \\left(- b \\left(- v α1 + 1\\right) + c \\left(1 - v\\right)\\right)}\\right)\\right) \\left(TA b v α1 + TA - TB - c v \\left(1 - TB\\right)\\right) \\left(b v α1 - \\frac{b v α1 \\left(TA b v α1 + TA - TB - c v \\left(1 - TB\\right)\\right)}{\\left(TA - TB\\right) \\left(- b \\left(- v α1 + 1\\right) + c \\left(1 - v\\right)\\right)} + \\frac{b \\left(TA b v α1 + TA - TB - c v \\left(1 - TB\\right)\\right)}{\\left(TA - TB\\right) \\left(- b \\left(- v α1 + 1\\right) + c \\left(1 - v\\right)\\right)} + \\frac{c v \\left(TA b v α1 + TA - TB - c v \\left(1 - TB\\right)\\right)}{\\left(TA - TB\\right) \\left(- b \\left(- v α1 + 1\\right) + c \\left(1 - v\\right)\\right)} - \\frac{c \\left(TA b v α1 + TA - TB - c v \\left(1 - TB\\right)\\right)}{\\left(TA - TB\\right) \\left(- b \\left(- v α1 + 1\\right) + c \\left(1 - v\\right)\\right)} + 1\\right)}{\\left(TA - TB\\right) \\left(- b \\left(- v α1 + 1\\right) + c \\left(1 - v\\right)\\right)} + \\left(- v \\left(-1 + \\frac{TA b v α1 + TA - TB - c v \\left(1 - TB\\right)}{\\left(TA - TB\\right) \\left(- b \\left(- v α1 + 1\\right) + c \\left(1 - v\\right)\\right)}\\right) \\left(c - 1\\right) \\left(- \\frac{TB α1 \\left(TA b v α1 + TA - TB - c v \\left(1 - TB\\right)\\right)}{\\left(TA - TB\\right) \\left(- b \\left(- v α1 + 1\\right) + c \\left(1 - v\\right)\\right)} + TB \\left(-1 + \\frac{TA b v α1 + TA - TB - c v \\left(1 - TB\\right)}{\\left(TA - TB\\right) \\left(- b \\left(- v α1 + 1\\right) + c \\left(1 - v\\right)\\right)}\\right) + 1\\right) + \\frac{v \\left(TB \\left(-1 + \\frac{TA b v α1 + TA - TB - c v \\left(1 - TB\\right)}{\\left(TA - TB\\right) \\left(- b \\left(- v α1 + 1\\right) + c \\left(1 - v\\right)\\right)}\\right) \\left(α1 - 1\\right) - 1\\right) \\left(b - c + 1\\right) \\left(TA b v α1 + TA - TB - c v \\left(1 - TB\\right)\\right)}{\\left(TA - TB\\right) \\left(- b \\left(- v α1 + 1\\right) + c \\left(1 - v\\right)\\right)} + \\left(1 + \\frac{\\left(b - c\\right) \\left(TA b v α1 + TA - TB - c v \\left(1 - TB\\right)\\right)}{\\left(TA - TB\\right) \\left(- b \\left(- v α1 + 1\\right) + c \\left(1 - v\\right)\\right)}\\right) \\left(v - 1\\right) \\left(\\left(-1 + \\frac{TA b v α1 + TA - TB - c v \\left(1 - TB\\right)}{\\left(TA - TB\\right) \\left(- b \\left(- v α1 + 1\\right) + c \\left(1 - v\\right)\\right)}\\right) \\left(α1 \\left(TB - 1\\right) + \\left(α1 - 1\\right) \\left(\\left(-1 + \\frac{TA b v α1 + TA - TB - c v \\left(1 - TB\\right)}{\\left(TA - TB\\right) \\left(- b \\left(- v α1 + 1\\right) + c \\left(1 - v\\right)\\right)}\\right) \\left(TB - 1\\right) + \\frac{TA b v α1 + TA - TB - c v \\left(1 - TB\\right)}{\\left(TA - TB\\right) \\left(- b \\left(- v α1 + 1\\right) + c \\left(1 - v\\right)\\right)}\\right)\\right) + \\frac{\\left(α1 - \\left(α1 - 1\\right) \\left(\\left(-1 + \\frac{TA b v α1 + TA - TB - c v \\left(1 - TB\\right)}{\\left(TA - TB\\right) \\left(- b \\left(- v α1 + 1\\right) + c \\left(1 - v\\right)\\right)}\\right) \\left(TB - 1\\right) + \\frac{TA b v α1 + TA - TB - c v \\left(1 - TB\\right)}{\\left(TA - TB\\right) \\left(- b \\left(- v α1 + 1\\right) + c \\left(1 - v\\right)\\right)}\\right)\\right) \\left(TA b v α1 + TA - TB - c v \\left(1 - TB\\right)\\right)}{\\left(TA - TB\\right) \\left(- b \\left(- v α1 + 1\\right) + c \\left(1 - v\\right)\\right)}\\right)\\right) \\left(- \\frac{TA b v α1 \\left(TA b v α1 + TA - TB - c v \\left(1 - TB\\right)\\right)}{\\left(TA - TB\\right) \\left(- b \\left(- v α1 + 1\\right) + c \\left(1 - v\\right)\\right)} + \\frac{TA b v α1 \\left(TA b v α1 + TA - TB - c v \\left(1 - TB\\right)\\right)^{2}}{\\left(TA - TB\\right)^{2} \\left(- b \\left(- v α1 + 1\\right) + c \\left(1 - v\\right)\\right)^{2}} - \\frac{TA b \\left(TA b v α1 + TA - TB - c v \\left(1 - TB\\right)\\right)^{2}}{\\left(TA - TB\\right)^{2} \\left(- b \\left(- v α1 + 1\\right) + c \\left(1 - v\\right)\\right)^{2}} - \\frac{TA c v \\left(TA b v α1 + TA - TB - c v \\left(1 - TB\\right)\\right)^{2}}{\\left(TA - TB\\right)^{2} \\left(- b \\left(- v α1 + 1\\right) + c \\left(1 - v\\right)\\right)^{2}} + \\frac{TA c \\left(TA b v α1 + TA - TB - c v \\left(1 - TB\\right)\\right)^{2}}{\\left(TA - TB\\right)^{2} \\left(- b \\left(- v α1 + 1\\right) + c \\left(1 - v\\right)\\right)^{2}} - \\frac{TA \\left(TA b v α1 + TA - TB - c v \\left(1 - TB\\right)\\right)}{\\left(TA - TB\\right) \\left(- b \\left(- v α1 + 1\\right) + c \\left(1 - v\\right)\\right)} + \\frac{b \\left(TA b v α1 + TA - TB - c v \\left(1 - TB\\right)\\right)}{\\left(TA - TB\\right) \\left(- b \\left(- v α1 + 1\\right) + c \\left(1 - v\\right)\\right)} + \\frac{c v \\left(TA b v α1 + TA - TB - c v \\left(1 - TB\\right)\\right)}{\\left(TA - TB\\right) \\left(- b \\left(- v α1 + 1\\right) + c \\left(1 - v\\right)\\right)} - \\frac{c \\left(TA b v α1 + TA - TB - c v \\left(1 - TB\\right)\\right)}{\\left(TA - TB\\right) \\left(- b \\left(- v α1 + 1\\right) + c \\left(1 - v\\right)\\right)} + 1\\right)\\right)}{\\left(1 + \\frac{\\left(b - c\\right) \\left(TA b v α1 + TA - TB - c v \\left(1 - TB\\right)\\right)}{\\left(TA - TB\\right) \\left(- b \\left(- v α1 + 1\\right) + c \\left(1 - v\\right)\\right)}\\right) \\left(\\frac{b \\left(TA b v α1 + TA - TB - c v \\left(1 - TB\\right)\\right)}{\\left(TA - TB\\right) \\left(- b \\left(- v α1 + 1\\right) + c \\left(1 - v\\right)\\right)} - \\frac{c \\left(TA b v α1 + TA - TB - c v \\left(1 - TB\\right)\\right)}{\\left(TA - TB\\right) \\left(- b \\left(- v α1 + 1\\right) + c \\left(1 - v\\right)\\right)} + 1\\right)}\\right)^{0.5}} - \\frac{\\frac{TA b v \\left(TA b v α1 + TA - TB - c v \\left(1 - TB\\right)\\right)}{\\left(TA - TB\\right) \\left(- b \\left(- v α1 + 1\\right) + c \\left(1 - v\\right)\\right)} - \\frac{TA b v \\left(TA b v α1 + TA - TB - c v \\left(1 - TB\\right)\\right)^{2}}{\\left(TA - TB\\right)^{2} \\left(- b \\left(- v α1 + 1\\right) + c \\left(1 - v\\right)\\right)^{2}} - \\frac{TB b v \\left(TA b v α1 + TA - TB - c v \\left(1 - TB\\right)\\right)}{\\left(TA - TB\\right) \\left(- b \\left(- v α1 + 1\\right) + c \\left(1 - v\\right)\\right)} + \\frac{TB b v \\left(TA b v α1 + TA - TB - c v \\left(1 - TB\\right)\\right)^{2}}{\\left(TA - TB\\right)^{2} \\left(- b \\left(- v α1 + 1\\right) + c \\left(1 - v\\right)\\right)^{2}}}{2 \\left(\\frac{b \\left(TA b v α1 + TA - TB - c v \\left(1 - TB\\right)\\right)}{\\left(TA - TB\\right) \\left(- b \\left(- v α1 + 1\\right) + c \\left(1 - v\\right)\\right)} - \\frac{c \\left(TA b v α1 + TA - TB - c v \\left(1 - TB\\right)\\right)}{\\left(TA - TB\\right) \\left(- b \\left(- v α1 + 1\\right) + c \\left(1 - v\\right)\\right)} + 1\\right)}$"
     },
     "metadata": {},
     "execution_count": 36
    }
   ],
   "source": [
    "lamda = (-a2 + (a2**2-4*a3)**0.5)/2\n",
    "lamda = lamda.subs(α2, α1+ε)\n",
    "lamda_diff = diff(lamda, ε)\n",
    "lamda_diff_epsilon_0 = lamda_diff.subs(ε, 0)\n",
    "lamda_diff_epsilon_0 = lamda_diff_epsilon_0.subs(p, (α1*b*v*TA-c*v*(1-TB) + TA-TB)/((c*(1-v)-b*(1-α1*v))*(TA-TB)))\n",
    "lamda_diff_epsilon_0\n",
    "\n",
    "#lamda_diff_epsilon_0 = lamda_diff_epsilon_0.subs(TA, 0.5)\n",
    "#lamda_diff_epsilon_0 = lamda_diff_epsilon_0.subs(TB, 0.7)\n",
    "#lamda_diff_epsilon_0 = lamda_diff_epsilon_0.subs(c, 0.5)\n",
    "#lamda_diff_epsilon_0 = lamda_diff_epsilon_0.subs(b, 2)\n",
    "#lamda_diff_epsilon_0 = lamda_diff_epsilon_0.subs(α1, 0.5)\n",
    "\n",
    "\n",
    "\n",
    "\n",
    "#simplify(lamda_diff_epsilon_0)"
   ]
  },
  {
   "cell_type": "code",
   "execution_count": 57,
   "metadata": {},
   "outputs": [
    {
     "output_type": "display_data",
     "data": {
      "text/plain": "<Figure size 432x288 with 1 Axes>",
      "image/svg+xml": "<?xml version=\"1.0\" encoding=\"utf-8\" standalone=\"no\"?>\r\n<!DOCTYPE svg PUBLIC \"-//W3C//DTD SVG 1.1//EN\"\r\n  \"http://www.w3.org/Graphics/SVG/1.1/DTD/svg11.dtd\">\r\n<!-- Created with matplotlib (https://matplotlib.org/) -->\r\n<svg height=\"288.921094pt\" version=\"1.1\" viewBox=\"0 0 418.396978 288.921094\" width=\"418.396978pt\" xmlns=\"http://www.w3.org/2000/svg\" xmlns:xlink=\"http://www.w3.org/1999/xlink\">\r\n <metadata>\r\n  <rdf:RDF xmlns:cc=\"http://creativecommons.org/ns#\" xmlns:dc=\"http://purl.org/dc/elements/1.1/\" xmlns:rdf=\"http://www.w3.org/1999/02/22-rdf-syntax-ns#\">\r\n   <cc:Work>\r\n    <dc:type rdf:resource=\"http://purl.org/dc/dcmitype/StillImage\"/>\r\n    <dc:date>2021-05-05T15:17:47.232242</dc:date>\r\n    <dc:format>image/svg+xml</dc:format>\r\n    <dc:creator>\r\n     <cc:Agent>\r\n      <dc:title>Matplotlib v3.3.1, https://matplotlib.org/</dc:title>\r\n     </cc:Agent>\r\n    </dc:creator>\r\n   </cc:Work>\r\n  </rdf:RDF>\r\n </metadata>\r\n <defs>\r\n  <style type=\"text/css\">*{stroke-linecap:butt;stroke-linejoin:round;}</style>\r\n </defs>\r\n <g id=\"figure_1\">\r\n  <g id=\"patch_1\">\r\n   <path d=\"M 0 288.921094 \r\nL 418.396978 288.921094 \r\nL 418.396978 0 \r\nL 0 0 \r\nz\r\n\" style=\"fill:none;\"/>\r\n  </g>\r\n  <g id=\"axes_1\">\r\n   <g id=\"patch_2\">\r\n    <path d=\"M 7.2 281.721094 \r\nL 408.237603 281.721094 \r\nL 408.237603 15.821094 \r\nL 7.2 15.821094 \r\nz\r\n\" style=\"fill:#ffffff;\"/>\r\n   </g>\r\n   <g id=\"matplotlib.axis_1\">\r\n    <g id=\"xtick_1\">\r\n     <g id=\"line2d_1\">\r\n      <defs>\r\n       <path d=\"M 0 0 \r\nL 0 3.5 \r\n\" id=\"m1764d218bb\" style=\"stroke:#000000;stroke-width:0.8;\"/>\r\n      </defs>\r\n      <g>\r\n       <use style=\"stroke:#000000;stroke-width:0.8;\" x=\"58.572586\" xlink:href=\"#m1764d218bb\" y=\"206.785304\"/>\r\n      </g>\r\n     </g>\r\n     <g id=\"text_1\">\r\n      <!-- 0.0 -->\r\n      <g transform=\"translate(50.621023 221.383742)scale(0.1 -0.1)\">\r\n       <defs>\r\n        <path d=\"M 31.78125 66.40625 \r\nQ 24.171875 66.40625 20.328125 58.90625 \r\nQ 16.5 51.421875 16.5 36.375 \r\nQ 16.5 21.390625 20.328125 13.890625 \r\nQ 24.171875 6.390625 31.78125 6.390625 \r\nQ 39.453125 6.390625 43.28125 13.890625 \r\nQ 47.125 21.390625 47.125 36.375 \r\nQ 47.125 51.421875 43.28125 58.90625 \r\nQ 39.453125 66.40625 31.78125 66.40625 \r\nz\r\nM 31.78125 74.21875 \r\nQ 44.046875 74.21875 50.515625 64.515625 \r\nQ 56.984375 54.828125 56.984375 36.375 \r\nQ 56.984375 17.96875 50.515625 8.265625 \r\nQ 44.046875 -1.421875 31.78125 -1.421875 \r\nQ 19.53125 -1.421875 13.0625 8.265625 \r\nQ 6.59375 17.96875 6.59375 36.375 \r\nQ 6.59375 54.828125 13.0625 64.515625 \r\nQ 19.53125 74.21875 31.78125 74.21875 \r\nz\r\n\" id=\"DejaVuSans-48\"/>\r\n        <path d=\"M 10.6875 12.40625 \r\nL 21 12.40625 \r\nL 21 0 \r\nL 10.6875 0 \r\nz\r\n\" id=\"DejaVuSans-46\"/>\r\n       </defs>\r\n       <use xlink:href=\"#DejaVuSans-48\"/>\r\n       <use x=\"63.623047\" xlink:href=\"#DejaVuSans-46\"/>\r\n       <use x=\"95.410156\" xlink:href=\"#DejaVuSans-48\"/>\r\n      </g>\r\n     </g>\r\n    </g>\r\n    <g id=\"xtick_2\">\r\n     <g id=\"line2d_2\">\r\n      <g>\r\n       <use style=\"stroke:#000000;stroke-width:0.8;\" x=\"124.859793\" xlink:href=\"#m1764d218bb\" y=\"206.785304\"/>\r\n      </g>\r\n     </g>\r\n     <g id=\"text_2\">\r\n      <!-- 0.2 -->\r\n      <g transform=\"translate(116.90823 221.383742)scale(0.1 -0.1)\">\r\n       <defs>\r\n        <path d=\"M 19.1875 8.296875 \r\nL 53.609375 8.296875 \r\nL 53.609375 0 \r\nL 7.328125 0 \r\nL 7.328125 8.296875 \r\nQ 12.9375 14.109375 22.625 23.890625 \r\nQ 32.328125 33.6875 34.8125 36.53125 \r\nQ 39.546875 41.84375 41.421875 45.53125 \r\nQ 43.3125 49.21875 43.3125 52.78125 \r\nQ 43.3125 58.59375 39.234375 62.25 \r\nQ 35.15625 65.921875 28.609375 65.921875 \r\nQ 23.96875 65.921875 18.8125 64.3125 \r\nQ 13.671875 62.703125 7.8125 59.421875 \r\nL 7.8125 69.390625 \r\nQ 13.765625 71.78125 18.9375 73 \r\nQ 24.125 74.21875 28.421875 74.21875 \r\nQ 39.75 74.21875 46.484375 68.546875 \r\nQ 53.21875 62.890625 53.21875 53.421875 \r\nQ 53.21875 48.921875 51.53125 44.890625 \r\nQ 49.859375 40.875 45.40625 35.40625 \r\nQ 44.1875 33.984375 37.640625 27.21875 \r\nQ 31.109375 20.453125 19.1875 8.296875 \r\nz\r\n\" id=\"DejaVuSans-50\"/>\r\n       </defs>\r\n       <use xlink:href=\"#DejaVuSans-48\"/>\r\n       <use x=\"63.623047\" xlink:href=\"#DejaVuSans-46\"/>\r\n       <use x=\"95.410156\" xlink:href=\"#DejaVuSans-50\"/>\r\n      </g>\r\n     </g>\r\n    </g>\r\n    <g id=\"xtick_3\">\r\n     <g id=\"line2d_3\">\r\n      <g>\r\n       <use style=\"stroke:#000000;stroke-width:0.8;\" x=\"191.147\" xlink:href=\"#m1764d218bb\" y=\"206.785304\"/>\r\n      </g>\r\n     </g>\r\n     <g id=\"text_3\">\r\n      <!-- 0.4 -->\r\n      <g transform=\"translate(183.195437 221.383742)scale(0.1 -0.1)\">\r\n       <defs>\r\n        <path d=\"M 37.796875 64.3125 \r\nL 12.890625 25.390625 \r\nL 37.796875 25.390625 \r\nz\r\nM 35.203125 72.90625 \r\nL 47.609375 72.90625 \r\nL 47.609375 25.390625 \r\nL 58.015625 25.390625 \r\nL 58.015625 17.1875 \r\nL 47.609375 17.1875 \r\nL 47.609375 0 \r\nL 37.796875 0 \r\nL 37.796875 17.1875 \r\nL 4.890625 17.1875 \r\nL 4.890625 26.703125 \r\nz\r\n\" id=\"DejaVuSans-52\"/>\r\n       </defs>\r\n       <use xlink:href=\"#DejaVuSans-48\"/>\r\n       <use x=\"63.623047\" xlink:href=\"#DejaVuSans-46\"/>\r\n       <use x=\"95.410156\" xlink:href=\"#DejaVuSans-52\"/>\r\n      </g>\r\n     </g>\r\n    </g>\r\n    <g id=\"xtick_4\">\r\n     <g id=\"line2d_4\">\r\n      <g>\r\n       <use style=\"stroke:#000000;stroke-width:0.8;\" x=\"257.434207\" xlink:href=\"#m1764d218bb\" y=\"206.785304\"/>\r\n      </g>\r\n     </g>\r\n     <g id=\"text_4\">\r\n      <!-- 0.6 -->\r\n      <g transform=\"translate(249.482645 221.383742)scale(0.1 -0.1)\">\r\n       <defs>\r\n        <path d=\"M 33.015625 40.375 \r\nQ 26.375 40.375 22.484375 35.828125 \r\nQ 18.609375 31.296875 18.609375 23.390625 \r\nQ 18.609375 15.53125 22.484375 10.953125 \r\nQ 26.375 6.390625 33.015625 6.390625 \r\nQ 39.65625 6.390625 43.53125 10.953125 \r\nQ 47.40625 15.53125 47.40625 23.390625 \r\nQ 47.40625 31.296875 43.53125 35.828125 \r\nQ 39.65625 40.375 33.015625 40.375 \r\nz\r\nM 52.59375 71.296875 \r\nL 52.59375 62.3125 \r\nQ 48.875 64.0625 45.09375 64.984375 \r\nQ 41.3125 65.921875 37.59375 65.921875 \r\nQ 27.828125 65.921875 22.671875 59.328125 \r\nQ 17.53125 52.734375 16.796875 39.40625 \r\nQ 19.671875 43.65625 24.015625 45.921875 \r\nQ 28.375 48.1875 33.59375 48.1875 \r\nQ 44.578125 48.1875 50.953125 41.515625 \r\nQ 57.328125 34.859375 57.328125 23.390625 \r\nQ 57.328125 12.15625 50.6875 5.359375 \r\nQ 44.046875 -1.421875 33.015625 -1.421875 \r\nQ 20.359375 -1.421875 13.671875 8.265625 \r\nQ 6.984375 17.96875 6.984375 36.375 \r\nQ 6.984375 53.65625 15.1875 63.9375 \r\nQ 23.390625 74.21875 37.203125 74.21875 \r\nQ 40.921875 74.21875 44.703125 73.484375 \r\nQ 48.484375 72.75 52.59375 71.296875 \r\nz\r\n\" id=\"DejaVuSans-54\"/>\r\n       </defs>\r\n       <use xlink:href=\"#DejaVuSans-48\"/>\r\n       <use x=\"63.623047\" xlink:href=\"#DejaVuSans-46\"/>\r\n       <use x=\"95.410156\" xlink:href=\"#DejaVuSans-54\"/>\r\n      </g>\r\n     </g>\r\n    </g>\r\n    <g id=\"xtick_5\">\r\n     <g id=\"line2d_5\">\r\n      <g>\r\n       <use style=\"stroke:#000000;stroke-width:0.8;\" x=\"323.721414\" xlink:href=\"#m1764d218bb\" y=\"206.785304\"/>\r\n      </g>\r\n     </g>\r\n     <g id=\"text_5\">\r\n      <!-- 0.8 -->\r\n      <g transform=\"translate(315.769852 221.383742)scale(0.1 -0.1)\">\r\n       <defs>\r\n        <path d=\"M 31.78125 34.625 \r\nQ 24.75 34.625 20.71875 30.859375 \r\nQ 16.703125 27.09375 16.703125 20.515625 \r\nQ 16.703125 13.921875 20.71875 10.15625 \r\nQ 24.75 6.390625 31.78125 6.390625 \r\nQ 38.8125 6.390625 42.859375 10.171875 \r\nQ 46.921875 13.96875 46.921875 20.515625 \r\nQ 46.921875 27.09375 42.890625 30.859375 \r\nQ 38.875 34.625 31.78125 34.625 \r\nz\r\nM 21.921875 38.8125 \r\nQ 15.578125 40.375 12.03125 44.71875 \r\nQ 8.5 49.078125 8.5 55.328125 \r\nQ 8.5 64.0625 14.71875 69.140625 \r\nQ 20.953125 74.21875 31.78125 74.21875 \r\nQ 42.671875 74.21875 48.875 69.140625 \r\nQ 55.078125 64.0625 55.078125 55.328125 \r\nQ 55.078125 49.078125 51.53125 44.71875 \r\nQ 48 40.375 41.703125 38.8125 \r\nQ 48.828125 37.15625 52.796875 32.3125 \r\nQ 56.78125 27.484375 56.78125 20.515625 \r\nQ 56.78125 9.90625 50.3125 4.234375 \r\nQ 43.84375 -1.421875 31.78125 -1.421875 \r\nQ 19.734375 -1.421875 13.25 4.234375 \r\nQ 6.78125 9.90625 6.78125 20.515625 \r\nQ 6.78125 27.484375 10.78125 32.3125 \r\nQ 14.796875 37.15625 21.921875 38.8125 \r\nz\r\nM 18.3125 54.390625 \r\nQ 18.3125 48.734375 21.84375 45.5625 \r\nQ 25.390625 42.390625 31.78125 42.390625 \r\nQ 38.140625 42.390625 41.71875 45.5625 \r\nQ 45.3125 48.734375 45.3125 54.390625 \r\nQ 45.3125 60.0625 41.71875 63.234375 \r\nQ 38.140625 66.40625 31.78125 66.40625 \r\nQ 25.390625 66.40625 21.84375 63.234375 \r\nQ 18.3125 60.0625 18.3125 54.390625 \r\nz\r\n\" id=\"DejaVuSans-56\"/>\r\n       </defs>\r\n       <use xlink:href=\"#DejaVuSans-48\"/>\r\n       <use x=\"63.623047\" xlink:href=\"#DejaVuSans-46\"/>\r\n       <use x=\"95.410156\" xlink:href=\"#DejaVuSans-56\"/>\r\n      </g>\r\n     </g>\r\n    </g>\r\n    <g id=\"xtick_6\">\r\n     <g id=\"line2d_6\">\r\n      <g>\r\n       <use style=\"stroke:#000000;stroke-width:0.8;\" x=\"390.008621\" xlink:href=\"#m1764d218bb\" y=\"206.785304\"/>\r\n      </g>\r\n     </g>\r\n     <g id=\"text_6\">\r\n      <!-- 1.0 -->\r\n      <g transform=\"translate(382.057059 221.383742)scale(0.1 -0.1)\">\r\n       <defs>\r\n        <path d=\"M 12.40625 8.296875 \r\nL 28.515625 8.296875 \r\nL 28.515625 63.921875 \r\nL 10.984375 60.40625 \r\nL 10.984375 69.390625 \r\nL 28.421875 72.90625 \r\nL 38.28125 72.90625 \r\nL 38.28125 8.296875 \r\nL 54.390625 8.296875 \r\nL 54.390625 0 \r\nL 12.40625 0 \r\nz\r\n\" id=\"DejaVuSans-49\"/>\r\n       </defs>\r\n       <use xlink:href=\"#DejaVuSans-49\"/>\r\n       <use x=\"63.623047\" xlink:href=\"#DejaVuSans-46\"/>\r\n       <use x=\"95.410156\" xlink:href=\"#DejaVuSans-48\"/>\r\n      </g>\r\n     </g>\r\n    </g>\r\n    <g id=\"text_7\">\r\n     <!-- v -->\r\n     <g transform=\"translate(405.278228 235.061867)scale(0.1 -0.1)\">\r\n      <defs>\r\n       <path d=\"M 2.984375 54.6875 \r\nL 12.5 54.6875 \r\nL 29.59375 8.796875 \r\nL 46.6875 54.6875 \r\nL 56.203125 54.6875 \r\nL 35.6875 0 \r\nL 23.484375 0 \r\nz\r\n\" id=\"DejaVuSans-118\"/>\r\n      </defs>\r\n      <use xlink:href=\"#DejaVuSans-118\"/>\r\n     </g>\r\n    </g>\r\n   </g>\r\n   <g id=\"matplotlib.axis_2\">\r\n    <g id=\"ytick_1\">\r\n     <g id=\"line2d_7\">\r\n      <defs>\r\n       <path d=\"M 0 0 \r\nL -3.5 0 \r\n\" id=\"m35bd4bedba\" style=\"stroke:#000000;stroke-width:0.8;\"/>\r\n      </defs>\r\n      <g>\r\n       <use style=\"stroke:#000000;stroke-width:0.8;\" x=\"58.572586\" xlink:href=\"#m35bd4bedba\" y=\"253.107414\"/>\r\n      </g>\r\n     </g>\r\n     <g id=\"text_8\">\r\n      <!-- −0.05 -->\r\n      <g transform=\"translate(20.927273 256.906633)scale(0.1 -0.1)\">\r\n       <defs>\r\n        <path d=\"M 10.59375 35.5 \r\nL 73.1875 35.5 \r\nL 73.1875 27.203125 \r\nL 10.59375 27.203125 \r\nz\r\n\" id=\"DejaVuSans-8722\"/>\r\n        <path d=\"M 10.796875 72.90625 \r\nL 49.515625 72.90625 \r\nL 49.515625 64.59375 \r\nL 19.828125 64.59375 \r\nL 19.828125 46.734375 \r\nQ 21.96875 47.46875 24.109375 47.828125 \r\nQ 26.265625 48.1875 28.421875 48.1875 \r\nQ 40.625 48.1875 47.75 41.5 \r\nQ 54.890625 34.8125 54.890625 23.390625 \r\nQ 54.890625 11.625 47.5625 5.09375 \r\nQ 40.234375 -1.421875 26.90625 -1.421875 \r\nQ 22.3125 -1.421875 17.546875 -0.640625 \r\nQ 12.796875 0.140625 7.71875 1.703125 \r\nL 7.71875 11.625 \r\nQ 12.109375 9.234375 16.796875 8.0625 \r\nQ 21.484375 6.890625 26.703125 6.890625 \r\nQ 35.15625 6.890625 40.078125 11.328125 \r\nQ 45.015625 15.765625 45.015625 23.390625 \r\nQ 45.015625 31 40.078125 35.4375 \r\nQ 35.15625 39.890625 26.703125 39.890625 \r\nQ 22.75 39.890625 18.8125 39.015625 \r\nQ 14.890625 38.140625 10.796875 36.28125 \r\nz\r\n\" id=\"DejaVuSans-53\"/>\r\n       </defs>\r\n       <use xlink:href=\"#DejaVuSans-8722\"/>\r\n       <use x=\"83.789062\" xlink:href=\"#DejaVuSans-48\"/>\r\n       <use x=\"147.412109\" xlink:href=\"#DejaVuSans-46\"/>\r\n       <use x=\"179.199219\" xlink:href=\"#DejaVuSans-48\"/>\r\n       <use x=\"242.822266\" xlink:href=\"#DejaVuSans-53\"/>\r\n      </g>\r\n     </g>\r\n    </g>\r\n    <g id=\"ytick_2\">\r\n     <g id=\"line2d_8\">\r\n      <g>\r\n       <use style=\"stroke:#000000;stroke-width:0.8;\" x=\"58.572586\" xlink:href=\"#m35bd4bedba\" y=\"206.785304\"/>\r\n      </g>\r\n     </g>\r\n     <g id=\"text_9\">\r\n      <!-- 0.00 -->\r\n      <g transform=\"translate(29.306961 210.584523)scale(0.1 -0.1)\">\r\n       <use xlink:href=\"#DejaVuSans-48\"/>\r\n       <use x=\"63.623047\" xlink:href=\"#DejaVuSans-46\"/>\r\n       <use x=\"95.410156\" xlink:href=\"#DejaVuSans-48\"/>\r\n       <use x=\"159.033203\" xlink:href=\"#DejaVuSans-48\"/>\r\n      </g>\r\n     </g>\r\n    </g>\r\n    <g id=\"ytick_3\">\r\n     <g id=\"line2d_9\">\r\n      <g>\r\n       <use style=\"stroke:#000000;stroke-width:0.8;\" x=\"58.572586\" xlink:href=\"#m35bd4bedba\" y=\"160.463194\"/>\r\n      </g>\r\n     </g>\r\n     <g id=\"text_10\">\r\n      <!-- 0.05 -->\r\n      <g transform=\"translate(29.306961 164.262413)scale(0.1 -0.1)\">\r\n       <use xlink:href=\"#DejaVuSans-48\"/>\r\n       <use x=\"63.623047\" xlink:href=\"#DejaVuSans-46\"/>\r\n       <use x=\"95.410156\" xlink:href=\"#DejaVuSans-48\"/>\r\n       <use x=\"159.033203\" xlink:href=\"#DejaVuSans-53\"/>\r\n      </g>\r\n     </g>\r\n    </g>\r\n    <g id=\"ytick_4\">\r\n     <g id=\"line2d_10\">\r\n      <g>\r\n       <use style=\"stroke:#000000;stroke-width:0.8;\" x=\"58.572586\" xlink:href=\"#m35bd4bedba\" y=\"114.141083\"/>\r\n      </g>\r\n     </g>\r\n     <g id=\"text_11\">\r\n      <!-- 0.10 -->\r\n      <g transform=\"translate(29.306961 117.940302)scale(0.1 -0.1)\">\r\n       <use xlink:href=\"#DejaVuSans-48\"/>\r\n       <use x=\"63.623047\" xlink:href=\"#DejaVuSans-46\"/>\r\n       <use x=\"95.410156\" xlink:href=\"#DejaVuSans-49\"/>\r\n       <use x=\"159.033203\" xlink:href=\"#DejaVuSans-48\"/>\r\n      </g>\r\n     </g>\r\n    </g>\r\n    <g id=\"ytick_5\">\r\n     <g id=\"line2d_11\">\r\n      <g>\r\n       <use style=\"stroke:#000000;stroke-width:0.8;\" x=\"58.572586\" xlink:href=\"#m35bd4bedba\" y=\"67.818973\"/>\r\n      </g>\r\n     </g>\r\n     <g id=\"text_12\">\r\n      <!-- 0.15 -->\r\n      <g transform=\"translate(29.306961 71.618192)scale(0.1 -0.1)\">\r\n       <use xlink:href=\"#DejaVuSans-48\"/>\r\n       <use x=\"63.623047\" xlink:href=\"#DejaVuSans-46\"/>\r\n       <use x=\"95.410156\" xlink:href=\"#DejaVuSans-49\"/>\r\n       <use x=\"159.033203\" xlink:href=\"#DejaVuSans-53\"/>\r\n      </g>\r\n     </g>\r\n    </g>\r\n    <g id=\"ytick_6\">\r\n     <g id=\"line2d_12\">\r\n      <g>\r\n       <use style=\"stroke:#000000;stroke-width:0.8;\" x=\"58.572586\" xlink:href=\"#m35bd4bedba\" y=\"21.496863\"/>\r\n      </g>\r\n     </g>\r\n     <g id=\"text_13\">\r\n      <!-- 0.20 -->\r\n      <g transform=\"translate(29.306961 25.296082)scale(0.1 -0.1)\">\r\n       <use xlink:href=\"#DejaVuSans-48\"/>\r\n       <use x=\"63.623047\" xlink:href=\"#DejaVuSans-46\"/>\r\n       <use x=\"95.410156\" xlink:href=\"#DejaVuSans-50\"/>\r\n       <use x=\"159.033203\" xlink:href=\"#DejaVuSans-48\"/>\r\n      </g>\r\n     </g>\r\n    </g>\r\n    <g id=\"text_14\">\r\n     <!-- f(v) -->\r\n     <g transform=\"translate(14.847586 24.442187)rotate(-90)scale(0.1 -0.1)\">\r\n      <defs>\r\n       <path d=\"M 37.109375 75.984375 \r\nL 37.109375 68.5 \r\nL 28.515625 68.5 \r\nQ 23.6875 68.5 21.796875 66.546875 \r\nQ 19.921875 64.59375 19.921875 59.515625 \r\nL 19.921875 54.6875 \r\nL 34.71875 54.6875 \r\nL 34.71875 47.703125 \r\nL 19.921875 47.703125 \r\nL 19.921875 0 \r\nL 10.890625 0 \r\nL 10.890625 47.703125 \r\nL 2.296875 47.703125 \r\nL 2.296875 54.6875 \r\nL 10.890625 54.6875 \r\nL 10.890625 58.5 \r\nQ 10.890625 67.625 15.140625 71.796875 \r\nQ 19.390625 75.984375 28.609375 75.984375 \r\nz\r\n\" id=\"DejaVuSans-102\"/>\r\n       <path d=\"M 31 75.875 \r\nQ 24.46875 64.65625 21.28125 53.65625 \r\nQ 18.109375 42.671875 18.109375 31.390625 \r\nQ 18.109375 20.125 21.3125 9.0625 \r\nQ 24.515625 -2 31 -13.1875 \r\nL 23.1875 -13.1875 \r\nQ 15.875 -1.703125 12.234375 9.375 \r\nQ 8.59375 20.453125 8.59375 31.390625 \r\nQ 8.59375 42.28125 12.203125 53.3125 \r\nQ 15.828125 64.359375 23.1875 75.875 \r\nz\r\n\" id=\"DejaVuSans-40\"/>\r\n       <path d=\"M 8.015625 75.875 \r\nL 15.828125 75.875 \r\nQ 23.140625 64.359375 26.78125 53.3125 \r\nQ 30.421875 42.28125 30.421875 31.390625 \r\nQ 30.421875 20.453125 26.78125 9.375 \r\nQ 23.140625 -1.703125 15.828125 -13.1875 \r\nL 8.015625 -13.1875 \r\nQ 14.5 -2 17.703125 9.0625 \r\nQ 20.90625 20.125 20.90625 31.390625 \r\nQ 20.90625 42.671875 17.703125 53.65625 \r\nQ 14.5 64.65625 8.015625 75.875 \r\nz\r\n\" id=\"DejaVuSans-41\"/>\r\n      </defs>\r\n      <use xlink:href=\"#DejaVuSans-102\"/>\r\n      <use x=\"35.205078\" xlink:href=\"#DejaVuSans-40\"/>\r\n      <use x=\"74.21875\" xlink:href=\"#DejaVuSans-118\"/>\r\n      <use x=\"133.398438\" xlink:href=\"#DejaVuSans-41\"/>\r\n     </g>\r\n    </g>\r\n   </g>\r\n   <g id=\"LineCollection_1\">\r\n    <path clip-path=\"url(#p0e2d842d9d)\" d=\"M 25.428982 27.907457 \r\nL 32.090276 32.374123 \r\n\" style=\"fill:none;stroke:#1f77b4;stroke-width:1.5;\"/>\r\n    <path clip-path=\"url(#p0e2d842d9d)\" d=\"M 32.090276 32.374123 \r\nL 37.613903 36.131546 \r\n\" style=\"fill:none;stroke:#1f77b4;stroke-width:1.5;\"/>\r\n    <path clip-path=\"url(#p0e2d842d9d)\" d=\"M 37.613903 36.131546 \r\nL 42.52868 39.51554 \r\n\" style=\"fill:none;stroke:#1f77b4;stroke-width:1.5;\"/>\r\n    <path clip-path=\"url(#p0e2d842d9d)\" d=\"M 42.52868 39.51554 \r\nL 47.634819 43.071784 \r\n\" style=\"fill:none;stroke:#1f77b4;stroke-width:1.5;\"/>\r\n    <path clip-path=\"url(#p0e2d842d9d)\" d=\"M 47.634819 43.071784 \r\nL 52.394947 46.424054 \r\n\" style=\"fill:none;stroke:#1f77b4;stroke-width:1.5;\"/>\r\n    <path clip-path=\"url(#p0e2d842d9d)\" d=\"M 52.394947 46.424054 \r\nL 57.599567 50.130019 \r\n\" style=\"fill:none;stroke:#1f77b4;stroke-width:1.5;\"/>\r\n    <path clip-path=\"url(#p0e2d842d9d)\" d=\"M 57.599567 50.130019 \r\nL 63.635601 54.48086 \r\n\" style=\"fill:none;stroke:#1f77b4;stroke-width:1.5;\"/>\r\n    <path clip-path=\"url(#p0e2d842d9d)\" d=\"M 63.635601 54.48086 \r\nL 69.371424 58.667502 \r\n\" style=\"fill:none;stroke:#1f77b4;stroke-width:1.5;\"/>\r\n    <path clip-path=\"url(#p0e2d842d9d)\" d=\"M 69.371424 58.667502 \r\nL 76.180778 63.703093 \r\n\" style=\"fill:none;stroke:#1f77b4;stroke-width:1.5;\"/>\r\n    <path clip-path=\"url(#p0e2d842d9d)\" d=\"M 76.180778 63.703093 \r\nL 82.872216 68.719754 \r\n\" style=\"fill:none;stroke:#1f77b4;stroke-width:1.5;\"/>\r\n    <path clip-path=\"url(#p0e2d842d9d)\" d=\"M 82.872216 68.719754 \r\nL 88.478304 72.974065 \r\n\" style=\"fill:none;stroke:#1f77b4;stroke-width:1.5;\"/>\r\n    <path clip-path=\"url(#p0e2d842d9d)\" d=\"M 88.478304 72.974065 \r\nL 94.993209 77.975905 \r\n\" style=\"fill:none;stroke:#1f77b4;stroke-width:1.5;\"/>\r\n    <path clip-path=\"url(#p0e2d842d9d)\" d=\"M 94.993209 77.975905 \r\nL 100.922024 82.580837 \r\n\" style=\"fill:none;stroke:#1f77b4;stroke-width:1.5;\"/>\r\n    <path clip-path=\"url(#p0e2d842d9d)\" d=\"M 100.922024 82.580837 \r\nL 107.345974 87.626168 \r\n\" style=\"fill:none;stroke:#1f77b4;stroke-width:1.5;\"/>\r\n    <path clip-path=\"url(#p0e2d842d9d)\" d=\"M 107.345974 87.626168 \r\nL 113.915627 92.84447 \r\n\" style=\"fill:none;stroke:#1f77b4;stroke-width:1.5;\"/>\r\n    <path clip-path=\"url(#p0e2d842d9d)\" d=\"M 113.915627 92.84447 \r\nL 120.909376 98.462674 \r\n\" style=\"fill:none;stroke:#1f77b4;stroke-width:1.5;\"/>\r\n    <path clip-path=\"url(#p0e2d842d9d)\" d=\"M 120.909376 98.462674 \r\nL 126.329524 102.859981 \r\n\" style=\"fill:none;stroke:#1f77b4;stroke-width:1.5;\"/>\r\n    <path clip-path=\"url(#p0e2d842d9d)\" d=\"M 126.329524 102.859981 \r\nL 131.580302 107.154559 \r\n\" style=\"fill:none;stroke:#1f77b4;stroke-width:1.5;\"/>\r\n    <path clip-path=\"url(#p0e2d842d9d)\" d=\"M 131.580302 107.154559 \r\nL 136.240415 110.9936 \r\n\" style=\"fill:none;stroke:#1f77b4;stroke-width:1.5;\"/>\r\n    <path clip-path=\"url(#p0e2d842d9d)\" d=\"M 136.240415 110.9936 \r\nL 141.462948 115.325545 \r\n\" style=\"fill:none;stroke:#1f77b4;stroke-width:1.5;\"/>\r\n    <path clip-path=\"url(#p0e2d842d9d)\" d=\"M 141.462948 115.325545 \r\nL 148.239971 120.991176 \r\n\" style=\"fill:none;stroke:#1f77b4;stroke-width:1.5;\"/>\r\n    <path clip-path=\"url(#p0e2d842d9d)\" d=\"M 148.239971 120.991176 \r\nL 154.326334 126.119379 \r\n\" style=\"fill:none;stroke:#1f77b4;stroke-width:1.5;\"/>\r\n    <path clip-path=\"url(#p0e2d842d9d)\" d=\"M 154.326334 126.119379 \r\nL 160.029821 130.956733 \r\n\" style=\"fill:none;stroke:#1f77b4;stroke-width:1.5;\"/>\r\n    <path clip-path=\"url(#p0e2d842d9d)\" d=\"M 160.029821 130.956733 \r\nL 166.0925 136.129525 \r\n\" style=\"fill:none;stroke:#1f77b4;stroke-width:1.5;\"/>\r\n    <path clip-path=\"url(#p0e2d842d9d)\" d=\"M 166.0925 136.129525 \r\nL 172.735093 141.829664 \r\n\" style=\"fill:none;stroke:#1f77b4;stroke-width:1.5;\"/>\r\n    <path clip-path=\"url(#p0e2d842d9d)\" d=\"M 172.735093 141.829664 \r\nL 179.036157 147.263941 \r\n\" style=\"fill:none;stroke:#1f77b4;stroke-width:1.5;\"/>\r\n    <path clip-path=\"url(#p0e2d842d9d)\" d=\"M 179.036157 147.263941 \r\nL 186.009363 153.303205 \r\n\" style=\"fill:none;stroke:#1f77b4;stroke-width:1.5;\"/>\r\n    <path clip-path=\"url(#p0e2d842d9d)\" d=\"M 186.009363 153.303205 \r\nL 192.307446 158.775162 \r\n\" style=\"fill:none;stroke:#1f77b4;stroke-width:1.5;\"/>\r\n    <path clip-path=\"url(#p0e2d842d9d)\" d=\"M 192.307446 158.775162 \r\nL 199.52895 165.062361 \r\n\" style=\"fill:none;stroke:#1f77b4;stroke-width:1.5;\"/>\r\n    <path clip-path=\"url(#p0e2d842d9d)\" d=\"M 199.52895 165.062361 \r\nL 206.547355 171.177613 \r\n\" style=\"fill:none;stroke:#1f77b4;stroke-width:1.5;\"/>\r\n    <path clip-path=\"url(#p0e2d842d9d)\" d=\"M 206.547355 171.177613 \r\nL 213.007862 176.802881 \r\n\" style=\"fill:none;stroke:#1f77b4;stroke-width:1.5;\"/>\r\n    <path clip-path=\"url(#p0e2d842d9d)\" d=\"M 213.007862 176.802881 \r\nL 218.4951 181.571617 \r\n\" style=\"fill:none;stroke:#1f77b4;stroke-width:1.5;\"/>\r\n    <path clip-path=\"url(#p0e2d842d9d)\" d=\"M 218.4951 181.571617 \r\nL 225.090406 187.284223 \r\n\" style=\"fill:none;stroke:#1f77b4;stroke-width:1.5;\"/>\r\n    <path clip-path=\"url(#p0e2d842d9d)\" d=\"M 225.090406 187.284223 \r\nL 231.739434 193.012379 \r\n\" style=\"fill:none;stroke:#1f77b4;stroke-width:1.5;\"/>\r\n    <path clip-path=\"url(#p0e2d842d9d)\" d=\"M 231.739434 193.012379 \r\nL 237.72377 198.131778 \r\n\" style=\"fill:none;stroke:#1f77b4;stroke-width:1.5;\"/>\r\n    <path clip-path=\"url(#p0e2d842d9d)\" d=\"M 237.72377 198.131778 \r\nL 242.830164 202.465868 \r\n\" style=\"fill:none;stroke:#1f77b4;stroke-width:1.5;\"/>\r\n    <path clip-path=\"url(#p0e2d842d9d)\" d=\"M 242.830164 202.465868 \r\nL 247.692374 206.557362 \r\n\" style=\"fill:none;stroke:#1f77b4;stroke-width:1.5;\"/>\r\n    <path clip-path=\"url(#p0e2d842d9d)\" d=\"M 247.692374 206.557362 \r\nL 253.374757 211.287416 \r\n\" style=\"fill:none;stroke:#1f77b4;stroke-width:1.5;\"/>\r\n    <path clip-path=\"url(#p0e2d842d9d)\" d=\"M 253.374757 211.287416 \r\nL 258.844173 215.778745 \r\n\" style=\"fill:none;stroke:#1f77b4;stroke-width:1.5;\"/>\r\n    <path clip-path=\"url(#p0e2d842d9d)\" d=\"M 258.844173 215.778745 \r\nL 263.814327 219.79956 \r\n\" style=\"fill:none;stroke:#1f77b4;stroke-width:1.5;\"/>\r\n    <path clip-path=\"url(#p0e2d842d9d)\" d=\"M 263.814327 219.79956 \r\nL 269.002331 223.926319 \r\n\" style=\"fill:none;stroke:#1f77b4;stroke-width:1.5;\"/>\r\n    <path clip-path=\"url(#p0e2d842d9d)\" d=\"M 269.002331 223.926319 \r\nL 274.223612 227.997379 \r\n\" style=\"fill:none;stroke:#1f77b4;stroke-width:1.5;\"/>\r\n    <path clip-path=\"url(#p0e2d842d9d)\" d=\"M 274.223612 227.997379 \r\nL 279.08767 231.706382 \r\n\" style=\"fill:none;stroke:#1f77b4;stroke-width:1.5;\"/>\r\n    <path clip-path=\"url(#p0e2d842d9d)\" d=\"M 279.08767 231.706382 \r\nL 284.289627 235.573067 \r\n\" style=\"fill:none;stroke:#1f77b4;stroke-width:1.5;\"/>\r\n    <path clip-path=\"url(#p0e2d842d9d)\" d=\"M 284.289627 235.573067 \r\nL 289.074495 239.028125 \r\n\" style=\"fill:none;stroke:#1f77b4;stroke-width:1.5;\"/>\r\n    <path clip-path=\"url(#p0e2d842d9d)\" d=\"M 289.074495 239.028125 \r\nL 293.613144 242.205751 \r\n\" style=\"fill:none;stroke:#1f77b4;stroke-width:1.5;\"/>\r\n    <path clip-path=\"url(#p0e2d842d9d)\" d=\"M 293.613144 242.205751 \r\nL 299.251286 246.003436 \r\n\" style=\"fill:none;stroke:#1f77b4;stroke-width:1.5;\"/>\r\n    <path clip-path=\"url(#p0e2d842d9d)\" d=\"M 299.251286 246.003436 \r\nL 304.27632 249.233327 \r\n\" style=\"fill:none;stroke:#1f77b4;stroke-width:1.5;\"/>\r\n    <path clip-path=\"url(#p0e2d842d9d)\" d=\"M 304.27632 249.233327 \r\nL 309.013773 252.130538 \r\n\" style=\"fill:none;stroke:#1f77b4;stroke-width:1.5;\"/>\r\n    <path clip-path=\"url(#p0e2d842d9d)\" d=\"M 309.013773 252.130538 \r\nL 314.695827 255.39635 \r\n\" style=\"fill:none;stroke:#1f77b4;stroke-width:1.5;\"/>\r\n    <path clip-path=\"url(#p0e2d842d9d)\" d=\"M 314.695827 255.39635 \r\nL 320.688434 258.566426 \r\n\" style=\"fill:none;stroke:#1f77b4;stroke-width:1.5;\"/>\r\n    <path clip-path=\"url(#p0e2d842d9d)\" d=\"M 320.688434 258.566426 \r\nL 326.657935 261.411709 \r\n\" style=\"fill:none;stroke:#1f77b4;stroke-width:1.5;\"/>\r\n    <path clip-path=\"url(#p0e2d842d9d)\" d=\"M 326.657935 261.411709 \r\nL 333.122907 264.098823 \r\n\" style=\"fill:none;stroke:#1f77b4;stroke-width:1.5;\"/>\r\n    <path clip-path=\"url(#p0e2d842d9d)\" d=\"M 333.122907 264.098823 \r\nL 339.378046 266.26116 \r\n\" style=\"fill:none;stroke:#1f77b4;stroke-width:1.5;\"/>\r\n    <path clip-path=\"url(#p0e2d842d9d)\" d=\"M 339.378046 266.26116 \r\nL 345.283453 267.860461 \r\n\" style=\"fill:none;stroke:#1f77b4;stroke-width:1.5;\"/>\r\n    <path clip-path=\"url(#p0e2d842d9d)\" d=\"M 345.283453 267.860461 \r\nL 351.406052 269.01229 \r\n\" style=\"fill:none;stroke:#1f77b4;stroke-width:1.5;\"/>\r\n    <path clip-path=\"url(#p0e2d842d9d)\" d=\"M 351.406052 269.01229 \r\nL 356.362261 269.526626 \r\n\" style=\"fill:none;stroke:#1f77b4;stroke-width:1.5;\"/>\r\n    <path clip-path=\"url(#p0e2d842d9d)\" d=\"M 356.362261 269.526626 \r\nL 361.05107 269.63473 \r\n\" style=\"fill:none;stroke:#1f77b4;stroke-width:1.5;\"/>\r\n    <path clip-path=\"url(#p0e2d842d9d)\" d=\"M 361.05107 269.63473 \r\nL 366.549048 269.248029 \r\n\" style=\"fill:none;stroke:#1f77b4;stroke-width:1.5;\"/>\r\n    <path clip-path=\"url(#p0e2d842d9d)\" d=\"M 366.549048 269.248029 \r\nL 371.569469 268.364312 \r\n\" style=\"fill:none;stroke:#1f77b4;stroke-width:1.5;\"/>\r\n    <path clip-path=\"url(#p0e2d842d9d)\" d=\"M 371.569469 268.364312 \r\nL 375.711675 267.218572 \r\n\" style=\"fill:none;stroke:#1f77b4;stroke-width:1.5;\"/>\r\n    <path clip-path=\"url(#p0e2d842d9d)\" d=\"M 375.711675 267.218572 \r\nL 380.542806 265.364258 \r\n\" style=\"fill:none;stroke:#1f77b4;stroke-width:1.5;\"/>\r\n    <path clip-path=\"url(#p0e2d842d9d)\" d=\"M 380.542806 265.364258 \r\nL 385.623744 262.758334 \r\n\" style=\"fill:none;stroke:#1f77b4;stroke-width:1.5;\"/>\r\n    <path clip-path=\"url(#p0e2d842d9d)\" d=\"M 385.623744 262.758334 \r\nL 390.008621 259.919489 \r\n\" style=\"fill:none;stroke:#1f77b4;stroke-width:1.5;\"/>\r\n   </g>\r\n   <g id=\"patch_3\">\r\n    <path d=\"M 58.572586 281.721094 \r\nL 58.572586 15.821094 \r\n\" style=\"fill:none;stroke:#000000;stroke-linecap:square;stroke-linejoin:miter;stroke-width:0.8;\"/>\r\n   </g>\r\n   <g id=\"patch_4\">\r\n    <path d=\"M 408.237603 281.721094 \r\nL 408.237603 15.821094 \r\n\" style=\"fill:none;\"/>\r\n   </g>\r\n   <g id=\"patch_5\">\r\n    <path d=\"M 7.2 206.785304 \r\nL 408.237603 206.785304 \r\n\" style=\"fill:none;stroke:#000000;stroke-linecap:square;stroke-linejoin:miter;stroke-width:0.8;\"/>\r\n   </g>\r\n   <g id=\"patch_6\">\r\n    <path d=\"M 7.2 15.821094 \r\nL 408.237603 15.821094 \r\n\" style=\"fill:none;\"/>\r\n   </g>\r\n  </g>\r\n </g>\r\n <defs>\r\n  <clipPath id=\"p0e2d842d9d\">\r\n   <rect height=\"265.9\" width=\"401.037603\" x=\"7.2\" y=\"15.821094\"/>\r\n  </clipPath>\r\n </defs>\r\n</svg>\r\n",
      "image/png": "[encoded data removed]"
     },
     "metadata": {
      "needs_background": "light"
     }
    },
    {
     "output_type": "execute_result",
     "data": {
      "text/plain": [
       "<sympy.plotting.plot.Plot at 0x2727ff97640>"
      ]
     },
     "metadata": {},
     "execution_count": 57
    }
   ],
   "source": [
    "from sympy.plotting import plot\n",
    "\n",
    "plot(lamda_diff_epsilon_0,(v, -0.1 ,1))\n"
   ]
  },
  {
   "cell_type": "code",
   "execution_count": 27,
   "metadata": {},
   "outputs": [
    {
     "output_type": "execute_result",
     "data": {
      "text/plain": [
       "-2.13898537451228e-5"
      ],
      "text/latex": "$\\displaystyle -2.13898537451228 \\cdot 10^{-5}$"
     },
     "metadata": {},
     "execution_count": 27
    }
   ],
   "source": [
    "### find value of v in which the derivative is equal to zero\n",
    "simplify(lamda_diff_epsilon_0.subs(v, 0.5715))\n",
    "#solve(lamda_diff_epsilon_0, v, simplify=False)"
   ]
  },
  {
   "cell_type": "code",
   "execution_count": 129,
   "metadata": {},
   "outputs": [
    {
     "output_type": "execute_result",
     "data": {
      "text/plain": [
       "0.499956255468066"
      ],
      "text/latex": "$\\displaystyle 0.499956255468066$"
     },
     "metadata": {},
     "execution_count": 129
    }
   ],
   "source": [
    "a2_limit = (c*v*(1-TB)-(TA-TB))/(b*v*TA)\n",
    "a2_limit = a2_limit.subs(c, 0.5)\n",
    "a2_limit = a2_limit.subs(TA, 0.5)\n",
    "a2_limit = a2_limit.subs(TB, 0.7)\n",
    "a2_limit = a2_limit.subs(b, 2)\n",
    "a2_limit.subs(v, 0.5715)\n",
    "### this means that the derivative is equal to zero when at the border between coexistance and defection"
   ]
  },
  {
   "cell_type": "code",
   "execution_count": 31,
   "metadata": {},
   "outputs": [
    {
     "output_type": "execute_result",
     "data": {
      "text/plain": [
       "c*p*v*(TA*b*p**2*v*α2 - TA*b*p**2 - 2*TA*b*p*v*α2 + TA*b*p + TA*b*v*α2 - TA*c*p**2*v + TA*c*p**2 + TA*c*p*v - TA*c*p - TA*p + TA - TB*b*p**2*v*α2 + TB*b*p**2 + TB*b*p*v*α2 - TB*b*p + TB*c*p**2*v - TB*c*p**2 - 2*TB*c*p*v + TB*c*p + TB*c*v + TB*p - TB + c*p*v - c*v)/(b**2*p**2 - 2*b*c*p**2 + 2*b*p + c**2*p**2 - 2*c*p + 1)"
      ],
      "text/latex": "$\\displaystyle \\frac{c p v \\left(TA b p^{2} v α2 - TA b p^{2} - 2 TA b p v α2 + TA b p + TA b v α2 - TA c p^{2} v + TA c p^{2} + TA c p v - TA c p - TA p + TA - TB b p^{2} v α2 + TB b p^{2} + TB b p v α2 - TB b p + TB c p^{2} v - TB c p^{2} - 2 TB c p v + TB c p + TB c v + TB p - TB + c p v - c v\\right)}{b^{2} p^{2} - 2 b c p^{2} + 2 b p + c^{2} p^{2} - 2 c p + 1}$"
     },
     "metadata": {},
     "execution_count": 31
    }
   ],
   "source": [
    "value_at_1 = 1 +a2 +a3\n",
    "value_at_1 = simplify(value_at_1)\n",
    "value_at_1\n",
    "\n"
   ]
  },
  {
   "cell_type": "code",
   "execution_count": 25,
   "metadata": {},
   "outputs": [
    {
     "output_type": "execute_result",
     "data": {
      "text/plain": [
       "c*p*v*(TA*b*p**2*v - 2*TA*b*p*v + TA*b*v - TB*b*p**2*v + TB*b*p*v)/(b**2*p**2 - 2*b*c*p**2 + 2*b*p + c**2*p**2 - 2*c*p + 1)"
      ],
      "text/latex": "$\\displaystyle \\frac{c p v \\left(TA b p^{2} v - 2 TA b p v + TA b v - TB b p^{2} v + TB b p v\\right)}{b^{2} p^{2} - 2 b c p^{2} + 2 b p + c^{2} p^{2} - 2 c p + 1}$"
     },
     "metadata": {},
     "execution_count": 25
    }
   ],
   "source": [
    "value_at_1 = value_at_1.subs(α2, α1+ε)\n",
    "value_at_1_diff = diff(value_at_1, ε)\n",
    "value_at_1_diff"
   ]
  },
  {
   "cell_type": "code",
   "execution_count": 26,
   "metadata": {},
   "outputs": [
    {
     "output_type": "execute_result",
     "data": {
      "text/plain": [
       "b*c*p*v**2*(TA*p**2 - 2*TA*p + TA - TB*p**2 + TB*p)/(b**2*p**2 - 2*b*c*p**2 + 2*b*p + c**2*p**2 - 2*c*p + 1)"
      ],
      "text/latex": "$\\displaystyle \\frac{b c p v^{2} \\left(TA p^{2} - 2 TA p + TA - TB p^{2} + TB p\\right)}{b^{2} p^{2} - 2 b c p^{2} + 2 b p + c^{2} p^{2} - 2 c p + 1}$"
     },
     "metadata": {},
     "execution_count": 26
    }
   ],
   "source": [
    "simplify(value_at_1_diff.subs(ε , 0))"
   ]
  },
  {
   "cell_type": "code",
   "execution_count": 43,
   "metadata": {},
   "outputs": [
    {
     "output_type": "execute_result",
     "data": {
      "text/plain": [
       "α1"
      ],
      "text/latex": "$\\displaystyle α1$"
     },
     "metadata": {},
     "execution_count": 43
    }
   ],
   "source": [
    "numerator_value_1 = fraction(value_at_1)[0]\n",
    "paaa = poly(numerator_value_1/(c*p*v), α2)\n",
    "pa = -simplify(paaa.coeffs()[1] / paaa.coeffs()[0])\n",
    "pa = pa.subs(p, (α1*b*v*TA-c*v*(1-TB) + TA-TB)/((c*(1-v)-b*(1-α1*v))*(TA-TB)))\n",
    "simplify(pa)"
   ]
  },
  {
   "cell_type": "code",
   "execution_count": null,
   "metadata": {},
   "outputs": [],
   "source": []
  },
  {
   "cell_type": "code",
   "execution_count": 64,
   "metadata": {
    "tags": []
   },
   "outputs": [],
   "source": [
    "## P star at alpha1 = a2\n",
    "\n",
    "((α1*b*v*TA-c*v*(1-TB) + TA-TB)/((c*(1-v)-b*(1-α1*v))*(TA-TB))).subs(α1,(c*v*(1-TB)-(TA-TB))/(b*v*TA))\n",
    "\n",
    "lamda = (-a2 + (a2**2-4*a3)**0.5)/2\n",
    "lamda = lamda.subs(α2, α1+ε)\n",
    "lamda_diff = diff(lamda, ε)\n",
    "lamda_diff_epsilon_0 = lamda_diff.subs(ε, 0)\n",
    "lamda_diff_epsilon_0 = lamda_diff_epsilon_0.subs(p, (α1*b*v*TA-c*v*(1-TB) + TA-TB)/((c*(1-v)-b*(1-α1*v))*(TA-TB)))\n",
    "simplify(lamda_diff_epsilon_0)"
   ]
  },
  {
   "cell_type": "code",
   "execution_count": 49,
   "metadata": {},
   "outputs": [
    {
     "output_type": "execute_result",
     "data": {
      "text/plain": [
       "(-(b - c)*(-b*(v*α1 - 1) + c*(v - 1))*((b*α1 - c)*(TA*b*v*α1 + TA - TB + c*v*(TB - 1)) + (-b*(v*α1 - 1) + c*(v - 1))*(TA*b*α1 + c*(TB - 1)))*((TA - TB)**2*(b*(v*α1 - 1) - c*(v - 1))**2*(TB*c*v - TB - c*v + 2) + (TA - TB)*(b*(v*α1 - 1) - c*(v - 1))*(TA*b*v*α1 + TA - TB + c*v*(TB - 1))*(-TA*b*v*α2 - TA + TB*b*v*α2 - TB*b - 2*TB*c*v + TB*c + TB + 2*b + 2*c*v - 2*c) + (TA*b*v*α1 + TA - TB + c*v*(TB - 1))**2*(TA*b*v*α2 - TA*b - TA*c*v + TA*c - TB*b*v*α2 + TB*b + TB*c*v - TB*c)) + (b*(v*α1 - 1) - c*(v - 1))*(b*(TA*b*v*α1 + TA - TB + c*v*(TB - 1)) - c*(TA*b*v*α1 + TA - TB + c*v*(TB - 1)) + (TA - TB)*(b*(v*α1 - 1) - c*(v - 1)))*(c*(TA - TB)**2*(TB - 1)*(b*(v*α1 - 1) - c*(v - 1))**3 + (TA - TB)*(b*α1 - c)*(b*(v*α1 - 1) - c*(v - 1))*(TA*b*v*α1 + TA - TB + c*v*(TB - 1))*(TA*b*v*α2 + TA - TB*b*v*α2 + TB*b + 2*TB*c*v - TB*c - TB - 2*b - 2*c*v + 2*c) + (TA - TB)*(b*(v*α1 - 1) - c*(v - 1))**2*(-TA*b*v*α2*(TA*b*α1 + c*(TB - 1)) - TA*b*α2*(TA*b*v*α1 + TA - TB + c*v*(TB - 1)) - TA*(TA*b*α1 + c*(TB - 1)) + TB*b*v*α2*(TA*b*α1 + c*(TB - 1)) + TB*b*α2*(TA*b*v*α1 + TA - TB + c*v*(TB - 1)) - TB*b*(TA*b*α1 + c*(TB - 1)) - 2*TB*c*v*(TA*b*α1 + c*(TB - 1)) + TB*c*(TA*b*α1 + c*(TB - 1)) - 2*TB*c*(TA*b*v*α1 + TA - TB + c*v*(TB - 1)) + TB*(TA*b*α1 + c*(TB - 1)) + 2*b*(TA*b*α1 + c*(TB - 1)) + 2*c*v*(TA*b*α1 + c*(TB - 1)) - 2*c*(TA*b*α1 + c*(TB - 1)) + 2*c*(TA*b*v*α1 + TA - TB + c*v*(TB - 1))) + 2*(b*α1 - c)*(TA*b*v*α1 + TA - TB + c*v*(TB - 1))**2*(-TA*b*v*α2 + TA*b + TA*c*v - TA*c + TB*b*v*α2 - TB*b - TB*c*v + TB*c) + (b*(v*α1 - 1) - c*(v - 1))*(TA*b*v*α1 + TA - TB + c*v*(TB - 1))*(2*TA*b*v*α2*(TA*b*α1 + c*(TB - 1)) + TA*b*α2*(TA*b*v*α1 + TA - TB + c*v*(TB - 1)) - 2*TA*b*(TA*b*α1 + c*(TB - 1)) - 2*TA*c*v*(TA*b*α1 + c*(TB - 1)) + 2*TA*c*(TA*b*α1 + c*(TB - 1)) - TA*c*(TA*b*v*α1 + TA - TB + c*v*(TB - 1)) - 2*TB*b*v*α2*(TA*b*α1 + c*(TB - 1)) - TB*b*α2*(TA*b*v*α1 + TA - TB + c*v*(TB - 1)) + 2*TB*b*(TA*b*α1 + c*(TB - 1)) + 2*TB*c*v*(TA*b*α1 + c*(TB - 1)) - 2*TB*c*(TA*b*α1 + c*(TB - 1)) + TB*c*(TA*b*v*α1 + TA - TB + c*v*(TB - 1)))))/((TA - TB)*(-b*(v*α1 - 1) + c*(v - 1))**3*(b*(TA*b*v*α1 + TA - TB + c*v*(TB - 1)) - c*(TA*b*v*α1 + TA - TB + c*v*(TB - 1)) + (TA - TB)*(b*(v*α1 - 1) - c*(v - 1)))**2)"
      ],
      "text/latex": "$\\displaystyle \\frac{- \\left(b - c\\right) \\left(- b \\left(v α1 - 1\\right) + c \\left(v - 1\\right)\\right) \\left(\\left(b α1 - c\\right) \\left(TA b v α1 + TA - TB + c v \\left(TB - 1\\right)\\right) + \\left(- b \\left(v α1 - 1\\right) + c \\left(v - 1\\right)\\right) \\left(TA b α1 + c \\left(TB - 1\\right)\\right)\\right) \\left(\\left(TA - TB\\right)^{2} \\left(b \\left(v α1 - 1\\right) - c \\left(v - 1\\right)\\right)^{2} \\left(TB c v - TB - c v + 2\\right) + \\left(TA - TB\\right) \\left(b \\left(v α1 - 1\\right) - c \\left(v - 1\\right)\\right) \\left(TA b v α1 + TA - TB + c v \\left(TB - 1\\right)\\right) \\left(- TA b v α2 - TA + TB b v α2 - TB b - 2 TB c v + TB c + TB + 2 b + 2 c v - 2 c\\right) + \\left(TA b v α1 + TA - TB + c v \\left(TB - 1\\right)\\right)^{2} \\left(TA b v α2 - TA b - TA c v + TA c - TB b v α2 + TB b + TB c v - TB c\\right)\\right) + \\left(b \\left(v α1 - 1\\right) - c \\left(v - 1\\right)\\right) \\left(b \\left(TA b v α1 + TA - TB + c v \\left(TB - 1\\right)\\right) - c \\left(TA b v α1 + TA - TB + c v \\left(TB - 1\\right)\\right) + \\left(TA - TB\\right) \\left(b \\left(v α1 - 1\\right) - c \\left(v - 1\\right)\\right)\\right) \\left(c \\left(TA - TB\\right)^{2} \\left(TB - 1\\right) \\left(b \\left(v α1 - 1\\right) - c \\left(v - 1\\right)\\right)^{3} + \\left(TA - TB\\right) \\left(b α1 - c\\right) \\left(b \\left(v α1 - 1\\right) - c \\left(v - 1\\right)\\right) \\left(TA b v α1 + TA - TB + c v \\left(TB - 1\\right)\\right) \\left(TA b v α2 + TA - TB b v α2 + TB b + 2 TB c v - TB c - TB - 2 b - 2 c v + 2 c\\right) + \\left(TA - TB\\right) \\left(b \\left(v α1 - 1\\right) - c \\left(v - 1\\right)\\right)^{2} \\left(- TA b v α2 \\left(TA b α1 + c \\left(TB - 1\\right)\\right) - TA b α2 \\left(TA b v α1 + TA - TB + c v \\left(TB - 1\\right)\\right) - TA \\left(TA b α1 + c \\left(TB - 1\\right)\\right) + TB b v α2 \\left(TA b α1 + c \\left(TB - 1\\right)\\right) + TB b α2 \\left(TA b v α1 + TA - TB + c v \\left(TB - 1\\right)\\right) - TB b \\left(TA b α1 + c \\left(TB - 1\\right)\\right) - 2 TB c v \\left(TA b α1 + c \\left(TB - 1\\right)\\right) + TB c \\left(TA b α1 + c \\left(TB - 1\\right)\\right) - 2 TB c \\left(TA b v α1 + TA - TB + c v \\left(TB - 1\\right)\\right) + TB \\left(TA b α1 + c \\left(TB - 1\\right)\\right) + 2 b \\left(TA b α1 + c \\left(TB - 1\\right)\\right) + 2 c v \\left(TA b α1 + c \\left(TB - 1\\right)\\right) - 2 c \\left(TA b α1 + c \\left(TB - 1\\right)\\right) + 2 c \\left(TA b v α1 + TA - TB + c v \\left(TB - 1\\right)\\right)\\right) + 2 \\left(b α1 - c\\right) \\left(TA b v α1 + TA - TB + c v \\left(TB - 1\\right)\\right)^{2} \\left(- TA b v α2 + TA b + TA c v - TA c + TB b v α2 - TB b - TB c v + TB c\\right) + \\left(b \\left(v α1 - 1\\right) - c \\left(v - 1\\right)\\right) \\left(TA b v α1 + TA - TB + c v \\left(TB - 1\\right)\\right) \\left(2 TA b v α2 \\left(TA b α1 + c \\left(TB - 1\\right)\\right) + TA b α2 \\left(TA b v α1 + TA - TB + c v \\left(TB - 1\\right)\\right) - 2 TA b \\left(TA b α1 + c \\left(TB - 1\\right)\\right) - 2 TA c v \\left(TA b α1 + c \\left(TB - 1\\right)\\right) + 2 TA c \\left(TA b α1 + c \\left(TB - 1\\right)\\right) - TA c \\left(TA b v α1 + TA - TB + c v \\left(TB - 1\\right)\\right) - 2 TB b v α2 \\left(TA b α1 + c \\left(TB - 1\\right)\\right) - TB b α2 \\left(TA b v α1 + TA - TB + c v \\left(TB - 1\\right)\\right) + 2 TB b \\left(TA b α1 + c \\left(TB - 1\\right)\\right) + 2 TB c v \\left(TA b α1 + c \\left(TB - 1\\right)\\right) - 2 TB c \\left(TA b α1 + c \\left(TB - 1\\right)\\right) + TB c \\left(TA b v α1 + TA - TB + c v \\left(TB - 1\\right)\\right)\\right)\\right)}{\\left(TA - TB\\right) \\left(- b \\left(v α1 - 1\\right) + c \\left(v - 1\\right)\\right)^{3} \\left(b \\left(TA b v α1 + TA - TB + c v \\left(TB - 1\\right)\\right) - c \\left(TA b v α1 + TA - TB + c v \\left(TB - 1\\right)\\right) + \\left(TA - TB\\right) \\left(b \\left(v α1 - 1\\right) - c \\left(v - 1\\right)\\right)\\right)^{2}}$"
     },
     "metadata": {},
     "execution_count": 49
    }
   ],
   "source": [
    "vvv = 2+a2\n",
    "vvv = vvv.subs(p,(α1*b*v*TA-c*v*(1-TB) + TA-TB)/((c*(1-v)-b*(1-α1*v))*(TA-TB)))\n",
    "\n",
    "simplify(diff(vvv, v))"
   ]
  },
  {
   "cell_type": "code",
   "execution_count": 63,
   "metadata": {},
   "outputs": [
    {
     "output_type": "execute_result",
     "data": {
      "text/plain": "α1",
      "text/latex": "$\\displaystyle α1$"
     },
     "metadata": {},
     "execution_count": 63
    }
   ],
   "source": [
    "result = -e/d\n",
    "result = simplify(result)\n",
    "simplify(result.subs(p, (c*(1-TB) - b*α1*TA-(TA-TB))/(b*(1-α1)*(TA-TB))))"
   ]
  },
  {
   "cell_type": "code",
   "execution_count": 176,
   "metadata": {},
   "outputs": [
    {
     "output_type": "execute_result",
     "data": {
      "text/plain": "0",
      "text/latex": "$\\displaystyle 0$"
     },
     "metadata": {},
     "execution_count": 176
    }
   ],
   "source": [
    "# checking the slope at 1:\n",
    "\n",
    "slope = a2+2\n",
    "slope_numerator = simplify(slope*(p*(b-c)+1))\n",
    "slope_poly=poly(slope_numerator, c)\n",
    "# slope = h*c + g\n",
    "g = slope_poly.coeffs()[1]\n",
    "h =slope_poly.coeffs()[0]\n",
    "\n",
    "#sanity_check:\n",
    "g1 = TA*b*(p**2)*(1-α2)+TA*p+TB*b*p*(1-α2)*(1-p)+TB*(1-p) + TA*b*p*α2\n",
    "simplify(g1-g)"
   ]
  },
  {
   "cell_type": "code",
   "execution_count": 204,
   "metadata": {},
   "outputs": [
    {
     "output_type": "execute_result",
     "data": {
      "text/plain": "(TA*b*p**2*α2 - TA*b*p**2 - TA*b*p*α2 - TA*p - TB*b*p**2*α2 + TB*b*p**2 + TB*b*p*α2 - TB*b*p + TB*p - TB)/(TB*p - TB - 2*p + 1)",
      "text/latex": "$\\displaystyle \\frac{TA b p^{2} α2 - TA b p^{2} - TA b p α2 - TA p - TB b p^{2} α2 + TB b p^{2} + TB b p α2 - TB b p + TB p - TB}{TB p - TB - 2 p + 1}$"
     },
     "metadata": {},
     "execution_count": 204
    }
   ],
   "source": [
    "gh = simplify(-g/h)\n",
    "gh"
   ]
  },
  {
   "cell_type": "code",
   "execution_count": 183,
   "metadata": {},
   "outputs": [
    {
     "output_type": "execute_result",
     "data": {
      "text/plain": "(-2*TA*b*α1 - 2*TA + TB*(TA*b*α1 + TA - TB + c*(TB - 1)) + 2*TB + b*(1 - TB)*(TA - TB)*(α1 - 1) - 2*c*(TB - 1))/(b*(TA - TB)*(α1 - 1))",
      "text/latex": "$\\displaystyle \\frac{- 2 TA b α1 - 2 TA + TB \\left(TA b α1 + TA - TB + c \\left(TB - 1\\right)\\right) + 2 TB + b \\left(1 - TB\\right) \\left(TA - TB\\right) \\left(α1 - 1\\right) - 2 c \\left(TB - 1\\right)}{b \\left(TA - TB\\right) \\left(α1 - 1\\right)}$"
     },
     "metadata": {},
     "execution_count": 183
    }
   ],
   "source": [
    "h_e = TB*p-TB-2*p+1\n",
    "h_e = simplify(h_e.subs(p, (c*(1-TB) - b*α1*TA-(TA-TB))/(b*(1-α1)*(TA-TB))))\n"
   ]
  },
  {
   "cell_type": "code",
   "execution_count": 218,
   "metadata": {},
   "outputs": [
    {
     "output_type": "execute_result",
     "data": {
      "text/plain": "(TA - TB)*(-TB*b*(α1 - 1)*(TA*b*α1 + TA - TB - c*(1 - TB)) + b*(TA - TB)*(α1 - 1)**2*(TB*c - TB - c) - (α1 - 1)*(TA + TB*c - TB - 2*c)*(TA*b*α1 + TA - TB - c*(1 - TB)) - (TA*b*α1 + TA - TB - c*(1 - TB))**2)/((b*(TA - TB)**2*(α1 - 1) + (-TA + TB)*(TA*b*α1 + TA - TB + c*(TB - 1)))*(TA*b*α1 + TA - TB + c*(TB - 1)))",
      "text/latex": "$\\displaystyle \\frac{\\left(TA - TB\\right) \\left(- TB b \\left(α1 - 1\\right) \\left(TA b α1 + TA - TB - c \\left(1 - TB\\right)\\right) + b \\left(TA - TB\\right) \\left(α1 - 1\\right)^{2} \\left(TB c - TB - c\\right) - \\left(α1 - 1\\right) \\left(TA + TB c - TB - 2 c\\right) \\left(TA b α1 + TA - TB - c \\left(1 - TB\\right)\\right) - \\left(TA b α1 + TA - TB - c \\left(1 - TB\\right)\\right)^{2}\\right)}{\\left(b \\left(TA - TB\\right)^{2} \\left(α1 - 1\\right) + \\left(- TA + TB\\right) \\left(TA b α1 + TA - TB + c \\left(TB - 1\\right)\\right)\\right) \\left(TA b α1 + TA - TB + c \\left(TB - 1\\right)\\right)}$"
     },
     "metadata": {},
     "execution_count": 218
    }
   ],
   "source": [
    "slope = a2+2\n",
    "slope_numerator = simplify(slope*(p*(b-c)+1))\n",
    "slope_poly2=poly(slope_numerator, α2)\n",
    "# slope = h*α2 + g\n",
    "g = slope_poly2.coeffs()[1]\n",
    "h =slope_poly2.coeffs()[0]\n",
    "\n",
    "t = -g/h\n",
    "simplify(t.subs(p, (c*(1-TB) - b*α1*TA-(TA-TB))/(b*(1-α1)*(TA-TB))))"
   ]
  },
  {
   "cell_type": "code",
   "execution_count": null,
   "metadata": {},
   "outputs": [],
   "source": []
  }
 ],
 "metadata": {
  "language_info": {
   "codemirror_mode": {
    "name": "ipython",
    "version": 3
   },
   "file_extension": ".py",
   "mimetype": "text/x-python",
   "name": "python",
   "nbconvert_exporter": "python",
   "pygments_lexer": "ipython3",
   "version": "3.8.10"
  },
  "orig_nbformat": 2,
  "kernelspec": {
   "name": "python3810jvsc74a57bd096526a825614ec3c72b1ef9799738d9374a64dff93cee3371bccaffe68f6b488",
   "display_name": "Python 3.8.10 64-bit (windows store)"
  },
  "metadata": {
   "interpreter": {
    "hash": "96526a825614ec3c72b1ef9799738d9374a64dff93cee3371bccaffe68f6b488"
   }
  }
 },
 "nbformat": 4,
 "nbformat_minor": 2
}