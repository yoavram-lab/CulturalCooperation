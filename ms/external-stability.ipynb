{
 "cells": [
  {
   "cell_type": "code",
   "execution_count": 1,
   "metadata": {},
   "outputs": [],
   "source": [
    "from sympy import *\n",
    "from sympy.solvers.inequalities import reduce_inequalities\n",
    "init_printing()"
   ]
  },
  {
   "cell_type": "code",
   "execution_count": 2,
   "metadata": {},
   "outputs": [],
   "source": [
    "c, v, b, α1, α2, TA, TB, W, p, λ = symbols(r'c v b \\alpha_1 \\alpha_2 T_A T_B W p \\lambda')\n",
    "v = 1"
   ]
  },
  {
   "cell_type": "code",
   "execution_count": 3,
   "metadata": {},
   "outputs": [],
   "source": [
    "pstar = α1*b*v*TA - c*v*(1-TB) + (TA - TB)\n",
    "pstar /= (c*(1-v) - b*(1-α1*v)) * (TA - TB)\n",
    "wstar = 1 + (b-c)*pstar"
   ]
  },
  {
   "cell_type": "code",
   "execution_count": 4,
   "metadata": {},
   "outputs": [],
   "source": [
    "γ1 = b*v*α1*TA + (TA - TB)\n",
    "γ1 /= v*(1-TB)\n",
    "\n",
    "γ2 = b*v*α1*TB + (1+b)*(TA - TB)\n",
    "γ2 /= v*(1-TB) + (1-v)*(TA - TB)\n",
    "\n",
    "a1 = c*v*(1-TA) - (1+b+c)*(TA - TB)\n",
    "a1 /= b*v*TB\n",
    "\n",
    "a2 = c*v*(1-TB) - (TA - TB)\n",
    "a2 /= b*v*TA"
   ]
  },
  {
   "cell_type": "code",
   "execution_count": 5,
   "metadata": {},
   "outputs": [],
   "source": [
    "X = b*(1-(1-α2)*TB*(1-p))*p + (1-c)*(1-TB*(1-p))\n",
    "Y = b*TA*(p+α2*(1-p))*p + TA*p\n",
    "Z = (1-c)*TB*(1-p) + b*TB*(1-α2)*p*(1-p)\n",
    "Q = 1-TA*p + b*(1-TA*p -α2*TA*(1-p))*p"
   ]
  },
  {
   "cell_type": "code",
   "execution_count": 6,
   "metadata": {},
   "outputs": [],
   "source": [
    "f = Poly(λ**2 - (X+Q)*λ/W + X*Q/(W*W) - Y*Z/(W*W), λ)"
   ]
  },
  {
   "cell_type": "markdown",
   "metadata": {},
   "source": [
    "# determine when $f(1) > 0$"
   ]
  },
  {
   "cell_type": "code",
   "execution_count": 7,
   "metadata": {},
   "outputs": [
    {
     "data": {
      "image/png": "[encoded data removed]",
      "text/latex": [
       "$\\displaystyle - T_{A} W \\alpha_2 b p^{2} + T_{A} W \\alpha_2 b p + T_{A} W b p^{2} + T_{A} W p + T_{A} \\alpha_2 b^{2} p^{3} - T_{A} \\alpha_2 b^{2} p^{2} - T_{A} \\alpha_2 b c p^{2} + T_{A} \\alpha_2 b c p + T_{A} \\alpha_2 b p^{2} - T_{A} \\alpha_2 b p - T_{A} b^{2} p^{3} + T_{A} b c p^{2} - 2 T_{A} b p^{2} + T_{A} c p - T_{A} p + T_{B} W \\alpha_2 b p^{2} - T_{B} W \\alpha_2 b p - T_{B} W b p^{2} + T_{B} W b p + T_{B} W c p - T_{B} W c - T_{B} W p + T_{B} W - T_{B} \\alpha_2 b^{2} p^{3} + T_{B} \\alpha_2 b^{2} p^{2} - T_{B} \\alpha_2 b p^{2} + T_{B} \\alpha_2 b p + T_{B} b^{2} p^{3} - T_{B} b^{2} p^{2} - T_{B} b c p^{2} + T_{B} b c p + 2 T_{B} b p^{2} - 2 T_{B} b p - T_{B} c p + T_{B} c + T_{B} p - T_{B} + W^{2} - 2 W b p + W c - 2 W + b^{2} p^{2} - b c p + 2 b p - c + 1$"
      ],
      "text/plain": [
       "                   2                                2                         \n",
       "- T_A⋅W⋅\\alpha₂⋅b⋅p  + T_A⋅W⋅\\alpha₂⋅b⋅p + T_A⋅W⋅b⋅p  + T_A⋅W⋅p + T_A⋅\\alpha₂⋅\n",
       "\n",
       " 2  3                2  2                    2                                \n",
       "b ⋅p  - T_A⋅\\alpha₂⋅b ⋅p  - T_A⋅\\alpha₂⋅b⋅c⋅p  + T_A⋅\\alpha₂⋅b⋅c⋅p + T_A⋅\\alph\n",
       "\n",
       "      2                          2  3            2            2               \n",
       "a₂⋅b⋅p  - T_A⋅\\alpha₂⋅b⋅p - T_A⋅b ⋅p  + T_A⋅b⋅c⋅p  - 2⋅T_A⋅b⋅p  + T_A⋅c⋅p - T_\n",
       "\n",
       "                       2                                2                     \n",
       "A⋅p + T_B⋅W⋅\\alpha₂⋅b⋅p  - T_B⋅W⋅\\alpha₂⋅b⋅p - T_B⋅W⋅b⋅p  + T_B⋅W⋅b⋅p + T_B⋅W⋅\n",
       "\n",
       "                                               2  3                2  2       \n",
       "c⋅p - T_B⋅W⋅c - T_B⋅W⋅p + T_B⋅W - T_B⋅\\alpha₂⋅b ⋅p  + T_B⋅\\alpha₂⋅b ⋅p  - T_B⋅\n",
       "\n",
       "           2                          2  3        2  2            2           \n",
       "\\alpha₂⋅b⋅p  + T_B⋅\\alpha₂⋅b⋅p + T_B⋅b ⋅p  - T_B⋅b ⋅p  - T_B⋅b⋅c⋅p  + T_B⋅b⋅c⋅\n",
       "\n",
       "             2                                                2               \n",
       "p + 2⋅T_B⋅b⋅p  - 2⋅T_B⋅b⋅p - T_B⋅c⋅p + T_B⋅c + T_B⋅p - T_B + W  - 2⋅W⋅b⋅p + W⋅\n",
       "\n",
       "           2  2                        \n",
       "c - 2⋅W + b ⋅p  - b⋅c⋅p + 2⋅b⋅p - c + 1"
      ]
     },
     "execution_count": 7,
     "metadata": {},
     "output_type": "execute_result"
    }
   ],
   "source": [
    "f1 = simplify(f(1)*W**2) # multiply by positive\n",
    "f1"
   ]
  },
  {
   "cell_type": "code",
   "execution_count": 8,
   "metadata": {},
   "outputs": [
    {
     "data": {
      "image/png": "[encoded data removed]",
      "text/latex": [
       "$\\displaystyle \\alpha_2 b c p \\left(T_{A} p^{2} - 2 T_{A} p + T_{A} - T_{B} p^{2} + T_{B} p\\right) > c p \\left(T_{A} b p^{2} - T_{A} b p + T_{A} p - T_{A} - T_{B} b p^{2} + T_{B} b p + T_{B} c p - T_{B} c - T_{B} p + T_{B} - c p + c\\right)$"
      ],
      "text/plain": [
       "              ⎛     2                        2        ⎞       ⎛       2       \n",
       "\\alpha₂⋅b⋅c⋅p⋅⎝T_A⋅p  - 2⋅T_A⋅p + T_A - T_B⋅p  + T_B⋅p⎠ > c⋅p⋅⎝T_A⋅b⋅p  - T_A⋅\n",
       "\n",
       "                           2                                                  \n",
       "b⋅p + T_A⋅p - T_A - T_B⋅b⋅p  + T_B⋅b⋅p + T_B⋅c⋅p - T_B⋅c - T_B⋅p + T_B - c⋅p +\n",
       "\n",
       "  ⎞\n",
       " c⎠"
      ]
     },
     "execution_count": 8,
     "metadata": {},
     "output_type": "execute_result"
    }
   ],
   "source": [
    "ineq = simplify(reduce_inequalities(0 < f1.subs(W, 1+(b-c)*p), [α2]))\n",
    "ineq"
   ]
  },
  {
   "cell_type": "code",
   "execution_count": 10,
   "metadata": {},
   "outputs": [],
   "source": [
    "lhs, rhs = ineq.args\n",
    "lhs /= (c*p) # multiply by positive\n",
    "rhs /= (c*p)"
   ]
  },
  {
   "cell_type": "code",
   "execution_count": 11,
   "metadata": {},
   "outputs": [],
   "source": [
    "lhs = simplify(lhs / (1-p)) # multiply by positive\n",
    "rhs = simplify(rhs / (1-p))"
   ]
  },
  {
   "cell_type": "code",
   "execution_count": 12,
   "metadata": {},
   "outputs": [],
   "source": [
    "rhs = simplify(rhs.subs(p, pstar)*(1-α1)) # multiply by positive\n",
    "lhs = simplify(lhs.subs(p, pstar)*(1-α1))"
   ]
  },
  {
   "cell_type": "code",
   "execution_count": 13,
   "metadata": {},
   "outputs": [
    {
     "data": {
      "image/png": "[encoded data removed]",
      "text/latex": [
       "$\\displaystyle \\left( \\alpha_2 \\left(T_{A} b + T_{A} + T_{B} c - T_{B} - c\\right), \\  \\alpha_1 \\left(T_{A} b + T_{A} + T_{B} c - T_{B} - c\\right)\\right)$"
      ],
      "text/plain": [
       "(\\alpha₂⋅(T_A⋅b + T_A + T_B⋅c - T_B - c), \\alpha₁⋅(T_A⋅b + T_A + T_B⋅c - T_B -\n",
       " c))"
      ]
     },
     "execution_count": 13,
     "metadata": {},
     "output_type": "execute_result"
    }
   ],
   "source": [
    "lhs, rhs"
   ]
  },
  {
   "cell_type": "code",
   "execution_count": 14,
   "metadata": {},
   "outputs": [
    {
     "data": {
      "text/plain": [
       "'\\\\alpha_2 \\\\left(T_{A} b + T_{A} + T_{B} c - T_{B} - c\\\\right)'"
      ]
     },
     "execution_count": 14,
     "metadata": {},
     "output_type": "execute_result"
    }
   ],
   "source": [
    "latex(lhs)"
   ]
  },
  {
   "cell_type": "code",
   "execution_count": 15,
   "metadata": {},
   "outputs": [
    {
     "data": {
      "text/plain": [
       "'\\\\alpha_1 \\\\left(T_{A} b + T_{A} + T_{B} c - T_{B} - c\\\\right)'"
      ]
     },
     "execution_count": 15,
     "metadata": {},
     "output_type": "execute_result"
    }
   ],
   "source": [
    "latex(rhs)"
   ]
  },
  {
   "cell_type": "markdown",
   "metadata": {},
   "source": [
    "p* < 0 <=> TA α1 b + TA - TB > c(1-TB) => (α1<1) => TA b + TA - TB - c(1-TB) > 0"
   ]
  },
  {
   "cell_type": "code",
   "execution_count": 116,
   "metadata": {},
   "outputs": [],
   "source": [
    "rhs = simplify(rhs / (TA*b + TA - TB - c*(1-TB))) # multiply by positive\n",
    "lhs = simplify(lhs / (TA*b + TA - TB - c*(1-TB)))"
   ]
  },
  {
   "cell_type": "code",
   "execution_count": 117,
   "metadata": {},
   "outputs": [
    {
     "data": {
      "image/png": "[encoded data removed]",
      "text/latex": [
       "$\\displaystyle \\left( \\alpha_2, \\  \\alpha_1\\right)$"
      ],
      "text/plain": [
       "(\\alpha₂, \\alpha₁)"
      ]
     },
     "execution_count": 117,
     "metadata": {},
     "output_type": "execute_result"
    }
   ],
   "source": [
    "lhs, rhs"
   ]
  },
  {
   "cell_type": "code",
   "execution_count": 16,
   "metadata": {},
   "outputs": [
    {
     "data": {
      "image/png": "[encoded data removed]",
      "text/latex": [
       "$\\displaystyle \\frac{T_{A} \\alpha_1 b + T_{A} - T_{B}}{1 - T_{B}}$"
      ],
      "text/plain": [
       "T_A⋅\\alpha₁⋅b + T_A - T_B\n",
       "─────────────────────────\n",
       "         1 - T_B         "
      ]
     },
     "execution_count": 16,
     "metadata": {},
     "output_type": "execute_result"
    }
   ],
   "source": [
    "\n",
    "γ1"
   ]
  },
  {
   "cell_type": "markdown",
   "metadata": {},
   "source": [
    "# determine when $f'(1) > 0$"
   ]
  },
  {
   "cell_type": "code",
   "execution_count": 380,
   "metadata": {},
   "outputs": [
    {
     "data": {
      "image/png": "[encoded data removed]",
      "text/latex": [
       "$\\displaystyle \\frac{- T_{A} \\alpha_2 b p^{2} + T_{A} \\alpha_2 b p + T_{A} b p^{2} + T_{A} p + T_{B} \\alpha_2 b p^{2} - T_{B} \\alpha_2 b p - T_{B} b p^{2} + T_{B} b p + T_{B} c p - T_{B} c - T_{B} p + T_{B} + 2 W - 2 b p + c - 2}{W}$"
      ],
      "text/plain": [
       "                 2                            2                          2    \n",
       "- T_A⋅\\alpha₂⋅b⋅p  + T_A⋅\\alpha₂⋅b⋅p + T_A⋅b⋅p  + T_A⋅p + T_B⋅\\alpha₂⋅b⋅p  - T\n",
       "──────────────────────────────────────────────────────────────────────────────\n",
       "                                                                              \n",
       "\n",
       "                        2                                                     \n",
       "_B⋅\\alpha₂⋅b⋅p - T_B⋅b⋅p  + T_B⋅b⋅p + T_B⋅c⋅p - T_B⋅c - T_B⋅p + T_B + 2⋅W - 2⋅\n",
       "──────────────────────────────────────────────────────────────────────────────\n",
       "     W                                                                        \n",
       "\n",
       "           \n",
       "b⋅p + c - 2\n",
       "───────────\n",
       "           "
      ]
     },
     "execution_count": 380,
     "metadata": {},
     "output_type": "execute_result"
    }
   ],
   "source": [
    "# df = diff(f, λ)\n",
    "df = Poly(2*λ - (X+Q)/W, λ)\n",
    "df1 = df(1)\n",
    "df1"
   ]
  },
  {
   "cell_type": "code",
   "execution_count": 386,
   "metadata": {},
   "outputs": [
    {
     "data": {
      "image/png": "[encoded data removed]",
      "text/latex": [
       "$\\displaystyle \\frac{\\alpha_2 b p \\left(T_{A} p - T_{A} - T_{B} p + T_{B}\\right)}{W} < - \\frac{- T_{A} b p^{2} - T_{A} p + T_{B} b p^{2} - T_{B} b p - T_{B} c p + T_{B} c + T_{B} p - T_{B} - 2 W + 2 b p - c + 2}{W}$"
      ],
      "text/plain": [
       "                                           ⎛         2                  2     \n",
       "\\alpha₂⋅b⋅p⋅(T_A⋅p - T_A - T_B⋅p + T_B)   -⎝- T_A⋅b⋅p  - T_A⋅p + T_B⋅b⋅p  - T_\n",
       "─────────────────────────────────────── < ────────────────────────────────────\n",
       "                   W                                                          \n",
       "\n",
       "                                                           ⎞ \n",
       "B⋅b⋅p - T_B⋅c⋅p + T_B⋅c + T_B⋅p - T_B - 2⋅W + 2⋅b⋅p - c + 2⎠ \n",
       "─────────────────────────────────────────────────────────────\n",
       "            W                                                "
      ]
     },
     "execution_count": 386,
     "metadata": {},
     "output_type": "execute_result"
    }
   ],
   "source": [
    "ineq = simplify(reduce_inequalities(0 < df1, [α2]))\n",
    "ineq"
   ]
  },
  {
   "cell_type": "code",
   "execution_count": 455,
   "metadata": {},
   "outputs": [
    {
     "data": {
      "image/png": "[encoded data removed]",
      "text/latex": [
       "$\\displaystyle \\left( \\alpha_2 b p \\left(T_{A} p - T_{A} - T_{B} p + T_{B}\\right), \\  T_{A} b p^{2} + T_{A} p - T_{B} b p^{2} + T_{B} b p + T_{B} c p - T_{B} c - T_{B} p + T_{B} + 2 W - 2 b p + c - 2\\right)$"
      ],
      "text/plain": [
       "⎛                                                2                  2         \n",
       "⎝\\alpha₂⋅b⋅p⋅(T_A⋅p - T_A - T_B⋅p + T_B), T_A⋅b⋅p  + T_A⋅p - T_B⋅b⋅p  + T_B⋅b⋅\n",
       "\n",
       "                                                       ⎞\n",
       "p + T_B⋅c⋅p - T_B⋅c - T_B⋅p + T_B + 2⋅W - 2⋅b⋅p + c - 2⎠"
      ]
     },
     "execution_count": 455,
     "metadata": {},
     "output_type": "execute_result"
    }
   ],
   "source": [
    "lhs, rhs = ineq.args\n",
    "rhs = simplify(rhs * W) # multiply by mean fitness > 0\n",
    "lhs = simplify(lhs * W)\n",
    "lhs, rhs"
   ]
  },
  {
   "cell_type": "code",
   "execution_count": 456,
   "metadata": {},
   "outputs": [
    {
     "data": {
      "image/png": "[encoded data removed]",
      "text/latex": [
       "$\\displaystyle 0$"
      ],
      "text/plain": [
       "0"
      ]
     },
     "execution_count": 456,
     "metadata": {},
     "output_type": "execute_result"
    }
   ],
   "source": [
    "simplify(lhs - (\n",
    "    -α2*b*p*(1-p)*(TA-TB)\n",
    "))"
   ]
  },
  {
   "cell_type": "code",
   "execution_count": 457,
   "metadata": {},
   "outputs": [
    {
     "data": {
      "image/png": "[encoded data removed]",
      "text/latex": [
       "$\\displaystyle - \\alpha_2 b p \\left(1 - p\\right) \\left(T_{A} - T_{B}\\right)$"
      ],
      "text/plain": [
       "-\\alpha₂⋅b⋅p⋅(1 - p)⋅(T_A - T_B)"
      ]
     },
     "execution_count": 457,
     "metadata": {},
     "output_type": "execute_result"
    }
   ],
   "source": [
    "lhs = -α2*b*p*(1-p)*(TA-TB)\n",
    "lhs"
   ]
  },
  {
   "cell_type": "code",
   "execution_count": 460,
   "metadata": {},
   "outputs": [
    {
     "data": {
      "image/png": "[encoded data removed]",
      "text/latex": [
       "$\\displaystyle 0$"
      ],
      "text/plain": [
       "0"
      ]
     },
     "execution_count": 460,
     "metadata": {},
     "output_type": "execute_result"
    }
   ],
   "source": [
    "simplify(rhs.subs(W, 1+(b-c)*p) - ( \n",
    "    (TA-TB)*p + (TA-TB)*b*p*p -c*(1-TB) + 2*c*(1-TB)*(1-p) + TB*W\n",
    ").subs(W, 1+(b-c)*p))"
   ]
  },
  {
   "cell_type": "code",
   "execution_count": 463,
   "metadata": {},
   "outputs": [],
   "source": [
    "G = - α1*b*TA - (TA - TB) + c*(1-TB)\n",
    "H = b * (1-α1) * (TA - TB)"
   ]
  },
  {
   "cell_type": "markdown",
   "metadata": {},
   "source": [
    "multiply boths sides by $1-\\alpha_1$"
   ]
  },
  {
   "cell_type": "code",
   "execution_count": 461,
   "metadata": {},
   "outputs": [
    {
     "data": {
      "image/png": "[encoded data removed]",
      "text/latex": [
       "$\\displaystyle \\alpha_2 \\left(1 - p\\right) \\left(T_{A} \\alpha_1 b + T_{A} - T_{B} - c \\left(1 - T_{B}\\right)\\right)$"
      ],
      "text/plain": [
       "\\alpha₂⋅(1 - p)⋅(T_A⋅\\alpha₁⋅b + T_A - T_B - c⋅(1 - T_B))"
      ]
     },
     "execution_count": 461,
     "metadata": {},
     "output_type": "execute_result"
    }
   ],
   "source": [
    "lhs = α2*(1-p)*(TA*α1*b + (TA-TB) - c*(1-TB))\n",
    "lhs"
   ]
  },
  {
   "cell_type": "code",
   "execution_count": 464,
   "metadata": {},
   "outputs": [
    {
     "data": {
      "image/png": "[encoded data removed]",
      "text/latex": [
       "$\\displaystyle T_{B} W \\left(1 - \\alpha_1\\right) + c \\left(1 - T_{B}\\right) \\left(1 - \\alpha_1\\right) + p \\left(- T_{A} \\alpha_1 b - T_{A} + T_{B} + c \\left(1 - T_{B}\\right)\\right) - \\frac{2 c \\left(1 - T_{B}\\right) \\left(- T_{A} \\alpha_1 b - T_{A} + T_{B} + c \\left(1 - T_{B}\\right)\\right)}{b \\left(T_{A} - T_{B}\\right)} + \\frac{- T_{A} \\alpha_1 b - T_{A} + T_{B} + c \\left(1 - T_{B}\\right)}{b}$"
      ],
      "text/plain": [
       "                                                                              \n",
       "T_B⋅W⋅(1 - \\alpha₁) + c⋅(1 - T_B)⋅(1 - \\alpha₁) + p⋅(-T_A⋅\\alpha₁⋅b - T_A + T_\n",
       "                                                                              \n",
       "\n",
       "                   2⋅c⋅(1 - T_B)⋅(-T_A⋅\\alpha₁⋅b - T_A + T_B + c⋅(1 - T_B))   \n",
       "B + c⋅(1 - T_B)) - ──────────────────────────────────────────────────────── + \n",
       "                                        b⋅(T_A - T_B)                         \n",
       "\n",
       "-T_A⋅\\alpha₁⋅b - T_A + T_B + c⋅(1 - T_B)\n",
       "────────────────────────────────────────\n",
       "                   b                    "
      ]
     },
     "execution_count": 464,
     "metadata": {},
     "output_type": "execute_result"
    }
   ],
   "source": [
    "rhs = G/b  + G*p -c*(1-TB)*(1-α1) + 2*c*(1-TB)*(1-α1) - G/(b*(TA - TB))*2*c*(1-TB) + TB*W*(1-α1)\n",
    "rhs"
   ]
  },
  {
   "cell_type": "code",
   "execution_count": null,
   "metadata": {},
   "outputs": [],
   "source": []
  }
 ],
 "metadata": {
  "kernelspec": {
   "display_name": "Python [conda env:scipy]",
   "language": "python",
   "name": "conda-env-scipy-py"
  },
  "language_info": {
   "codemirror_mode": {
    "name": "ipython",
    "version": 3
   },
   "file_extension": ".py",
   "mimetype": "text/x-python",
   "name": "python",
   "nbconvert_exporter": "python",
   "pygments_lexer": "ipython3",
   "version": "3.6.11"
  }
 },
 "nbformat": 4,
 "nbformat_minor": 4
}
