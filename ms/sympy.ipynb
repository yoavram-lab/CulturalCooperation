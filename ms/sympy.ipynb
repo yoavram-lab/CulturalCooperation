{
 "cells": [
  {
   "cell_type": "code",
   "execution_count": 1,
   "metadata": {},
   "outputs": [],
   "source": [
    "from sympy import *\n",
    "b, c, TA, TB, α1, α2, p, w, p1, p2, p3, p4, x, y = symbols('b c TA TB α1, α2 p, w, p1, p2, p3, p4, x, y')"
   ]
  },
  {
   "cell_type": "code",
   "execution_count": 2,
   "metadata": {},
   "outputs": [],
   "source": [
    "#p = (c*(1-TB) - b*α1*TA-(TA-TB))/(b*(1-α1)*(TA-TB)) # equation 20\n",
    "w = 1 + p*(b-c) # mean fitness\n"
   ]
  },
  {
   "source": [
    "# $\\partial \\tilde{p}_3' / \\partial \\tilde{p}_3$"
   ],
   "cell_type": "markdown",
   "metadata": {}
  },
  {
   "cell_type": "code",
   "execution_count": 3,
   "metadata": {},
   "outputs": [
    {
     "output_type": "execute_result",
     "data": {
      "text/plain": "-b*p*(TB*(p - 1)*(α2 - 1) - 1) - (c - 1)*(TB*p - TB + 1)",
      "text/latex": "$\\displaystyle - b p \\left(TB \\left(p - 1\\right) \\left(α2 - 1\\right) - 1\\right) - \\left(c - 1\\right) \\left(TB p - TB + 1\\right)$"
     },
     "metadata": {},
     "execution_count": 3
    }
   ],
   "source": [
    "dp3p3 = b*(p-(1-α2)*TB*(p-p**2))+(1-c)*(1+p*TB-TB) # from equation 45\n",
    "dp3p3 =simplify(dp3p3)\n",
    "dp3p3"
   ]
  },
  {
   "cell_type": "code",
   "execution_count": 4,
   "metadata": {},
   "outputs": [
    {
     "output_type": "execute_result",
     "data": {
      "text/plain": "0",
      "text/latex": "$\\displaystyle 0$"
     },
     "metadata": {},
     "execution_count": 4
    }
   ],
   "source": [
    "### For sanity check - let sympy derive w*p3' by p3 and substitude p*, 1-p*, 0 ,0\n",
    "wp3 = p3*(p1+p3)*(1+b-c)*(1-(1-α2)*(p2+p4)*TB)\n",
    "wp3 += p3*(p2+p4)*(1-c)*(1-α2*TB*(p1+p3)-TB*(p2+p4))\n",
    "wp3 += p4*(p1+p3)*(1+b)*TA*(p1+p3+α2*(p2+p4))\n",
    "wp3 += p4*(p2+p4)*(p1+p3)*(1-α2)*TA\n",
    "dfp3dp3 = diff(wp3, p3)\n",
    "dfp3dp3 = dfp3dp3.subs(p3, 0)\n",
    "dfp3dp3 = dfp3dp3.subs(p4, 0)\n",
    "dfp3dp3 = dfp3dp3.subs(p1, p)\n",
    "dfp3dp3 = dfp3dp3.subs(p2, 1-p)\n",
    "### Sanity check - should be 0\n",
    "simplify(dp3p3-dfp3dp3)"
   ]
  },
  {
   "source": [
    "# $\\partial \\tilde{p}_3' / \\partial \\tilde{p}_4$"
   ],
   "cell_type": "markdown",
   "metadata": {}
  },
  {
   "cell_type": "code",
   "execution_count": 5,
   "metadata": {},
   "outputs": [
    {
     "output_type": "execute_result",
     "data": {
      "text/plain": "TA*p*(b*(p - α2*(p - 1)) + 1)",
      "text/latex": "$\\displaystyle TA p \\left(b \\left(p - α2 \\left(p - 1\\right)\\right) + 1\\right)$"
     },
     "metadata": {},
     "execution_count": 5
    }
   ],
   "source": [
    "dp3p4 = b*TA*p*(p+α2*(1-p)) + p*TA # from equation 45\n",
    "dp3p4 = simplify(dp3p4)\n",
    "dp3p4"
   ]
  },
  {
   "cell_type": "code",
   "execution_count": 6,
   "metadata": {},
   "outputs": [
    {
     "output_type": "execute_result",
     "data": {
      "text/plain": "0",
      "text/latex": "$\\displaystyle 0$"
     },
     "metadata": {},
     "execution_count": 6
    }
   ],
   "source": [
    "### For sanity check - let sympy derive w*p3' by p4 and substitude p*, 1-p*, 0 ,0\n",
    "\n",
    "dfp3dp4 = diff(wp3, p4)\n",
    "dfp3dp4 = dfp3dp4.subs(p3, 0)\n",
    "dfp3dp4 = dfp3dp4.subs(p4, 0)\n",
    "dfp3dp4 = dfp3dp4.subs(p1, p)\n",
    "dfp3dp4 = dfp3dp4.subs(p2, 1-p)\n",
    "### Sanity check - should be 0\n",
    "simplify(dp3p4-dfp3dp4)"
   ]
  },
  {
   "source": [
    "# $\\partial \\tilde{p}_4' / \\partial \\tilde{p}_3$"
   ],
   "cell_type": "markdown",
   "metadata": {}
  },
  {
   "cell_type": "code",
   "execution_count": 9,
   "metadata": {},
   "outputs": [
    {
     "output_type": "execute_result",
     "data": {
      "text/plain": "TB*(p - 1)*(b*p*(α2 - 1) + c - 1)",
      "text/latex": "$\\displaystyle TB \\left(p - 1\\right) \\left(b p \\left(α2 - 1\\right) + c - 1\\right)$"
     },
     "metadata": {},
     "execution_count": 9
    }
   ],
   "source": [
    "dp4p3 = (1-p)*(1-c)*TB+b*p*(1-α2)*(1-p)*TB\n",
    "dp4p3 = simplify(dp4p3)\n",
    "dp4p3"
   ]
  },
  {
   "cell_type": "code",
   "execution_count": 10,
   "metadata": {},
   "outputs": [
    {
     "output_type": "execute_result",
     "data": {
      "text/plain": "0",
      "text/latex": "$\\displaystyle 0$"
     },
     "metadata": {},
     "execution_count": 10
    }
   ],
   "source": [
    "### For sanity check - let sympy derive w*p4' by p3 and substitude p*, 1-p*, 0 ,0\n",
    "\n",
    "wp4 = p4*(p2+p4)*(1-(1-α2)*(p1+p3)*TA)\n",
    "wp4 += p4*(p1+p3)*(1+b)*(1-α2*TA*(p2+p4)-TA*(p1+p3))\n",
    "wp4 += p3*(p2+p4)*(1-c)*(α2*TB+(1-α2)*(p2+p4)*TB)\n",
    "wp4 += p3*(p1+p3)*(1+b-c)*(1-α2)*(p2+p4)*TB\n",
    "\n",
    "dfp4dp3 = diff(wp4, p3)\n",
    "dfp4dp3 = dfp4dp3.subs(p3, 0)\n",
    "dfp4dp3 = dfp4dp3.subs(p4, 0)\n",
    "dfp4dp3 = dfp4dp3.subs(p1, p)\n",
    "dfp4dp3 = dfp4dp3.subs(p2, 1-p)\n",
    "### Sanity check - should be 0\n",
    "simplify(dp4p3-dfp4dp3)"
   ]
  },
  {
   "source": [
    "# $\\partial \\tilde{p}_4' / \\partial \\tilde{p}_4$"
   ],
   "cell_type": "markdown",
   "metadata": {}
  },
  {
   "cell_type": "code",
   "execution_count": 11,
   "metadata": {},
   "outputs": [
    {
     "output_type": "execute_result",
     "data": {
      "text/plain": "TB*(p - 1)*(b*p*(α2 - 1) + c - 1)",
      "text/latex": "$\\displaystyle TB \\left(p - 1\\right) \\left(b p \\left(α2 - 1\\right) + c - 1\\right)$"
     },
     "metadata": {},
     "execution_count": 11
    }
   ],
   "source": [
    "dp4p4 = 1-p*TA+b*p*(1-α2*TA*(1-p)-TA*p)\n",
    "dp4p3 = simplify(dp4p3)\n",
    "dp4p3"
   ]
  },
  {
   "cell_type": "code",
   "execution_count": 12,
   "metadata": {},
   "outputs": [
    {
     "output_type": "execute_result",
     "data": {
      "text/plain": "0",
      "text/latex": "$\\displaystyle 0$"
     },
     "metadata": {},
     "execution_count": 12
    }
   ],
   "source": [
    "### For sanity check - let sympy derive w*p4' by p4 and substitude p*, 1-p*, 0 ,0\n",
    "dfp4dp4 = diff(wp4, p4)\n",
    "dfp4dp4 = dfp4dp4.subs(p3, 0)\n",
    "dfp4dp4 = dfp4dp4.subs(p4, 0)\n",
    "dfp4dp4 = dfp4dp4.subs(p1, p)\n",
    "dfp4dp4 = dfp4dp4.subs(p2, 1-p)\n",
    "### Sanity check - should be 0\n",
    "simplify(dp4p4-dfp4dp4)"
   ]
  },
  {
   "source": [
    "# Find the eigenvalues \n",
    "We will mark the eigenvalues in x and solve the typical polynomial equation."
   ],
   "cell_type": "markdown",
   "metadata": {}
  },
  {
   "cell_type": "code",
   "execution_count": 13,
   "metadata": {
    "tags": []
   },
   "outputs": [
    {
     "output_type": "execute_result",
     "data": {
      "text/plain": "(-TA*TB*p*(p - 1)*((b + 1)*(p - α2*(p - 1)) + (p - 1)*(α2 - 1))*(p*(α2 - 1)*(b - c + 1) + (c - 1)*(α2 + (p - 1)*(α2 - 1))) + (-p*(b + 1)*(-TA*p + TA*α2*(p - 1) + 1) + (p - 1)*(TA*p*(α2 - 1) + 1))*(p*(TB*(p - 1)*(α2 - 1) - 1)*(b - c + 1) - (c - 1)*(p - 1)*(-TB*p*α2 + TB*(p - 1) + 1)))/(p*(b - c) + 1)**2",
      "text/latex": "$\\displaystyle \\frac{- TA TB p \\left(p - 1\\right) \\left(\\left(b + 1\\right) \\left(p - α2 \\left(p - 1\\right)\\right) + \\left(p - 1\\right) \\left(α2 - 1\\right)\\right) \\left(p \\left(α2 - 1\\right) \\left(b - c + 1\\right) + \\left(c - 1\\right) \\left(α2 + \\left(p - 1\\right) \\left(α2 - 1\\right)\\right)\\right) + \\left(- p \\left(b + 1\\right) \\left(- TA p + TA α2 \\left(p - 1\\right) + 1\\right) + \\left(p - 1\\right) \\left(TA p \\left(α2 - 1\\right) + 1\\right)\\right) \\left(p \\left(TB \\left(p - 1\\right) \\left(α2 - 1\\right) - 1\\right) \\left(b - c + 1\\right) - \\left(c - 1\\right) \\left(p - 1\\right) \\left(- TB p α2 + TB \\left(p - 1\\right) + 1\\right)\\right)}{\\left(p \\left(b - c\\right) + 1\\right)^{2}}$"
     },
     "metadata": {},
     "execution_count": 13
    }
   ],
   "source": [
    "dp4p4 = simplify(dfp4dp4/w)\n",
    "dp3p3 = simplify(dfp3dp3/w)\n",
    "dp3p4 = simplify(dfp3dp4/w)\n",
    "dp4p3 = simplify(dfp4dp3/w)\n",
    "\n",
    "dp3p4dp4p3 = dp4p3*dp3p4\n",
    "dp3p4dp4p3 = simplify(dp3p4dp4p3)\n",
    "\n",
    "a3 = simplify(-dp3p4dp4p3 + dp3p3*dp4p4)\n",
    "a2 = simplify(-dp3p3 - dp4p4)\n",
    "a2\n",
    "a3\n"
   ]
  },
  {
   "cell_type": "code",
   "execution_count": 18,
   "metadata": {},
   "outputs": [
    {
     "output_type": "execute_result",
     "data": {
      "text/plain": "[]"
     },
     "metadata": {},
     "execution_count": 18
    }
   ],
   "source": [
    "z = (-a2+(a2**2-4*a3)**0.5)/2\n",
    "z = simplify(z-1)\n",
    "z = z*(2)*(p*(b-c)+1)\n",
    "z = z.subs(p, (c*(1-TB) - b*α1*TA-(TA-TB))/(b*(1-α1)*(TA-TB)))\n",
    "solve(z, α2)"
   ]
  },
  {
   "cell_type": "code",
   "execution_count": 149,
   "metadata": {},
   "outputs": [
    {
     "output_type": "execute_result",
     "data": {
      "text/plain": "0.290598290598291",
      "text/latex": "$\\displaystyle 0.290598290598291$"
     },
     "metadata": {},
     "execution_count": 149
    }
   ],
   "source": []
  },
  {
   "cell_type": "code",
   "execution_count": 23,
   "metadata": {},
   "outputs": [
    {
     "output_type": "execute_result",
     "data": {
      "text/plain": "[(2*TA*TB*b**2*p**2 - TA*TB*b**2*p - 2*TA*TB*b*c*p**2 + TA*TB*b*c*p + TA*TB*b*p - TA*TB*c*p + TA*b*c*p - TA*b*c - TB*b*c*p - sqrt(TA**2*TB**2*b**4*p**2 - 2*TA**2*TB**2*b**3*c*p**2 + 2*TA**2*TB**2*b**3*p**2 + TA**2*TB**2*b**2*c**2*p**2 - 4*TA**2*TB**2*b**2*c*p**2 + TA**2*TB**2*b**2*p**2 + 2*TA**2*TB**2*b*c**2*p**2 - 2*TA**2*TB**2*b*c*p**2 + TA**2*TB**2*c**2*p**2 - 2*TA**2*TB*b**3*c*p**2 + 2*TA**2*TB*b**3*c*p + 2*TA**2*TB*b**2*c**2*p**2 - 2*TA**2*TB*b**2*c**2*p - 2*TA**2*TB*b**2*c*p**2 + 2*TA**2*TB*b**2*c*p + 2*TA**2*TB*b*c**2*p**2 - 2*TA**2*TB*b*c**2*p + TA**2*b**2*c**2*p**2 - 2*TA**2*b**2*c**2*p + TA**2*b**2*c**2 - 2*TA*TB**2*b**3*c*p**2 - 2*TA*TB**2*b**2*c**2*p**2 + 4*TA*TB**2*b**2*c**2*p + 2*TA*TB**2*b**2*c*p**2 - 4*TA*TB**2*b**2*c*p + 4*TA*TB**2*b*c**3*p**2 - 4*TA*TB**2*b*c**3*p - 2*TA*TB**2*b*c**2*p**2 + 4*TA*TB**2*b*c**2*p + 2*TA*TB*b**2*c**2*p**2 - 2*TA*TB*b**2*c**2*p - 4*TA*TB*b*c**3*p**2 + 4*TA*TB*b*c**3*p + TB**2*b**2*c**2*p**2))/(2*TA*TB*b*p*(b*p - b - c*p + c)),\n (2*TA*TB*b**2*p**2 - TA*TB*b**2*p - 2*TA*TB*b*c*p**2 + TA*TB*b*c*p + TA*TB*b*p - TA*TB*c*p + TA*b*c*p - TA*b*c - TB*b*c*p + sqrt(TA**2*TB**2*b**4*p**2 - 2*TA**2*TB**2*b**3*c*p**2 + 2*TA**2*TB**2*b**3*p**2 + TA**2*TB**2*b**2*c**2*p**2 - 4*TA**2*TB**2*b**2*c*p**2 + TA**2*TB**2*b**2*p**2 + 2*TA**2*TB**2*b*c**2*p**2 - 2*TA**2*TB**2*b*c*p**2 + TA**2*TB**2*c**2*p**2 - 2*TA**2*TB*b**3*c*p**2 + 2*TA**2*TB*b**3*c*p + 2*TA**2*TB*b**2*c**2*p**2 - 2*TA**2*TB*b**2*c**2*p - 2*TA**2*TB*b**2*c*p**2 + 2*TA**2*TB*b**2*c*p + 2*TA**2*TB*b*c**2*p**2 - 2*TA**2*TB*b*c**2*p + TA**2*b**2*c**2*p**2 - 2*TA**2*b**2*c**2*p + TA**2*b**2*c**2 - 2*TA*TB**2*b**3*c*p**2 - 2*TA*TB**2*b**2*c**2*p**2 + 4*TA*TB**2*b**2*c**2*p + 2*TA*TB**2*b**2*c*p**2 - 4*TA*TB**2*b**2*c*p + 4*TA*TB**2*b*c**3*p**2 - 4*TA*TB**2*b*c**3*p - 2*TA*TB**2*b*c**2*p**2 + 4*TA*TB**2*b*c**2*p + 2*TA*TB*b**2*c**2*p**2 - 2*TA*TB*b**2*c**2*p - 4*TA*TB*b*c**3*p**2 + 4*TA*TB*b*c**3*p + TB**2*b**2*c**2*p**2))/(2*TA*TB*b*p*(b*p - b - c*p + c))]"
     },
     "metadata": {},
     "execution_count": 23
    }
   ],
   "source": [
    "result = solve(z-1, α2)"
   ]
  },
  {
   "cell_type": "code",
   "execution_count": 16,
   "metadata": {},
   "outputs": [
    {
     "output_type": "execute_result",
     "data": {
      "text/plain": "(-0.39*p**2*α2 + 0.39*p**2 + 0.39*p*α2 + 1.78*p - 2.55182287786594*sqrt(0.406661752510827*p**4*α2**2 - 0.813323505021653*p**4*α2 + 0.406661752510827*p**4 - 0.813323505021653*p**3*α2**2 + p**3*α2 - 0.186676494978347*p**3 + 0.406661752510827*p**2*α2**2 - 0.0485272889216498*p**2*α2 - 0.329739856875211*p**2 - 0.138149206056697*p*α2 + 0.175803925181977*p + 0.103258699591511) + 1.18)/(2*(1.2*p + 1))",
      "text/latex": "$\\displaystyle \\frac{- 0.39 p^{2} α2 + 0.39 p^{2} + 0.39 p α2 + 1.78 p - 2.55182287786594 \\sqrt{0.406661752510827 p^{4} α2^{2} - 0.813323505021653 p^{4} α2 + 0.406661752510827 p^{4} - 0.813323505021653 p^{3} α2^{2} + p^{3} α2 - 0.186676494978347 p^{3} + 0.406661752510827 p^{2} α2^{2} - 0.0485272889216498 p^{2} α2 - 0.329739856875211 p^{2} - 0.138149206056697 p α2 + 0.175803925181977 p + 0.103258699591511} + 1.18}{2 \\left(1.2 p + 1\\right)}$"
     },
     "metadata": {},
     "execution_count": 16
    }
   ],
   "source": [
    "result1"
   ]
  },
  {
   "cell_type": "code",
   "execution_count": 17,
   "metadata": {},
   "outputs": [
    {
     "output_type": "execute_result",
     "data": {
      "text/plain": "[0.1*(6.24000000000001e+43*p**3 - 7.15500000000001e+43*p**2 + 5.9e+42*p - 7.34812220910894e+43*sqrt(-1.88136435107761e-15*p**6 + 2.1572374890962e-15*p**5 + 0.487016829367217*p**4 - p**3 + 0.540905715169396*p**2 - 0.0298787478076619*p + 0.00195620327104905) + 3.25000000000001e+42)/(p*(6.24000000000002e+42*p**2 - 1.248e+43*p + 6.24000000000002e+42)),\n 0.1*(6.24000000000001e+43*p**3 - 7.15500000000001e+43*p**2 + 5.9e+42*p + 7.34812220910894e+43*sqrt(-1.88136435107761e-15*p**6 + 2.1572374890962e-15*p**5 + 0.487016829367217*p**4 - p**3 + 0.540905715169396*p**2 - 0.0298787478076619*p + 0.00195620327104905) + 3.25000000000001e+42)/(p*(6.24000000000002e+42*p**2 - 1.248e+43*p + 6.24000000000002e+42))]"
     },
     "metadata": {},
     "execution_count": 17
    }
   ],
   "source": [
    "solve(result1-1, α2)"
   ]
  },
  {
   "cell_type": "code",
   "execution_count": null,
   "metadata": {},
   "outputs": [],
   "source": []
  }
 ],
 "metadata": {
  "language_info": {
   "codemirror_mode": {
    "name": "ipython",
    "version": 3
   },
   "file_extension": ".py",
   "mimetype": "text/x-python",
   "name": "python",
   "nbconvert_exporter": "python",
   "pygments_lexer": "ipython3",
   "version": 3
  },
  "orig_nbformat": 2,
  "kernelspec": {
   "name": "python_defaultSpec_1603535707786",
   "display_name": "Python 3.8.6 64-bit"
  }
 },
 "nbformat": 4,
 "nbformat_minor": 2
}