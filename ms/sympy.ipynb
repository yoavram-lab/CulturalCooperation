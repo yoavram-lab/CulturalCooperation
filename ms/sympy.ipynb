{
 "cells": [
  {
   "cell_type": "code",
   "execution_count": 1,
   "metadata": {},
   "outputs": [],
   "source": [
    "from sympy import *\n",
    "b, c, TA, TB, α1, α2, p, w, p1, p2, p3, p4, x, y = symbols('b c TA TB α1, α2 p, w, p1, p2, p3, p4, x, y')"
   ]
  },
  {
   "cell_type": "code",
   "execution_count": 2,
   "metadata": {},
   "outputs": [],
   "source": [
    "#p = (c*(1-TB) - b*α1*TA-(TA-TB))/(b*(1-α1)*(TA-TB)) # equation 20\n",
    "w = 1 + p*(b-c) # mean fitness\n"
   ]
  },
  {
   "source": [
    "# $\\partial\\bar{w} \\tilde{p}_3' / \\partial \\tilde{p}_3$"
   ],
   "cell_type": "markdown",
   "metadata": {}
  },
  {
   "cell_type": "code",
   "execution_count": 3,
   "metadata": {},
   "outputs": [
    {
     "output_type": "execute_result",
     "data": {
      "text/plain": "-b*p*(TB*(p - 1)*(α2 - 1) - 1) - (c - 1)*(TB*p - TB + 1)",
      "text/latex": "$\\displaystyle - b p \\left(TB \\left(p - 1\\right) \\left(α2 - 1\\right) - 1\\right) - \\left(c - 1\\right) \\left(TB p - TB + 1\\right)$"
     },
     "metadata": {},
     "execution_count": 3
    }
   ],
   "source": [
    "dp3p3 = b*(p-(1-α2)*TB*(p-p**2))+(1-c)*(1+p*TB-TB) # from equation 45\n",
    "dp3p3 =simplify(dp3p3)\n",
    "dp3p3"
   ]
  },
  {
   "cell_type": "code",
   "execution_count": 4,
   "metadata": {},
   "outputs": [
    {
     "output_type": "execute_result",
     "data": {
      "text/plain": "0",
      "text/latex": "$\\displaystyle 0$"
     },
     "metadata": {},
     "execution_count": 4
    }
   ],
   "source": [
    "### For sanity check - let sympy derive w*p3' by p3 and substitude p*, 1-p*, 0 ,0\n",
    "wp3 = p3*(p1+p3)*(1+b-c)*(1-(1-α2)*(p2+p4)*TB)\n",
    "wp3 += p3*(p2+p4)*(1-c)*(1-α2*TB*(p1+p3)-TB*(p2+p4))\n",
    "wp3 += p4*(p1+p3)*(1+b)*TA*(p1+p3+α2*(p2+p4))\n",
    "wp3 += p4*(p2+p4)*(p1+p3)*(1-α2)*TA\n",
    "dfp3dp3 = diff(wp3, p3)\n",
    "dfp3dp3 = dfp3dp3.subs(p3, 0)\n",
    "dfp3dp3 = dfp3dp3.subs(p4, 0)\n",
    "dfp3dp3 = dfp3dp3.subs(p1, p)\n",
    "dfp3dp3 = dfp3dp3.subs(p2, 1-p)\n",
    "### Sanity check - should be 0\n",
    "simplify(dp3p3-dfp3dp3)"
   ]
  },
  {
   "source": [
    "# $\\partial \\bar{w} \\tilde{p}_3' / \\partial \\tilde{p}_4$"
   ],
   "cell_type": "markdown",
   "metadata": {}
  },
  {
   "cell_type": "code",
   "execution_count": 5,
   "metadata": {},
   "outputs": [
    {
     "output_type": "execute_result",
     "data": {
      "text/plain": "TA*p*(b*(p - α2*(p - 1)) + 1)",
      "text/latex": "$\\displaystyle TA p \\left(b \\left(p - α2 \\left(p - 1\\right)\\right) + 1\\right)$"
     },
     "metadata": {},
     "execution_count": 5
    }
   ],
   "source": [
    "dp3p4 = b*TA*p*(p+α2*(1-p)) + p*TA # from equation 45\n",
    "dp3p4 = simplify(dp3p4)\n",
    "dp3p4"
   ]
  },
  {
   "cell_type": "code",
   "execution_count": 6,
   "metadata": {},
   "outputs": [
    {
     "output_type": "execute_result",
     "data": {
      "text/plain": "0",
      "text/latex": "$\\displaystyle 0$"
     },
     "metadata": {},
     "execution_count": 6
    }
   ],
   "source": [
    "### For sanity check - let sympy derive w*p3' by p4 and substitude p*, 1-p*, 0 ,0\n",
    "\n",
    "dfp3dp4 = diff(wp3, p4)\n",
    "dfp3dp4 = dfp3dp4.subs(p3, 0)\n",
    "dfp3dp4 = dfp3dp4.subs(p4, 0)\n",
    "dfp3dp4 = dfp3dp4.subs(p1, p)\n",
    "dfp3dp4 = dfp3dp4.subs(p2, 1-p)\n",
    "### Sanity check - should be 0\n",
    "simplify(dp3p4-dfp3dp4)"
   ]
  },
  {
   "source": [
    "# $\\partial \\bar{w} \\tilde{p}_4' / \\partial \\tilde{p}_3$"
   ],
   "cell_type": "markdown",
   "metadata": {}
  },
  {
   "cell_type": "code",
   "execution_count": 7,
   "metadata": {},
   "outputs": [
    {
     "output_type": "execute_result",
     "data": {
      "text/plain": "TB*(p - 1)*(b*p*(α2 - 1) + c - 1)",
      "text/latex": "$\\displaystyle TB \\left(p - 1\\right) \\left(b p \\left(α2 - 1\\right) + c - 1\\right)$"
     },
     "metadata": {},
     "execution_count": 7
    }
   ],
   "source": [
    "dp4p3 = (1-p)*(1-c)*TB+b*p*(1-α2)*(1-p)*TB\n",
    "dp4p3 = simplify(dp4p3)\n",
    "dp4p3"
   ]
  },
  {
   "cell_type": "code",
   "execution_count": 8,
   "metadata": {},
   "outputs": [
    {
     "output_type": "execute_result",
     "data": {
      "text/plain": "0",
      "text/latex": "$\\displaystyle 0$"
     },
     "metadata": {},
     "execution_count": 8
    }
   ],
   "source": [
    "### For sanity check - let sympy derive w*p4' by p3 and substitude p*, 1-p*, 0 ,0\n",
    "\n",
    "wp4 = p4*(p2+p4)*(1-(1-α2)*(p1+p3)*TA)\n",
    "wp4 += p4*(p1+p3)*(1+b)*(1-α2*TA*(p2+p4)-TA*(p1+p3))\n",
    "wp4 += p3*(p2+p4)*(1-c)*(α2*TB+(1-α2)*(p2+p4)*TB)\n",
    "wp4 += p3*(p1+p3)*(1+b-c)*(1-α2)*(p2+p4)*TB\n",
    "\n",
    "dfp4dp3 = diff(wp4, p3)\n",
    "dfp4dp3 = dfp4dp3.subs(p3, 0)\n",
    "dfp4dp3 = dfp4dp3.subs(p4, 0)\n",
    "dfp4dp3 = dfp4dp3.subs(p1, p)\n",
    "dfp4dp3 = dfp4dp3.subs(p2, 1-p)\n",
    "### Sanity check - should be 0\n",
    "simplify(dp4p3-dfp4dp3)"
   ]
  },
  {
   "source": [
    "# $\\partial \\bar{w} \\tilde{p}_4' / \\partial \\tilde{p}_4$"
   ],
   "cell_type": "markdown",
   "metadata": {}
  },
  {
   "cell_type": "code",
   "execution_count": 9,
   "metadata": {},
   "outputs": [
    {
     "output_type": "execute_result",
     "data": {
      "text/plain": "TB*(p - 1)*(b*p*(α2 - 1) + c - 1)",
      "text/latex": "$\\displaystyle TB \\left(p - 1\\right) \\left(b p \\left(α2 - 1\\right) + c - 1\\right)$"
     },
     "metadata": {},
     "execution_count": 9
    }
   ],
   "source": [
    "dp4p4 = 1-p*TA+b*p*(1-α2*TA*(1-p)-TA*p)\n",
    "dp4p3 = simplify(dp4p3)\n",
    "dp4p3"
   ]
  },
  {
   "cell_type": "code",
   "execution_count": 10,
   "metadata": {},
   "outputs": [
    {
     "output_type": "execute_result",
     "data": {
      "text/plain": "0",
      "text/latex": "$\\displaystyle 0$"
     },
     "metadata": {},
     "execution_count": 10
    }
   ],
   "source": [
    "### For sanity check - let sympy derive w*p4' by p4 and substitude p*, 1-p*, 0 ,0\n",
    "dfp4dp4 = diff(wp4, p4)\n",
    "dfp4dp4 = dfp4dp4.subs(p3, 0)\n",
    "dfp4dp4 = dfp4dp4.subs(p4, 0)\n",
    "dfp4dp4 = dfp4dp4.subs(p1, p)\n",
    "dfp4dp4 = dfp4dp4.subs(p2, 1-p)\n",
    "### Sanity check - should be 0\n",
    "simplify(dp4p4-dfp4dp4)"
   ]
  },
  {
   "source": [
    "# Find the eigenvalues \n",
    "We will mark the eigenvalues in x and solve the typical polynomial equation."
   ],
   "cell_type": "markdown",
   "metadata": {}
  },
  {
   "cell_type": "code",
   "execution_count": 11,
   "metadata": {
    "tags": []
   },
   "outputs": [
    {
     "output_type": "execute_result",
     "data": {
      "text/plain": "(-TA*TB*p*(p - 1)*((b + 1)*(p - α2*(p - 1)) + (p - 1)*(α2 - 1))*(p*(α2 - 1)*(b - c + 1) + (c - 1)*(α2 + (p - 1)*(α2 - 1))) + (-p*(b + 1)*(-TA*p + TA*α2*(p - 1) + 1) + (p - 1)*(TA*p*(α2 - 1) + 1))*(p*(TB*(p - 1)*(α2 - 1) - 1)*(b - c + 1) - (c - 1)*(p - 1)*(-TB*p*α2 + TB*(p - 1) + 1)))/(p*(b - c) + 1)**2",
      "text/latex": "$\\displaystyle \\frac{- TA TB p \\left(p - 1\\right) \\left(\\left(b + 1\\right) \\left(p - α2 \\left(p - 1\\right)\\right) + \\left(p - 1\\right) \\left(α2 - 1\\right)\\right) \\left(p \\left(α2 - 1\\right) \\left(b - c + 1\\right) + \\left(c - 1\\right) \\left(α2 + \\left(p - 1\\right) \\left(α2 - 1\\right)\\right)\\right) + \\left(- p \\left(b + 1\\right) \\left(- TA p + TA α2 \\left(p - 1\\right) + 1\\right) + \\left(p - 1\\right) \\left(TA p \\left(α2 - 1\\right) + 1\\right)\\right) \\left(p \\left(TB \\left(p - 1\\right) \\left(α2 - 1\\right) - 1\\right) \\left(b - c + 1\\right) - \\left(c - 1\\right) \\left(p - 1\\right) \\left(- TB p α2 + TB \\left(p - 1\\right) + 1\\right)\\right)}{\\left(p \\left(b - c\\right) + 1\\right)^{2}}$"
     },
     "metadata": {},
     "execution_count": 11
    }
   ],
   "source": [
    "dp4p4 = simplify(dfp4dp4/w)\n",
    "dp3p3 = simplify(dfp3dp3/w)\n",
    "dp3p4 = simplify(dfp3dp4/w)\n",
    "dp4p3 = simplify(dfp4dp3/w)\n",
    "\n",
    "dp3p4dp4p3 = dp4p3*dp3p4\n",
    "dp3p4dp4p3 = simplify(dp3p4dp4p3)\n",
    "\n",
    "a3 = simplify(-dp3p4dp4p3 + dp3p3*dp4p4)\n",
    "a2 = simplify(-dp3p3 - dp4p4)\n",
    "a2\n",
    "a3\n"
   ]
  },
  {
   "cell_type": "code",
   "execution_count": 33,
   "metadata": {},
   "outputs": [],
   "source": [
    "value_at_1 = simplify(1+a2+a3)"
   ]
  },
  {
   "cell_type": "code",
   "execution_count": 39,
   "metadata": {},
   "outputs": [
    {
     "output_type": "execute_result",
     "data": {
      "text/plain": "Poly((TA*b*c*p**3 - 2*TA*b*c*p**2 + TA*b*c*p - TB*b*c*p**3 + TB*b*c*p**2)/(b**2*p**2 - 2*b*c*p**2 + 2*b*p + c**2*p**2 - 2*c*p + 1)*α2 + (-TA*b*c*p**3 + TA*b*c*p**2 - TA*c*p**2 + TA*c*p + TB*b*c*p**3 - TB*b*c*p**2 - TB*c**2*p**2 + TB*c**2*p + TB*c*p**2 - TB*c*p + c**2*p**2 - c**2*p)/(b**2*p**2 - 2*b*c*p**2 + 2*b*p + c**2*p**2 - 2*c*p + 1), α2, domain='ZZ(p,b,c,TA,TB)')",
      "text/latex": "$\\displaystyle \\operatorname{Poly}{\\left( \\frac{TA b c p^{3} - 2 TA b c p^{2} + TA b c p - TB b c p^{3} + TB b c p^{2}}{b^{2} p^{2} - 2 b c p^{2} + 2 b p + c^{2} p^{2} - 2 c p + 1} α2 + \\frac{- TA b c p^{3} + TA b c p^{2} - TA c p^{2} + TA c p + TB b c p^{3} - TB b c p^{2} - TB c^{2} p^{2} + TB c^{2} p + TB c p^{2} - TB c p + c^{2} p^{2} - c^{2} p}{b^{2} p^{2} - 2 b c p^{2} + 2 b p + c^{2} p^{2} - 2 c p + 1}, α2, domain=\\mathbb{Z}\\left(p, b, c, TA, TB\\right) \\right)}$"
     },
     "metadata": {},
     "execution_count": 39
    }
   ],
   "source": [
    "value_at_1_poly = poly(value_at_1, α2)\n",
    "value_at_1_poly\n"
   ]
  },
  {
   "cell_type": "code",
   "execution_count": 64,
   "metadata": {},
   "outputs": [],
   "source": [
    "### d*α2 + e > 0\n",
    "#d = TA*b*c*p**3-2*TA*b*c*p**2+TA*b*c*p-TB*b*c*p**3 + TB*b*c*p**2\n",
    "#e = -TA*b*c*p**3+TA*b*c*p**2-TA*c*p**2+TA*c*p + TB*b*c*p**3-TB*b*c*p**2-TB*(c**2)*p**2+\n",
    "e = value_at_1_poly.coeffs()[1]\n",
    "d =value_at_1_poly.coeffs()[0]"
   ]
  },
  {
   "cell_type": "code",
   "execution_count": null,
   "metadata": {},
   "outputs": [],
   "source": []
  },
  {
   "cell_type": "code",
   "execution_count": 65,
   "metadata": {
    "tags": []
   },
   "outputs": [
    {
     "output_type": "execute_result",
     "data": {
      "text/plain": "0",
      "text/latex": "$\\displaystyle 0$"
     },
     "metadata": {},
     "execution_count": 65
    }
   ],
   "source": [
    "denominator = (b**2)*(p**2)-2*b*c*p**2+2*b*p+(c**2)*p**2-2*c*p+1\n",
    "denominator2 = (p*c-(b*p+1))**2\n",
    "\n",
    "# sanity check\n",
    "simplify(denominator-denominator2)\n"
   ]
  },
  {
   "cell_type": "code",
   "execution_count": 70,
   "metadata": {},
   "outputs": [
    {
     "output_type": "execute_result",
     "data": {
      "text/plain": "TA*(TA*b + TA + TB*b*α1 - TB*b + TB*c - TB - c)/(TA*b*α1 + TA + TB*c - TB - c)",
      "text/latex": "$\\displaystyle \\frac{TA \\left(TA b + TA + TB b α1 - TB b + TB c - TB - c\\right)}{TA b α1 + TA + TB c - TB - c}$"
     },
     "metadata": {},
     "execution_count": 70
    }
   ],
   "source": [
    "d_numerator = d*denominator2\n",
    "simplify(solve(d_numerator, TB)[0].subs(p, (c*(1-TB) - b*α1*TA-(TA-TB))/(b*(1-α1)*(TA-TB))))"
   ]
  },
  {
   "cell_type": "code",
   "execution_count": 63,
   "metadata": {},
   "outputs": [
    {
     "output_type": "execute_result",
     "data": {
      "text/plain": "α1",
      "text/latex": "$\\displaystyle α1$"
     },
     "metadata": {},
     "execution_count": 63
    }
   ],
   "source": [
    "result = -e/d\n",
    "result = simplify(result)\n",
    "simplify(result.subs(p, (c*(1-TB) - b*α1*TA-(TA-TB))/(b*(1-α1)*(TA-TB))))"
   ]
  },
  {
   "cell_type": "code",
   "execution_count": 176,
   "metadata": {},
   "outputs": [
    {
     "output_type": "execute_result",
     "data": {
      "text/plain": "0",
      "text/latex": "$\\displaystyle 0$"
     },
     "metadata": {},
     "execution_count": 176
    }
   ],
   "source": [
    "# checking the slope at 1:\n",
    "\n",
    "slope = a2+2\n",
    "slope_numerator = simplify(slope*(p*(b-c)+1))\n",
    "slope_poly=poly(slope_numerator, c)\n",
    "# slope = h*c + g\n",
    "g = slope_poly.coeffs()[1]\n",
    "h =slope_poly.coeffs()[0]\n",
    "\n",
    "#sanity_check:\n",
    "g1 = TA*b*(p**2)*(1-α2)+TA*p+TB*b*p*(1-α2)*(1-p)+TB*(1-p) + TA*b*p*α2\n",
    "simplify(g1-g)"
   ]
  },
  {
   "cell_type": "code",
   "execution_count": 204,
   "metadata": {},
   "outputs": [
    {
     "output_type": "execute_result",
     "data": {
      "text/plain": "(TA*b*p**2*α2 - TA*b*p**2 - TA*b*p*α2 - TA*p - TB*b*p**2*α2 + TB*b*p**2 + TB*b*p*α2 - TB*b*p + TB*p - TB)/(TB*p - TB - 2*p + 1)",
      "text/latex": "$\\displaystyle \\frac{TA b p^{2} α2 - TA b p^{2} - TA b p α2 - TA p - TB b p^{2} α2 + TB b p^{2} + TB b p α2 - TB b p + TB p - TB}{TB p - TB - 2 p + 1}$"
     },
     "metadata": {},
     "execution_count": 204
    }
   ],
   "source": [
    "gh = simplify(-g/h)\n",
    "gh"
   ]
  },
  {
   "cell_type": "code",
   "execution_count": 183,
   "metadata": {},
   "outputs": [
    {
     "output_type": "execute_result",
     "data": {
      "text/plain": "(-2*TA*b*α1 - 2*TA + TB*(TA*b*α1 + TA - TB + c*(TB - 1)) + 2*TB + b*(1 - TB)*(TA - TB)*(α1 - 1) - 2*c*(TB - 1))/(b*(TA - TB)*(α1 - 1))",
      "text/latex": "$\\displaystyle \\frac{- 2 TA b α1 - 2 TA + TB \\left(TA b α1 + TA - TB + c \\left(TB - 1\\right)\\right) + 2 TB + b \\left(1 - TB\\right) \\left(TA - TB\\right) \\left(α1 - 1\\right) - 2 c \\left(TB - 1\\right)}{b \\left(TA - TB\\right) \\left(α1 - 1\\right)}$"
     },
     "metadata": {},
     "execution_count": 183
    }
   ],
   "source": [
    "h_e = TB*p-TB-2*p+1\n",
    "h_e = simplify(h_e.subs(p, (c*(1-TB) - b*α1*TA-(TA-TB))/(b*(1-α1)*(TA-TB))))\n"
   ]
  },
  {
   "cell_type": "code",
   "execution_count": 218,
   "metadata": {},
   "outputs": [
    {
     "output_type": "execute_result",
     "data": {
      "text/plain": "(TA - TB)*(-TB*b*(α1 - 1)*(TA*b*α1 + TA - TB - c*(1 - TB)) + b*(TA - TB)*(α1 - 1)**2*(TB*c - TB - c) - (α1 - 1)*(TA + TB*c - TB - 2*c)*(TA*b*α1 + TA - TB - c*(1 - TB)) - (TA*b*α1 + TA - TB - c*(1 - TB))**2)/((b*(TA - TB)**2*(α1 - 1) + (-TA + TB)*(TA*b*α1 + TA - TB + c*(TB - 1)))*(TA*b*α1 + TA - TB + c*(TB - 1)))",
      "text/latex": "$\\displaystyle \\frac{\\left(TA - TB\\right) \\left(- TB b \\left(α1 - 1\\right) \\left(TA b α1 + TA - TB - c \\left(1 - TB\\right)\\right) + b \\left(TA - TB\\right) \\left(α1 - 1\\right)^{2} \\left(TB c - TB - c\\right) - \\left(α1 - 1\\right) \\left(TA + TB c - TB - 2 c\\right) \\left(TA b α1 + TA - TB - c \\left(1 - TB\\right)\\right) - \\left(TA b α1 + TA - TB - c \\left(1 - TB\\right)\\right)^{2}\\right)}{\\left(b \\left(TA - TB\\right)^{2} \\left(α1 - 1\\right) + \\left(- TA + TB\\right) \\left(TA b α1 + TA - TB + c \\left(TB - 1\\right)\\right)\\right) \\left(TA b α1 + TA - TB + c \\left(TB - 1\\right)\\right)}$"
     },
     "metadata": {},
     "execution_count": 218
    }
   ],
   "source": [
    "slope = a2+2\n",
    "slope_numerator = simplify(slope*(p*(b-c)+1))\n",
    "slope_poly2=poly(slope_numerator, α2)\n",
    "# slope = h*α2 + g\n",
    "g = slope_poly2.coeffs()[1]\n",
    "h =slope_poly2.coeffs()[0]\n",
    "\n",
    "t = -g/h\n",
    "simplify(t.subs(p, (c*(1-TB) - b*α1*TA-(TA-TB))/(b*(1-α1)*(TA-TB))))"
   ]
  },
  {
   "cell_type": "code",
   "execution_count": null,
   "metadata": {},
   "outputs": [],
   "source": []
  }
 ],
 "metadata": {
  "language_info": {
   "codemirror_mode": {
    "name": "ipython",
    "version": 3
   },
   "file_extension": ".py",
   "mimetype": "text/x-python",
   "name": "python",
   "nbconvert_exporter": "python",
   "pygments_lexer": "ipython3",
   "version": 3
  },
  "orig_nbformat": 2,
  "kernelspec": {
   "name": "python_defaultSpec_1604150388887",
   "display_name": "Python 3.8.6 64-bit"
  }
 },
 "nbformat": 4,
 "nbformat_minor": 2
}