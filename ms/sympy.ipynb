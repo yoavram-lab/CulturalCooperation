{
 "cells": [
  {
   "cell_type": "code",
   "execution_count": 48,
   "metadata": {},
   "outputs": [],
   "source": [
    "from sympy import *\n",
    "b, c, TA, TB, α1, α2, p, w, p1, p2, p3, p4, x, y = symbols('b c TA TB α1, α2 p, w, p1, p2, p3, p4, x, y')"
   ]
  },
  {
   "cell_type": "code",
   "execution_count": 49,
   "metadata": {},
   "outputs": [],
   "source": [
    "w = 1 + p*(b-c) # mean fitness\n",
    "p = (c*(1-TB) - b*α1*TA-(TA-TB))/(b*(1-α1)*(TA-TB)) # equation 20"
   ]
  },
  {
   "source": [
    "# $\\partial \\tilde{p}_3' / \\partial \\tilde{p}_3$"
   ],
   "cell_type": "markdown",
   "metadata": {}
  },
  {
   "cell_type": "code",
   "execution_count": 60,
   "metadata": {},
   "outputs": [
    {
     "output_type": "execute_result",
     "data": {
      "text/plain": "(-(TA - TB)*(c - 1)*(α1 - 1)*(TB*(TA*b*α1 + TA - TB + c*(TB - 1)) + b*(1 - TB)*(TA - TB)*(α1 - 1)) + (TB*(α2 - 1)*(-TA*b*α1 - TA + TB + b*(TA - TB)*(α1 - 1) + c*(1 - TB)) + b*(TA - TB)*(α1 - 1))*(TA*b*α1 + TA - TB - c*(1 - TB)))/(b*(TA - TB)**2*(α1 - 1)**2)",
      "text/latex": "$\\displaystyle \\frac{- \\left(TA - TB\\right) \\left(c - 1\\right) \\left(α1 - 1\\right) \\left(TB \\left(TA b α1 + TA - TB + c \\left(TB - 1\\right)\\right) + b \\left(1 - TB\\right) \\left(TA - TB\\right) \\left(α1 - 1\\right)\\right) + \\left(TB \\left(α2 - 1\\right) \\left(- TA b α1 - TA + TB + b \\left(TA - TB\\right) \\left(α1 - 1\\right) + c \\left(1 - TB\\right)\\right) + b \\left(TA - TB\\right) \\left(α1 - 1\\right)\\right) \\left(TA b α1 + TA - TB - c \\left(1 - TB\\right)\\right)}{b \\left(TA - TB\\right)^{2} \\left(α1 - 1\\right)^{2}}$"
     },
     "metadata": {},
     "execution_count": 60
    }
   ],
   "source": [
    "dp3p3 = b*(p-(1-α2)*TB*(p-p**2))+(1-c)*(1+p*TB-TB) # from equation 45\n",
    "simplify(dp3p3)"
   ]
  },
  {
   "cell_type": "code",
   "execution_count": 66,
   "metadata": {},
   "outputs": [
    {
     "output_type": "execute_result",
     "data": {
      "text/plain": "0",
      "text/latex": "$\\displaystyle 0$"
     },
     "metadata": {},
     "execution_count": 66
    }
   ],
   "source": [
    "### For sanity check - let sympy derive w*p3' by p3 and substitude p*, 1-p*, 0 ,0\n",
    "wp3 = p3*(p1+p3)*(1+b-c)*(1-(1-α2)*(p2+p4)*TB)\n",
    "wp3 += p3*(p2+p4)*(1-c)*(1-α2*TB*(p1+p3)-TB*(p2+p4))\n",
    "wp3 += p4*(p1+p3)*(1+b)*TA*(p1+p3+α2*(p2+p4))\n",
    "wp3 += p4*(p2+p4)*(p1+p3)*(1-α2)*TA\n",
    "dfp3dp3 = diff(wp3, p3)\n",
    "dfp3dp3 = dfp3dp3.subs(p3, 0)\n",
    "dfp3dp3 = dfp3dp3.subs(p4, 0)\n",
    "dfp3dp3 = dfp3dp3.subs(p1, p)\n",
    "dfp3dp3 = dfp3dp3.subs(p2, 1-p)\n",
    "### Sanity check - should be 0\n",
    "simplify(dp3p3-dfp3dp3)"
   ]
  },
  {
   "source": [
    "# $\\partial \\tilde{p}_3' / \\partial \\tilde{p}_4$"
   ],
   "cell_type": "markdown",
   "metadata": {}
  },
  {
   "cell_type": "code",
   "execution_count": 72,
   "metadata": {},
   "outputs": [
    {
     "output_type": "execute_result",
     "data": {
      "text/plain": "TA*(TA*b*α1 + TA - TB + c*(TB - 1))*(TA*b*α1 + TA - TB + c*(TB - 1) + α2*(-TA*b*α1 - TA + TB + b*(TA - TB)*(α1 - 1) - c*(TB - 1)) + (TA - TB)*(α1 - 1))/(b*(TA - TB)**2*(α1 - 1)**2)",
      "text/latex": "$\\displaystyle \\frac{TA \\left(TA b α1 + TA - TB + c \\left(TB - 1\\right)\\right) \\left(TA b α1 + TA - TB + c \\left(TB - 1\\right) + α2 \\left(- TA b α1 - TA + TB + b \\left(TA - TB\\right) \\left(α1 - 1\\right) - c \\left(TB - 1\\right)\\right) + \\left(TA - TB\\right) \\left(α1 - 1\\right)\\right)}{b \\left(TA - TB\\right)^{2} \\left(α1 - 1\\right)^{2}}$"
     },
     "metadata": {},
     "execution_count": 72
    }
   ],
   "source": [
    "dp3p4 = b*TA*p*(p+α2*(1-p)) + p*TA # from equation 45\n",
    "simplify(dp3p4)"
   ]
  },
  {
   "cell_type": "code",
   "execution_count": 73,
   "metadata": {},
   "outputs": [
    {
     "output_type": "execute_result",
     "data": {
      "text/plain": "0",
      "text/latex": "$\\displaystyle 0$"
     },
     "metadata": {},
     "execution_count": 73
    }
   ],
   "source": [
    "### For sanity check - let sympy derive w*p3' by p4 and substitude p*, 1-p*, 0 ,0\n",
    "\n",
    "dfp3dp4 = diff(wp3, p4)\n",
    "dfp3dp4 = dfp3dp4.subs(p3, 0)\n",
    "dfp3dp4 = dfp3dp4.subs(p4, 0)\n",
    "dfp3dp4 = dfp3dp4.subs(p1, p)\n",
    "dfp3dp4 = dfp3dp4.subs(p2, 1-p)\n",
    "### Sanity check - should be 0\n",
    "simplify(dp3p4-dfp3dp4)"
   ]
  },
  {
   "source": [
    "# $\\partial \\tilde{p}_4' / \\partial \\tilde{p}_3$"
   ],
   "cell_type": "markdown",
   "metadata": {}
  },
  {
   "cell_type": "code",
   "execution_count": 79,
   "metadata": {},
   "outputs": [
    {
     "output_type": "execute_result",
     "data": {
      "text/plain": "TB*(b*(TA - TB)*(α1 - 1) - c*(b*α2*(TA - TB)*(α1 - 1) - (α2 - 1)*(-TA*b*α1 - TA + TB + b*(TA - TB)*(α1 - 1) - c*(TB - 1))))*(-TA*b*α1 - TA + TB + b*(TA - TB)*(α1 - 1) - c*(TB - 1))/(b**2*(TA - TB)**2*(α1 - 1)**2)",
      "text/latex": "$\\displaystyle \\frac{TB \\left(b \\left(TA - TB\\right) \\left(α1 - 1\\right) - c \\left(b α2 \\left(TA - TB\\right) \\left(α1 - 1\\right) - \\left(α2 - 1\\right) \\left(- TA b α1 - TA + TB + b \\left(TA - TB\\right) \\left(α1 - 1\\right) - c \\left(TB - 1\\right)\\right)\\right)\\right) \\left(- TA b α1 - TA + TB + b \\left(TA - TB\\right) \\left(α1 - 1\\right) - c \\left(TB - 1\\right)\\right)}{b^{2} \\left(TA - TB\\right)^{2} \\left(α1 - 1\\right)^{2}}$"
     },
     "metadata": {},
     "execution_count": 79
    }
   ],
   "source": [
    "dp4p3 = TB*(1-p)-c*TB*(α2+(1-α2)*(1-p))*(1-p)\n",
    "simplify(dp4p3)"
   ]
  },
  {
   "cell_type": "code",
   "execution_count": 80,
   "metadata": {},
   "outputs": [
    {
     "output_type": "execute_result",
     "data": {
      "text/plain": "0",
      "text/latex": "$\\displaystyle 0$"
     },
     "metadata": {},
     "execution_count": 80
    }
   ],
   "source": [
    "wp4 = p4*(p2+p4)*(1-(1-α2)*(p1+p3)*TA)\n",
    "wp4 += p4*(p1+p3)*(1+b)*(1-α2*TA*(p2+p4)-TA*(p1+p3))\n",
    "wp4 += p3*(p2+p4)*(1-c)*(α2*TB+(1-α2)*(p2+p4)*TB)\n",
    "wp4 += p3*(p1+p3)*(1-α2)*(p2+p4)*TB\n",
    "\n",
    "dfp4dp3 = diff(wp4, p3)\n",
    "dfp4dp3 = dfp4dp3.subs(p3, 0)\n",
    "dfp4dp3 = dfp4dp3.subs(p4, 0)\n",
    "dfp4dp3 = dfp4dp3.subs(p1, p)\n",
    "dfp4dp3 = dfp4dp3.subs(p2, 1-p)\n",
    "### Sanity check - should be 0\n",
    "simplify(dp4p3-dfp4dp3)"
   ]
  },
  {
   "cell_type": "code",
   "execution_count": null,
   "metadata": {},
   "outputs": [],
   "source": []
  }
 ],
 "metadata": {
  "language_info": {
   "codemirror_mode": {
    "name": "ipython",
    "version": 3
   },
   "file_extension": ".py",
   "mimetype": "text/x-python",
   "name": "python",
   "nbconvert_exporter": "python",
   "pygments_lexer": "ipython3",
   "version": 3
  },
  "orig_nbformat": 2,
  "kernelspec": {
   "name": "python_defaultSpec_1603215943052",
   "display_name": "Python 3.8.6 64-bit"
  }
 },
 "nbformat": 4,
 "nbformat_minor": 2
}