{
 "cells": [
  {
   "cell_type": "code",
   "execution_count": 30,
   "metadata": {},
   "outputs": [],
   "source": [
    "from sympy import *\n",
    "b, c, TA, TB, α1, α2, p, w, p1, p2, p3, p4, x, y = symbols('b c TA TB α1, α2 p, w, p1, p2, p3, p4, x, y')"
   ]
  },
  {
   "cell_type": "code",
   "execution_count": 31,
   "metadata": {},
   "outputs": [],
   "source": [
    "#p = (c*(1-TB) - b*α1*TA-(TA-TB))/(b*(1-α1)*(TA-TB)) # equation 20\n",
    "w = 1 + p*(b-c) # mean fitness\n"
   ]
  },
  {
   "source": [
    "# $\\partial\\bar{w} \\tilde{p}_3' / \\partial \\tilde{p}_3$"
   ],
   "cell_type": "markdown",
   "metadata": {}
  },
  {
   "cell_type": "code",
   "execution_count": 32,
   "metadata": {},
   "outputs": [
    {
     "output_type": "execute_result",
     "data": {
      "text/plain": "-b*p*(TB*(p - 1)*(α2 - 1) - 1) - (c - 1)*(TB*p - TB + 1)",
      "text/latex": "$\\displaystyle - b p \\left(TB \\left(p - 1\\right) \\left(α2 - 1\\right) - 1\\right) - \\left(c - 1\\right) \\left(TB p - TB + 1\\right)$"
     },
     "metadata": {},
     "execution_count": 32
    }
   ],
   "source": [
    "dp3p3 = b*(p-(1-α2)*TB*(p-p**2))+(1-c)*(1+p*TB-TB) # from equation 45\n",
    "dp3p3 =simplify(dp3p3)\n",
    "dp3p3"
   ]
  },
  {
   "cell_type": "code",
   "execution_count": 33,
   "metadata": {},
   "outputs": [
    {
     "output_type": "execute_result",
     "data": {
      "text/plain": "0",
      "text/latex": "$\\displaystyle 0$"
     },
     "metadata": {},
     "execution_count": 33
    }
   ],
   "source": [
    "### For sanity check - let sympy derive w*p3' by p3 and substitude p*, 1-p*, 0 ,0\n",
    "wp3 = p3*(p1+p3)*(1+b-c)*(1-(1-α2)*(p2+p4)*TB)\n",
    "wp3 += p3*(p2+p4)*(1-c)*(1-α2*TB*(p1+p3)-TB*(p2+p4))\n",
    "wp3 += p4*(p1+p3)*(1+b)*TA*(p1+p3+α2*(p2+p4))\n",
    "wp3 += p4*(p2+p4)*(p1+p3)*(1-α2)*TA\n",
    "dfp3dp3 = diff(wp3, p3)\n",
    "dfp3dp3 = dfp3dp3.subs(p3, 0)\n",
    "dfp3dp3 = dfp3dp3.subs(p4, 0)\n",
    "dfp3dp3 = dfp3dp3.subs(p1, p)\n",
    "dfp3dp3 = dfp3dp3.subs(p2, 1-p)\n",
    "### Sanity check - should be 0\n",
    "simplify(dp3p3-dfp3dp3)"
   ]
  },
  {
   "source": [
    "# $\\partial \\bar{w} \\tilde{p}_3' / \\partial \\tilde{p}_4$"
   ],
   "cell_type": "markdown",
   "metadata": {}
  },
  {
   "cell_type": "code",
   "execution_count": 13,
   "metadata": {},
   "outputs": [
    {
     "output_type": "execute_result",
     "data": {
      "text/plain": "TA*p*(b*(p - α2*(p - 1)) + 1)",
      "text/latex": "$\\displaystyle TA p \\left(b \\left(p - α2 \\left(p - 1\\right)\\right) + 1\\right)$"
     },
     "metadata": {},
     "execution_count": 13
    }
   ],
   "source": [
    "dp3p4 = b*TA*p*(p+α2*(1-p)) + p*TA # from equation 45\n",
    "dp3p4 = simplify(dp3p4)\n",
    "dp3p4"
   ]
  },
  {
   "cell_type": "code",
   "execution_count": 14,
   "metadata": {},
   "outputs": [
    {
     "output_type": "execute_result",
     "data": {
      "text/plain": "0",
      "text/latex": "$\\displaystyle 0$"
     },
     "metadata": {},
     "execution_count": 14
    }
   ],
   "source": [
    "### For sanity check - let sympy derive w*p3' by p4 and substitude p*, 1-p*, 0 ,0\n",
    "\n",
    "dfp3dp4 = diff(wp3, p4)\n",
    "dfp3dp4 = dfp3dp4.subs(p3, 0)\n",
    "dfp3dp4 = dfp3dp4.subs(p4, 0)\n",
    "dfp3dp4 = dfp3dp4.subs(p1, p)\n",
    "dfp3dp4 = dfp3dp4.subs(p2, 1-p)\n",
    "### Sanity check - should be 0\n",
    "simplify(dp3p4-dfp3dp4)"
   ]
  },
  {
   "source": [
    "# $\\partial \\bar{w} \\tilde{p}_4' / \\partial \\tilde{p}_3$"
   ],
   "cell_type": "markdown",
   "metadata": {}
  },
  {
   "cell_type": "code",
   "execution_count": 34,
   "metadata": {},
   "outputs": [
    {
     "output_type": "execute_result",
     "data": {
      "text/plain": "TB*(p - 1)*(b*p*(α2 - 1) + c - 1)",
      "text/latex": "$\\displaystyle TB \\left(p - 1\\right) \\left(b p \\left(α2 - 1\\right) + c - 1\\right)$"
     },
     "metadata": {},
     "execution_count": 34
    }
   ],
   "source": [
    "dp4p3 = (1-p)*(1-c)*TB+b*p*(1-α2)*(1-p)*TB\n",
    "dp4p3 = simplify(dp4p3)\n",
    "dp4p3"
   ]
  },
  {
   "cell_type": "code",
   "execution_count": 16,
   "metadata": {},
   "outputs": [
    {
     "output_type": "execute_result",
     "data": {
      "text/plain": "0",
      "text/latex": "$\\displaystyle 0$"
     },
     "metadata": {},
     "execution_count": 16
    }
   ],
   "source": [
    "### For sanity check - let sympy derive w*p4' by p3 and substitude p*, 1-p*, 0 ,0\n",
    "\n",
    "wp4 = p4*(p2+p4)*(1-(1-α2)*(p1+p3)*TA)\n",
    "wp4 += p4*(p1+p3)*(1+b)*(1-α2*TA*(p2+p4)-TA*(p1+p3))\n",
    "wp4 += p3*(p2+p4)*(1-c)*(α2*TB+(1-α2)*(p2+p4)*TB)\n",
    "wp4 += p3*(p1+p3)*(1+b-c)*(1-α2)*(p2+p4)*TB\n",
    "\n",
    "dfp4dp3 = diff(wp4, p3)\n",
    "dfp4dp3 = dfp4dp3.subs(p3, 0)\n",
    "dfp4dp3 = dfp4dp3.subs(p4, 0)\n",
    "dfp4dp3 = dfp4dp3.subs(p1, p)\n",
    "dfp4dp3 = dfp4dp3.subs(p2, 1-p)\n",
    "### Sanity check - should be 0\n",
    "simplify(dp4p3-dfp4dp3)"
   ]
  },
  {
   "source": [
    "# $\\partial \\bar{w} \\tilde{p}_4' / \\partial \\tilde{p}_4$"
   ],
   "cell_type": "markdown",
   "metadata": {}
  },
  {
   "cell_type": "code",
   "execution_count": 37,
   "metadata": {},
   "outputs": [
    {
     "output_type": "execute_result",
     "data": {
      "text/plain": "TB*(p - 1)*(b*p*(α2 - 1) + c - 1)",
      "text/latex": "$\\displaystyle TB \\left(p - 1\\right) \\left(b p \\left(α2 - 1\\right) + c - 1\\right)$"
     },
     "metadata": {},
     "execution_count": 37
    }
   ],
   "source": [
    "dp4p4 = 1-p*TA+b*p*(1-α2*TA*(1-p)-TA*p)\n",
    "dp4p3 = simplify(dp4p3)\n",
    "dp4p3"
   ]
  },
  {
   "cell_type": "code",
   "execution_count": 38,
   "metadata": {},
   "outputs": [
    {
     "output_type": "execute_result",
     "data": {
      "text/plain": "0",
      "text/latex": "$\\displaystyle 0$"
     },
     "metadata": {},
     "execution_count": 38
    }
   ],
   "source": [
    "### For sanity check - let sympy derive w*p4' by p4 and substitude p*, 1-p*, 0 ,0\n",
    "dfp4dp4 = diff(wp4, p4)\n",
    "dfp4dp4 = dfp4dp4.subs(p3, 0)\n",
    "dfp4dp4 = dfp4dp4.subs(p4, 0)\n",
    "dfp4dp4 = dfp4dp4.subs(p1, p)\n",
    "dfp4dp4 = dfp4dp4.subs(p2, 1-p)\n",
    "### Sanity check - should be 0\n",
    "simplify(dp4p4-dfp4dp4)"
   ]
  },
  {
   "source": [
    "# Find the eigenvalues \n",
    "We will mark the eigenvalues in x and solve the typical polynomial equation."
   ],
   "cell_type": "markdown",
   "metadata": {}
  },
  {
   "cell_type": "code",
   "execution_count": 39,
   "metadata": {
    "tags": []
   },
   "outputs": [
    {
     "output_type": "execute_result",
     "data": {
      "text/plain": "(-TA*TB*p*(p - 1)*((b + 1)*(p - α2*(p - 1)) + (p - 1)*(α2 - 1))*(p*(α2 - 1)*(b - c + 1) + (c - 1)*(α2 + (p - 1)*(α2 - 1))) + (-p*(b + 1)*(-TA*p + TA*α2*(p - 1) + 1) + (p - 1)*(TA*p*(α2 - 1) + 1))*(p*(TB*(p - 1)*(α2 - 1) - 1)*(b - c + 1) - (c - 1)*(p - 1)*(-TB*p*α2 + TB*(p - 1) + 1)))/(p*(b - c) + 1)**2",
      "text/latex": "$\\displaystyle \\frac{- TA TB p \\left(p - 1\\right) \\left(\\left(b + 1\\right) \\left(p - α2 \\left(p - 1\\right)\\right) + \\left(p - 1\\right) \\left(α2 - 1\\right)\\right) \\left(p \\left(α2 - 1\\right) \\left(b - c + 1\\right) + \\left(c - 1\\right) \\left(α2 + \\left(p - 1\\right) \\left(α2 - 1\\right)\\right)\\right) + \\left(- p \\left(b + 1\\right) \\left(- TA p + TA α2 \\left(p - 1\\right) + 1\\right) + \\left(p - 1\\right) \\left(TA p \\left(α2 - 1\\right) + 1\\right)\\right) \\left(p \\left(TB \\left(p - 1\\right) \\left(α2 - 1\\right) - 1\\right) \\left(b - c + 1\\right) - \\left(c - 1\\right) \\left(p - 1\\right) \\left(- TB p α2 + TB \\left(p - 1\\right) + 1\\right)\\right)}{\\left(p \\left(b - c\\right) + 1\\right)^{2}}$"
     },
     "metadata": {},
     "execution_count": 39
    }
   ],
   "source": [
    "dp4p4 = simplify(dfp4dp4/w)\n",
    "dp3p3 = simplify(dfp3dp3/w)\n",
    "dp3p4 = simplify(dfp3dp4/w)\n",
    "dp4p3 = simplify(dfp4dp3/w)\n",
    "\n",
    "dp3p4dp4p3 = dp4p3*dp3p4\n",
    "dp3p4dp4p3 = simplify(dp3p4dp4p3)\n",
    "\n",
    "a3 = simplify(-dp3p4dp4p3 + dp3p3*dp4p4)\n",
    "a2 = simplify(-dp3p3 - dp4p4)\n",
    "a2\n",
    "a3\n"
   ]
  },
  {
   "cell_type": "code",
   "execution_count": 44,
   "metadata": {
    "tags": []
   },
   "outputs": [],
   "source": [
    "z = (-a2+(a2**2-4*a3)**0.5)/2\n",
    "z = simplify(z-1)\n",
    "z = z*(2)*(p*(b-c)+1)\n",
    "#z = z.subs(p, (c*(1-TB) - b*α1*TA-(TA-TB))/(b*(1-α1)*(TA-TB)))"
   ]
  },
  {
   "cell_type": "code",
   "execution_count": 47,
   "metadata": {},
   "outputs": [
    {
     "output_type": "execute_result",
     "data": {
      "text/plain": "[(-TA*b*p - TA + TB*b*p - TB*c + TB + c)/(b*(-TA*p + TA + TB*p))]"
     },
     "metadata": {},
     "execution_count": 47
    }
   ],
   "source": [
    "alpha_2_sol = solve(z, α2)\n",
    "alpha_2_sol"
   ]
  },
  {
   "cell_type": "code",
   "execution_count": 50,
   "metadata": {},
   "outputs": [],
   "source": [
    "result = alpha_2_sol[0]"
   ]
  },
  {
   "cell_type": "code",
   "execution_count": 28,
   "metadata": {},
   "outputs": [
    {
     "output_type": "execute_result",
     "data": {
      "text/plain": "α1",
      "text/latex": "$\\displaystyle α1$"
     },
     "metadata": {},
     "execution_count": 28
    }
   ],
   "source": [
    "result2 = result.subs(p, (c*(1-TB) - b*α1*TA-(TA-TB))/(b*(1-α1)*(TA-TB)))\n",
    "result2 = simplify(result2)\n",
    "result2"
   ]
  },
  {
   "cell_type": "code",
   "execution_count": 17,
   "metadata": {},
   "outputs": [],
   "source": [
    "wp2 = p2*(p2+p4)*(1-(1-α1)*(p1+p3)*TA)\n",
    "wp2 += p2*(p1+p3)*(1+b)*(1-α1*TA*(p2+p4)-TA*(p1+p3))\n",
    "wp2 += p1*(p2+p4)*(1-c)*(α2*TB+(1-α1)*(p2+p4)*TB)\n",
    "wp2 += p1*(p1+p3)*(1+b-c)*(1-α1)*(p2+p4)*TB\n",
    "\n",
    "\n",
    "wp1 = p1*(p1+p3)*(1+b-c)*(1-(1-α1)*(p2+p4)*TB)\n",
    "wp1 += p1*(p2+p4)*(1-c)*(1-α1*TB*(p1+p3)-TB*(p2+p4))\n",
    "wp1 += p2*(p1+p3)*(1+b)*TA*(p1+p3+α1*(p2+p4))\n",
    "wp1+= p2*(p2+p4)*(p1+p3)*(1-α1)*TA"
   ]
  },
  {
   "cell_type": "code",
   "execution_count": 41,
   "metadata": {},
   "outputs": [
    {
     "output_type": "execute_result",
     "data": {
      "text/plain": "(p*(b + 1)*(-TA*p + TA*α2*(p - 1) + 1) + 2*p*(b - c) - p*(TB*(p - 1)*(α2 - 1) - 1)*(b - c + 1) + (c - 1)*(p - 1)*(-TB*p*α2 + TB*(p - 1) + 1) - (p - 1)*(TA*p*(α2 - 1) + 1) + 2)/(p*(b - c) + 1) > 0",
      "text/latex": "$\\displaystyle \\frac{p \\left(b + 1\\right) \\left(- TA p + TA α2 \\left(p - 1\\right) + 1\\right) + 2 p \\left(b - c\\right) - p \\left(TB \\left(p - 1\\right) \\left(α2 - 1\\right) - 1\\right) \\left(b - c + 1\\right) + \\left(c - 1\\right) \\left(p - 1\\right) \\left(- TB p α2 + TB \\left(p - 1\\right) + 1\\right) - \\left(p - 1\\right) \\left(TA p \\left(α2 - 1\\right) + 1\\right) + 2}{p \\left(b - c\\right) + 1} > 0$"
     },
     "metadata": {},
     "execution_count": 41
    }
   ],
   "source": []
  },
  {
   "cell_type": "code",
   "execution_count": 54,
   "metadata": {},
   "outputs": [
    {
     "output_type": "execute_result",
     "data": {
      "text/plain": "TA*(-1 + (-TA*b*α1 - TA + TB + c*(1 - TB))/(b*(1 - α1)*(TA - TB)))*(b + 1)*(-TA*b*α1 - TA + TB + c*(1 - TB))/(b*(1 - α1)*(TA - TB)) - TA*(-1 + (-TA*b*α1 - TA + TB + c*(1 - TB))/(b*(1 - α1)*(TA - TB)))*(-TA*b*α1 - TA + TB + c*(1 - TB))/(b*(1 - α1)*(TA - TB)) - TB*(-1 + (-TA*b*α1 - TA + TB + c*(1 - TB))/(b*(1 - α1)*(TA - TB)))*(c - 1)*(-TA*b*α1 - TA + TB + c*(1 - TB))/(b*(1 - α1)*(TA - TB)) - TB*(-1 + (-TA*b*α1 - TA + TB + c*(1 - TB))/(b*(1 - α1)*(TA - TB)))*(b - c + 1)*(-TA*b*α1 - TA + TB + c*(1 - TB))/(b*(1 - α1)*(TA - TB)) + 0.5*((4*TA*TB*(-1 + (-TA*b*α1 - TA + TB + c*(1 - TB))/(b*(1 - α1)*(TA - TB)))*((-1 + (-TA*b*α1 - TA + TB + c*(1 - TB))/(b*(1 - α1)*(TA - TB)))*(α1 - 1) + (b + 1)*(-α1*(-1 + (-TA*b*α1 - TA + TB + c*(1 - TB))/(b*(1 - α1)*(TA - TB))) + (-TA*b*α1 - TA + TB + c*(1 - TB))/(b*(1 - α1)*(TA - TB))))*((c - 1)*(α1 + (-1 + (-TA*b*α1 - TA + TB + c*(1 - TB))/(b*(1 - α1)*(TA - TB)))*(α1 - 1)) + (α1 - 1)*(b - c + 1)*(-TA*b*α1 - TA + TB + c*(1 - TB))/(b*(1 - α1)*(TA - TB)))*(-TA*b*α1 - TA + TB + c*(1 - TB))/(b*(1 - α1)*(TA - TB)) - 4*((-1 + (-TA*b*α1 - TA + TB + c*(1 - TB))/(b*(1 - α1)*(TA - TB)))*(TA*(α1 - 1)*(-TA*b*α1 - TA + TB + c*(1 - TB))/(b*(1 - α1)*(TA - TB)) + 1) - (b + 1)*(TA*α1*(-1 + (-TA*b*α1 - TA + TB + c*(1 - TB))/(b*(1 - α1)*(TA - TB))) - TA*(-TA*b*α1 - TA + TB + c*(1 - TB))/(b*(1 - α1)*(TA - TB)) + 1)*(-TA*b*α1 - TA + TB + c*(1 - TB))/(b*(1 - α1)*(TA - TB)))*(-(-1 + (-TA*b*α1 - TA + TB + c*(1 - TB))/(b*(1 - α1)*(TA - TB)))*(c - 1)*(TB*(-1 + (-TA*b*α1 - TA + TB + c*(1 - TB))/(b*(1 - α1)*(TA - TB))) - TB*α1*(-TA*b*α1 - TA + TB + c*(1 - TB))/(b*(1 - α1)*(TA - TB)) + 1) + (TB*(-1 + (-TA*b*α1 - TA + TB + c*(1 - TB))/(b*(1 - α1)*(TA - TB)))*(α1 - 1) - 1)*(b - c + 1)*(-TA*b*α1 - TA + TB + c*(1 - TB))/(b*(1 - α1)*(TA - TB))) + (-(-1 + (-TA*b*α1 - TA + TB + c*(1 - TB))/(b*(1 - α1)*(TA - TB)))*(c - 1)*(TB*(-1 + (-TA*b*α1 - TA + TB + c*(1 - TB))/(b*(1 - α1)*(TA - TB))) - TB*α1*(-TA*b*α1 - TA + TB + c*(1 - TB))/(b*(1 - α1)*(TA - TB)) + 1) + (-1 + (-TA*b*α1 - TA + TB + c*(1 - TB))/(b*(1 - α1)*(TA - TB)))*(TA*(α1 - 1)*(-TA*b*α1 - TA + TB + c*(1 - TB))/(b*(1 - α1)*(TA - TB)) + 1) - (b + 1)*(TA*α1*(-1 + (-TA*b*α1 - TA + TB + c*(1 - TB))/(b*(1 - α1)*(TA - TB))) - TA*(-TA*b*α1 - TA + TB + c*(1 - TB))/(b*(1 - α1)*(TA - TB)) + 1)*(-TA*b*α1 - TA + TB + c*(1 - TB))/(b*(1 - α1)*(TA - TB)) + (TB*(-1 + (-TA*b*α1 - TA + TB + c*(1 - TB))/(b*(1 - α1)*(TA - TB)))*(α1 - 1) - 1)*(b - c + 1)*(-TA*b*α1 - TA + TB + c*(1 - TB))/(b*(1 - α1)*(TA - TB)))**2)/(1 + (b - c)*(-TA*b*α1 - TA + TB + c*(1 - TB))/(b*(1 - α1)*(TA - TB)))**2)**0.5*(1 + (b - c)*(-TA*b*α1 - TA + TB + c*(1 - TB))/(b*(1 - α1)*(TA - TB)))*(4*TA*TB*(-1 + (-TA*b*α1 - TA + TB + c*(1 - TB))/(b*(1 - α1)*(TA - TB)))*((-1 + (-TA*b*α1 - TA + TB + c*(1 - TB))/(b*(1 - α1)*(TA - TB)))*(α1 - 1) + (b + 1)*(-α1*(-1 + (-TA*b*α1 - TA + TB + c*(1 - TB))/(b*(1 - α1)*(TA - TB))) + (-TA*b*α1 - TA + TB + c*(1 - TB))/(b*(1 - α1)*(TA - TB))))*((c - 1)*(-TA*b*α1 - TA + TB + c*(1 - TB))/(b*(1 - α1)*(TA - TB)) + (b - c + 1)*(-TA*b*α1 - TA + TB + c*(1 - TB))/(b*(1 - α1)*(TA - TB)))*(-TA*b*α1 - TA + TB + c*(1 - TB))/(b*(1 - α1)*(TA - TB)) + 4*TA*TB*(-1 + (-TA*b*α1 - TA + TB + c*(1 - TB))/(b*(1 - α1)*(TA - TB)))*((c - 1)*(α1 + (-1 + (-TA*b*α1 - TA + TB + c*(1 - TB))/(b*(1 - α1)*(TA - TB)))*(α1 - 1)) + (α1 - 1)*(b - c + 1)*(-TA*b*α1 - TA + TB + c*(1 - TB))/(b*(1 - α1)*(TA - TB)))*((1 - (-TA*b*α1 - TA + TB + c*(1 - TB))/(b*(1 - α1)*(TA - TB)))*(b + 1) - 1 + (-TA*b*α1 - TA + TB + c*(1 - TB))/(b*(1 - α1)*(TA - TB)))*(-TA*b*α1 - TA + TB + c*(1 - TB))/(b*(1 - α1)*(TA - TB)) + (-4*(-1 + (-TA*b*α1 - TA + TB + c*(1 - TB))/(b*(1 - α1)*(TA - TB)))*(TA*(α1 - 1)*(-TA*b*α1 - TA + TB + c*(1 - TB))/(b*(1 - α1)*(TA - TB)) + 1) + 4*(b + 1)*(TA*α1*(-1 + (-TA*b*α1 - TA + TB + c*(1 - TB))/(b*(1 - α1)*(TA - TB))) - TA*(-TA*b*α1 - TA + TB + c*(1 - TB))/(b*(1 - α1)*(TA - TB)) + 1)*(-TA*b*α1 - TA + TB + c*(1 - TB))/(b*(1 - α1)*(TA - TB)))*(-TB*(-1 + (-TA*b*α1 - TA + TB + c*(1 - TB))/(b*(1 - α1)*(TA - TB)))*(1 - c)*(-TA*b*α1 - TA + TB + c*(1 - TB))/(b*(1 - α1)*(TA - TB)) + TB*(-1 + (-TA*b*α1 - TA + TB + c*(1 - TB))/(b*(1 - α1)*(TA - TB)))*(b - c + 1)*(-TA*b*α1 - TA + TB + c*(1 - TB))/(b*(1 - α1)*(TA - TB))) + (-(-1 + (-TA*b*α1 - TA + TB + c*(1 - TB))/(b*(1 - α1)*(TA - TB)))*(c - 1)*(TB*(-1 + (-TA*b*α1 - TA + TB + c*(1 - TB))/(b*(1 - α1)*(TA - TB))) - TB*α1*(-TA*b*α1 - TA + TB + c*(1 - TB))/(b*(1 - α1)*(TA - TB)) + 1) + (TB*(-1 + (-TA*b*α1 - TA + TB + c*(1 - TB))/(b*(1 - α1)*(TA - TB)))*(α1 - 1) - 1)*(b - c + 1)*(-TA*b*α1 - TA + TB + c*(1 - TB))/(b*(1 - α1)*(TA - TB)))*(4*TA*(-1 + (-TA*b*α1 - TA + TB + c*(1 - TB))/(b*(1 - α1)*(TA - TB)))*(b + 1)*(-TA*b*α1 - TA + TB + c*(1 - TB))/(b*(1 - α1)*(TA - TB)) - 4*TA*(-1 + (-TA*b*α1 - TA + TB + c*(1 - TB))/(b*(1 - α1)*(TA - TB)))*(-TA*b*α1 - TA + TB + c*(1 - TB))/(b*(1 - α1)*(TA - TB))) + (-(-1 + (-TA*b*α1 - TA + TB + c*(1 - TB))/(b*(1 - α1)*(TA - TB)))*(c - 1)*(TB*(-1 + (-TA*b*α1 - TA + TB + c*(1 - TB))/(b*(1 - α1)*(TA - TB))) - TB*α1*(-TA*b*α1 - TA + TB + c*(1 - TB))/(b*(1 - α1)*(TA - TB)) + 1) + (-1 + (-TA*b*α1 - TA + TB + c*(1 - TB))/(b*(1 - α1)*(TA - TB)))*(TA*(α1 - 1)*(-TA*b*α1 - TA + TB + c*(1 - TB))/(b*(1 - α1)*(TA - TB)) + 1) - (b + 1)*(TA*α1*(-1 + (-TA*b*α1 - TA + TB + c*(1 - TB))/(b*(1 - α1)*(TA - TB))) - TA*(-TA*b*α1 - TA + TB + c*(1 - TB))/(b*(1 - α1)*(TA - TB)) + 1)*(-TA*b*α1 - TA + TB + c*(1 - TB))/(b*(1 - α1)*(TA - TB)) + (TB*(-1 + (-TA*b*α1 - TA + TB + c*(1 - TB))/(b*(1 - α1)*(TA - TB)))*(α1 - 1) - 1)*(b - c + 1)*(-TA*b*α1 - TA + TB + c*(1 - TB))/(b*(1 - α1)*(TA - TB)))*(-2*TA*(-1 + (-TA*b*α1 - TA + TB + c*(1 - TB))/(b*(1 - α1)*(TA - TB)))*(b + 1)*(-TA*b*α1 - TA + TB + c*(1 - TB))/(b*(1 - α1)*(TA - TB)) + 2*TA*(-1 + (-TA*b*α1 - TA + TB + c*(1 - TB))/(b*(1 - α1)*(TA - TB)))*(-TA*b*α1 - TA + TB + c*(1 - TB))/(b*(1 - α1)*(TA - TB)) - 2*TB*(-1 + (-TA*b*α1 - TA + TB + c*(1 - TB))/(b*(1 - α1)*(TA - TB)))*(1 - c)*(-TA*b*α1 - TA + TB + c*(1 - TB))/(b*(1 - α1)*(TA - TB)) + 2*TB*(-1 + (-TA*b*α1 - TA + TB + c*(1 - TB))/(b*(1 - α1)*(TA - TB)))*(b - c + 1)*(-TA*b*α1 - TA + TB + c*(1 - TB))/(b*(1 - α1)*(TA - TB))))/(4*TA*TB*(-1 + (-TA*b*α1 - TA + TB + c*(1 - TB))/(b*(1 - α1)*(TA - TB)))*((-1 + (-TA*b*α1 - TA + TB + c*(1 - TB))/(b*(1 - α1)*(TA - TB)))*(α1 - 1) + (b + 1)*(-α1*(-1 + (-TA*b*α1 - TA + TB + c*(1 - TB))/(b*(1 - α1)*(TA - TB))) + (-TA*b*α1 - TA + TB + c*(1 - TB))/(b*(1 - α1)*(TA - TB))))*((c - 1)*(α1 + (-1 + (-TA*b*α1 - TA + TB + c*(1 - TB))/(b*(1 - α1)*(TA - TB)))*(α1 - 1)) + (α1 - 1)*(b - c + 1)*(-TA*b*α1 - TA + TB + c*(1 - TB))/(b*(1 - α1)*(TA - TB)))*(-TA*b*α1 - TA + TB + c*(1 - TB))/(b*(1 - α1)*(TA - TB)) - 4*((-1 + (-TA*b*α1 - TA + TB + c*(1 - TB))/(b*(1 - α1)*(TA - TB)))*(TA*(α1 - 1)*(-TA*b*α1 - TA + TB + c*(1 - TB))/(b*(1 - α1)*(TA - TB)) + 1) - (b + 1)*(TA*α1*(-1 + (-TA*b*α1 - TA + TB + c*(1 - TB))/(b*(1 - α1)*(TA - TB))) - TA*(-TA*b*α1 - TA + TB + c*(1 - TB))/(b*(1 - α1)*(TA - TB)) + 1)*(-TA*b*α1 - TA + TB + c*(1 - TB))/(b*(1 - α1)*(TA - TB)))*(-(-1 + (-TA*b*α1 - TA + TB + c*(1 - TB))/(b*(1 - α1)*(TA - TB)))*(c - 1)*(TB*(-1 + (-TA*b*α1 - TA + TB + c*(1 - TB))/(b*(1 - α1)*(TA - TB))) - TB*α1*(-TA*b*α1 - TA + TB + c*(1 - TB))/(b*(1 - α1)*(TA - TB)) + 1) + (TB*(-1 + (-TA*b*α1 - TA + TB + c*(1 - TB))/(b*(1 - α1)*(TA - TB)))*(α1 - 1) - 1)*(b - c + 1)*(-TA*b*α1 - TA + TB + c*(1 - TB))/(b*(1 - α1)*(TA - TB))) + (-(-1 + (-TA*b*α1 - TA + TB + c*(1 - TB))/(b*(1 - α1)*(TA - TB)))*(c - 1)*(TB*(-1 + (-TA*b*α1 - TA + TB + c*(1 - TB))/(b*(1 - α1)*(TA - TB))) - TB*α1*(-TA*b*α1 - TA + TB + c*(1 - TB))/(b*(1 - α1)*(TA - TB)) + 1) + (-1 + (-TA*b*α1 - TA + TB + c*(1 - TB))/(b*(1 - α1)*(TA - TB)))*(TA*(α1 - 1)*(-TA*b*α1 - TA + TB + c*(1 - TB))/(b*(1 - α1)*(TA - TB)) + 1) - (b + 1)*(TA*α1*(-1 + (-TA*b*α1 - TA + TB + c*(1 - TB))/(b*(1 - α1)*(TA - TB))) - TA*(-TA*b*α1 - TA + TB + c*(1 - TB))/(b*(1 - α1)*(TA - TB)) + 1)*(-TA*b*α1 - TA + TB + c*(1 - TB))/(b*(1 - α1)*(TA - TB)) + (TB*(-1 + (-TA*b*α1 - TA + TB + c*(1 - TB))/(b*(1 - α1)*(TA - TB)))*(α1 - 1) - 1)*(b - c + 1)*(-TA*b*α1 - TA + TB + c*(1 - TB))/(b*(1 - α1)*(TA - TB)))**2)",
      "text/latex": "$\\displaystyle \\frac{TA \\left(-1 + \\frac{- TA b α1 - TA + TB + c \\left(1 - TB\\right)}{b \\left(1 - α1\\right) \\left(TA - TB\\right)}\\right) \\left(b + 1\\right) \\left(- TA b α1 - TA + TB + c \\left(1 - TB\\right)\\right)}{b \\left(1 - α1\\right) \\left(TA - TB\\right)} - \\frac{TA \\left(-1 + \\frac{- TA b α1 - TA + TB + c \\left(1 - TB\\right)}{b \\left(1 - α1\\right) \\left(TA - TB\\right)}\\right) \\left(- TA b α1 - TA + TB + c \\left(1 - TB\\right)\\right)}{b \\left(1 - α1\\right) \\left(TA - TB\\right)} - \\frac{TB \\left(-1 + \\frac{- TA b α1 - TA + TB + c \\left(1 - TB\\right)}{b \\left(1 - α1\\right) \\left(TA - TB\\right)}\\right) \\left(c - 1\\right) \\left(- TA b α1 - TA + TB + c \\left(1 - TB\\right)\\right)}{b \\left(1 - α1\\right) \\left(TA - TB\\right)} - \\frac{TB \\left(-1 + \\frac{- TA b α1 - TA + TB + c \\left(1 - TB\\right)}{b \\left(1 - α1\\right) \\left(TA - TB\\right)}\\right) \\left(b - c + 1\\right) \\left(- TA b α1 - TA + TB + c \\left(1 - TB\\right)\\right)}{b \\left(1 - α1\\right) \\left(TA - TB\\right)} + \\frac{0.5 \\left(\\frac{\\frac{4 TA TB \\left(-1 + \\frac{- TA b α1 - TA + TB + c \\left(1 - TB\\right)}{b \\left(1 - α1\\right) \\left(TA - TB\\right)}\\right) \\left(\\left(-1 + \\frac{- TA b α1 - TA + TB + c \\left(1 - TB\\right)}{b \\left(1 - α1\\right) \\left(TA - TB\\right)}\\right) \\left(α1 - 1\\right) + \\left(b + 1\\right) \\left(- α1 \\left(-1 + \\frac{- TA b α1 - TA + TB + c \\left(1 - TB\\right)}{b \\left(1 - α1\\right) \\left(TA - TB\\right)}\\right) + \\frac{- TA b α1 - TA + TB + c \\left(1 - TB\\right)}{b \\left(1 - α1\\right) \\left(TA - TB\\right)}\\right)\\right) \\left(\\left(c - 1\\right) \\left(α1 + \\left(-1 + \\frac{- TA b α1 - TA + TB + c \\left(1 - TB\\right)}{b \\left(1 - α1\\right) \\left(TA - TB\\right)}\\right) \\left(α1 - 1\\right)\\right) + \\frac{\\left(α1 - 1\\right) \\left(b - c + 1\\right) \\left(- TA b α1 - TA + TB + c \\left(1 - TB\\right)\\right)}{b \\left(1 - α1\\right) \\left(TA - TB\\right)}\\right) \\left(- TA b α1 - TA + TB + c \\left(1 - TB\\right)\\right)}{b \\left(1 - α1\\right) \\left(TA - TB\\right)} - 4 \\left(\\left(-1 + \\frac{- TA b α1 - TA + TB + c \\left(1 - TB\\right)}{b \\left(1 - α1\\right) \\left(TA - TB\\right)}\\right) \\left(\\frac{TA \\left(α1 - 1\\right) \\left(- TA b α1 - TA + TB + c \\left(1 - TB\\right)\\right)}{b \\left(1 - α1\\right) \\left(TA - TB\\right)} + 1\\right) - \\frac{\\left(b + 1\\right) \\left(TA α1 \\left(-1 + \\frac{- TA b α1 - TA + TB + c \\left(1 - TB\\right)}{b \\left(1 - α1\\right) \\left(TA - TB\\right)}\\right) - \\frac{TA \\left(- TA b α1 - TA + TB + c \\left(1 - TB\\right)\\right)}{b \\left(1 - α1\\right) \\left(TA - TB\\right)} + 1\\right) \\left(- TA b α1 - TA + TB + c \\left(1 - TB\\right)\\right)}{b \\left(1 - α1\\right) \\left(TA - TB\\right)}\\right) \\left(- \\left(-1 + \\frac{- TA b α1 - TA + TB + c \\left(1 - TB\\right)}{b \\left(1 - α1\\right) \\left(TA - TB\\right)}\\right) \\left(c - 1\\right) \\left(TB \\left(-1 + \\frac{- TA b α1 - TA + TB + c \\left(1 - TB\\right)}{b \\left(1 - α1\\right) \\left(TA - TB\\right)}\\right) - \\frac{TB α1 \\left(- TA b α1 - TA + TB + c \\left(1 - TB\\right)\\right)}{b \\left(1 - α1\\right) \\left(TA - TB\\right)} + 1\\right) + \\frac{\\left(TB \\left(-1 + \\frac{- TA b α1 - TA + TB + c \\left(1 - TB\\right)}{b \\left(1 - α1\\right) \\left(TA - TB\\right)}\\right) \\left(α1 - 1\\right) - 1\\right) \\left(b - c + 1\\right) \\left(- TA b α1 - TA + TB + c \\left(1 - TB\\right)\\right)}{b \\left(1 - α1\\right) \\left(TA - TB\\right)}\\right) + \\left(- \\left(-1 + \\frac{- TA b α1 - TA + TB + c \\left(1 - TB\\right)}{b \\left(1 - α1\\right) \\left(TA - TB\\right)}\\right) \\left(c - 1\\right) \\left(TB \\left(-1 + \\frac{- TA b α1 - TA + TB + c \\left(1 - TB\\right)}{b \\left(1 - α1\\right) \\left(TA - TB\\right)}\\right) - \\frac{TB α1 \\left(- TA b α1 - TA + TB + c \\left(1 - TB\\right)\\right)}{b \\left(1 - α1\\right) \\left(TA - TB\\right)} + 1\\right) + \\left(-1 + \\frac{- TA b α1 - TA + TB + c \\left(1 - TB\\right)}{b \\left(1 - α1\\right) \\left(TA - TB\\right)}\\right) \\left(\\frac{TA \\left(α1 - 1\\right) \\left(- TA b α1 - TA + TB + c \\left(1 - TB\\right)\\right)}{b \\left(1 - α1\\right) \\left(TA - TB\\right)} + 1\\right) - \\frac{\\left(b + 1\\right) \\left(TA α1 \\left(-1 + \\frac{- TA b α1 - TA + TB + c \\left(1 - TB\\right)}{b \\left(1 - α1\\right) \\left(TA - TB\\right)}\\right) - \\frac{TA \\left(- TA b α1 - TA + TB + c \\left(1 - TB\\right)\\right)}{b \\left(1 - α1\\right) \\left(TA - TB\\right)} + 1\\right) \\left(- TA b α1 - TA + TB + c \\left(1 - TB\\right)\\right)}{b \\left(1 - α1\\right) \\left(TA - TB\\right)} + \\frac{\\left(TB \\left(-1 + \\frac{- TA b α1 - TA + TB + c \\left(1 - TB\\right)}{b \\left(1 - α1\\right) \\left(TA - TB\\right)}\\right) \\left(α1 - 1\\right) - 1\\right) \\left(b - c + 1\\right) \\left(- TA b α1 - TA + TB + c \\left(1 - TB\\right)\\right)}{b \\left(1 - α1\\right) \\left(TA - TB\\right)}\\right)^{2}}{\\left(1 + \\frac{\\left(b - c\\right) \\left(- TA b α1 - TA + TB + c \\left(1 - TB\\right)\\right)}{b \\left(1 - α1\\right) \\left(TA - TB\\right)}\\right)^{2}}\\right)^{0.5} \\left(1 + \\frac{\\left(b - c\\right) \\left(- TA b α1 - TA + TB + c \\left(1 - TB\\right)\\right)}{b \\left(1 - α1\\right) \\left(TA - TB\\right)}\\right) \\left(\\frac{4 TA TB \\left(-1 + \\frac{- TA b α1 - TA + TB + c \\left(1 - TB\\right)}{b \\left(1 - α1\\right) \\left(TA - TB\\right)}\\right) \\left(\\left(-1 + \\frac{- TA b α1 - TA + TB + c \\left(1 - TB\\right)}{b \\left(1 - α1\\right) \\left(TA - TB\\right)}\\right) \\left(α1 - 1\\right) + \\left(b + 1\\right) \\left(- α1 \\left(-1 + \\frac{- TA b α1 - TA + TB + c \\left(1 - TB\\right)}{b \\left(1 - α1\\right) \\left(TA - TB\\right)}\\right) + \\frac{- TA b α1 - TA + TB + c \\left(1 - TB\\right)}{b \\left(1 - α1\\right) \\left(TA - TB\\right)}\\right)\\right) \\left(\\frac{\\left(c - 1\\right) \\left(- TA b α1 - TA + TB + c \\left(1 - TB\\right)\\right)}{b \\left(1 - α1\\right) \\left(TA - TB\\right)} + \\frac{\\left(b - c + 1\\right) \\left(- TA b α1 - TA + TB + c \\left(1 - TB\\right)\\right)}{b \\left(1 - α1\\right) \\left(TA - TB\\right)}\\right) \\left(- TA b α1 - TA + TB + c \\left(1 - TB\\right)\\right)}{b \\left(1 - α1\\right) \\left(TA - TB\\right)} + \\frac{4 TA TB \\left(-1 + \\frac{- TA b α1 - TA + TB + c \\left(1 - TB\\right)}{b \\left(1 - α1\\right) \\left(TA - TB\\right)}\\right) \\left(\\left(c - 1\\right) \\left(α1 + \\left(-1 + \\frac{- TA b α1 - TA + TB + c \\left(1 - TB\\right)}{b \\left(1 - α1\\right) \\left(TA - TB\\right)}\\right) \\left(α1 - 1\\right)\\right) + \\frac{\\left(α1 - 1\\right) \\left(b - c + 1\\right) \\left(- TA b α1 - TA + TB + c \\left(1 - TB\\right)\\right)}{b \\left(1 - α1\\right) \\left(TA - TB\\right)}\\right) \\left(\\left(1 - \\frac{- TA b α1 - TA + TB + c \\left(1 - TB\\right)}{b \\left(1 - α1\\right) \\left(TA - TB\\right)}\\right) \\left(b + 1\\right) - 1 + \\frac{- TA b α1 - TA + TB + c \\left(1 - TB\\right)}{b \\left(1 - α1\\right) \\left(TA - TB\\right)}\\right) \\left(- TA b α1 - TA + TB + c \\left(1 - TB\\right)\\right)}{b \\left(1 - α1\\right) \\left(TA - TB\\right)} + \\left(- 4 \\left(-1 + \\frac{- TA b α1 - TA + TB + c \\left(1 - TB\\right)}{b \\left(1 - α1\\right) \\left(TA - TB\\right)}\\right) \\left(\\frac{TA \\left(α1 - 1\\right) \\left(- TA b α1 - TA + TB + c \\left(1 - TB\\right)\\right)}{b \\left(1 - α1\\right) \\left(TA - TB\\right)} + 1\\right) + \\frac{4 \\left(b + 1\\right) \\left(TA α1 \\left(-1 + \\frac{- TA b α1 - TA + TB + c \\left(1 - TB\\right)}{b \\left(1 - α1\\right) \\left(TA - TB\\right)}\\right) - \\frac{TA \\left(- TA b α1 - TA + TB + c \\left(1 - TB\\right)\\right)}{b \\left(1 - α1\\right) \\left(TA - TB\\right)} + 1\\right) \\left(- TA b α1 - TA + TB + c \\left(1 - TB\\right)\\right)}{b \\left(1 - α1\\right) \\left(TA - TB\\right)}\\right) \\left(- \\frac{TB \\left(-1 + \\frac{- TA b α1 - TA + TB + c \\left(1 - TB\\right)}{b \\left(1 - α1\\right) \\left(TA - TB\\right)}\\right) \\left(1 - c\\right) \\left(- TA b α1 - TA + TB + c \\left(1 - TB\\right)\\right)}{b \\left(1 - α1\\right) \\left(TA - TB\\right)} + \\frac{TB \\left(-1 + \\frac{- TA b α1 - TA + TB + c \\left(1 - TB\\right)}{b \\left(1 - α1\\right) \\left(TA - TB\\right)}\\right) \\left(b - c + 1\\right) \\left(- TA b α1 - TA + TB + c \\left(1 - TB\\right)\\right)}{b \\left(1 - α1\\right) \\left(TA - TB\\right)}\\right) + \\left(- \\left(-1 + \\frac{- TA b α1 - TA + TB + c \\left(1 - TB\\right)}{b \\left(1 - α1\\right) \\left(TA - TB\\right)}\\right) \\left(c - 1\\right) \\left(TB \\left(-1 + \\frac{- TA b α1 - TA + TB + c \\left(1 - TB\\right)}{b \\left(1 - α1\\right) \\left(TA - TB\\right)}\\right) - \\frac{TB α1 \\left(- TA b α1 - TA + TB + c \\left(1 - TB\\right)\\right)}{b \\left(1 - α1\\right) \\left(TA - TB\\right)} + 1\\right) + \\frac{\\left(TB \\left(-1 + \\frac{- TA b α1 - TA + TB + c \\left(1 - TB\\right)}{b \\left(1 - α1\\right) \\left(TA - TB\\right)}\\right) \\left(α1 - 1\\right) - 1\\right) \\left(b - c + 1\\right) \\left(- TA b α1 - TA + TB + c \\left(1 - TB\\right)\\right)}{b \\left(1 - α1\\right) \\left(TA - TB\\right)}\\right) \\left(\\frac{4 TA \\left(-1 + \\frac{- TA b α1 - TA + TB + c \\left(1 - TB\\right)}{b \\left(1 - α1\\right) \\left(TA - TB\\right)}\\right) \\left(b + 1\\right) \\left(- TA b α1 - TA + TB + c \\left(1 - TB\\right)\\right)}{b \\left(1 - α1\\right) \\left(TA - TB\\right)} - \\frac{4 TA \\left(-1 + \\frac{- TA b α1 - TA + TB + c \\left(1 - TB\\right)}{b \\left(1 - α1\\right) \\left(TA - TB\\right)}\\right) \\left(- TA b α1 - TA + TB + c \\left(1 - TB\\right)\\right)}{b \\left(1 - α1\\right) \\left(TA - TB\\right)}\\right) + \\left(- \\left(-1 + \\frac{- TA b α1 - TA + TB + c \\left(1 - TB\\right)}{b \\left(1 - α1\\right) \\left(TA - TB\\right)}\\right) \\left(c - 1\\right) \\left(TB \\left(-1 + \\frac{- TA b α1 - TA + TB + c \\left(1 - TB\\right)}{b \\left(1 - α1\\right) \\left(TA - TB\\right)}\\right) - \\frac{TB α1 \\left(- TA b α1 - TA + TB + c \\left(1 - TB\\right)\\right)}{b \\left(1 - α1\\right) \\left(TA - TB\\right)} + 1\\right) + \\left(-1 + \\frac{- TA b α1 - TA + TB + c \\left(1 - TB\\right)}{b \\left(1 - α1\\right) \\left(TA - TB\\right)}\\right) \\left(\\frac{TA \\left(α1 - 1\\right) \\left(- TA b α1 - TA + TB + c \\left(1 - TB\\right)\\right)}{b \\left(1 - α1\\right) \\left(TA - TB\\right)} + 1\\right) - \\frac{\\left(b + 1\\right) \\left(TA α1 \\left(-1 + \\frac{- TA b α1 - TA + TB + c \\left(1 - TB\\right)}{b \\left(1 - α1\\right) \\left(TA - TB\\right)}\\right) - \\frac{TA \\left(- TA b α1 - TA + TB + c \\left(1 - TB\\right)\\right)}{b \\left(1 - α1\\right) \\left(TA - TB\\right)} + 1\\right) \\left(- TA b α1 - TA + TB + c \\left(1 - TB\\right)\\right)}{b \\left(1 - α1\\right) \\left(TA - TB\\right)} + \\frac{\\left(TB \\left(-1 + \\frac{- TA b α1 - TA + TB + c \\left(1 - TB\\right)}{b \\left(1 - α1\\right) \\left(TA - TB\\right)}\\right) \\left(α1 - 1\\right) - 1\\right) \\left(b - c + 1\\right) \\left(- TA b α1 - TA + TB + c \\left(1 - TB\\right)\\right)}{b \\left(1 - α1\\right) \\left(TA - TB\\right)}\\right) \\left(- \\frac{2 TA \\left(-1 + \\frac{- TA b α1 - TA + TB + c \\left(1 - TB\\right)}{b \\left(1 - α1\\right) \\left(TA - TB\\right)}\\right) \\left(b + 1\\right) \\left(- TA b α1 - TA + TB + c \\left(1 - TB\\right)\\right)}{b \\left(1 - α1\\right) \\left(TA - TB\\right)} + \\frac{2 TA \\left(-1 + \\frac{- TA b α1 - TA + TB + c \\left(1 - TB\\right)}{b \\left(1 - α1\\right) \\left(TA - TB\\right)}\\right) \\left(- TA b α1 - TA + TB + c \\left(1 - TB\\right)\\right)}{b \\left(1 - α1\\right) \\left(TA - TB\\right)} - \\frac{2 TB \\left(-1 + \\frac{- TA b α1 - TA + TB + c \\left(1 - TB\\right)}{b \\left(1 - α1\\right) \\left(TA - TB\\right)}\\right) \\left(1 - c\\right) \\left(- TA b α1 - TA + TB + c \\left(1 - TB\\right)\\right)}{b \\left(1 - α1\\right) \\left(TA - TB\\right)} + \\frac{2 TB \\left(-1 + \\frac{- TA b α1 - TA + TB + c \\left(1 - TB\\right)}{b \\left(1 - α1\\right) \\left(TA - TB\\right)}\\right) \\left(b - c + 1\\right) \\left(- TA b α1 - TA + TB + c \\left(1 - TB\\right)\\right)}{b \\left(1 - α1\\right) \\left(TA - TB\\right)}\\right)\\right)}{\\frac{4 TA TB \\left(-1 + \\frac{- TA b α1 - TA + TB + c \\left(1 - TB\\right)}{b \\left(1 - α1\\right) \\left(TA - TB\\right)}\\right) \\left(\\left(-1 + \\frac{- TA b α1 - TA + TB + c \\left(1 - TB\\right)}{b \\left(1 - α1\\right) \\left(TA - TB\\right)}\\right) \\left(α1 - 1\\right) + \\left(b + 1\\right) \\left(- α1 \\left(-1 + \\frac{- TA b α1 - TA + TB + c \\left(1 - TB\\right)}{b \\left(1 - α1\\right) \\left(TA - TB\\right)}\\right) + \\frac{- TA b α1 - TA + TB + c \\left(1 - TB\\right)}{b \\left(1 - α1\\right) \\left(TA - TB\\right)}\\right)\\right) \\left(\\left(c - 1\\right) \\left(α1 + \\left(-1 + \\frac{- TA b α1 - TA + TB + c \\left(1 - TB\\right)}{b \\left(1 - α1\\right) \\left(TA - TB\\right)}\\right) \\left(α1 - 1\\right)\\right) + \\frac{\\left(α1 - 1\\right) \\left(b - c + 1\\right) \\left(- TA b α1 - TA + TB + c \\left(1 - TB\\right)\\right)}{b \\left(1 - α1\\right) \\left(TA - TB\\right)}\\right) \\left(- TA b α1 - TA + TB + c \\left(1 - TB\\right)\\right)}{b \\left(1 - α1\\right) \\left(TA - TB\\right)} - 4 \\left(\\left(-1 + \\frac{- TA b α1 - TA + TB + c \\left(1 - TB\\right)}{b \\left(1 - α1\\right) \\left(TA - TB\\right)}\\right) \\left(\\frac{TA \\left(α1 - 1\\right) \\left(- TA b α1 - TA + TB + c \\left(1 - TB\\right)\\right)}{b \\left(1 - α1\\right) \\left(TA - TB\\right)} + 1\\right) - \\frac{\\left(b + 1\\right) \\left(TA α1 \\left(-1 + \\frac{- TA b α1 - TA + TB + c \\left(1 - TB\\right)}{b \\left(1 - α1\\right) \\left(TA - TB\\right)}\\right) - \\frac{TA \\left(- TA b α1 - TA + TB + c \\left(1 - TB\\right)\\right)}{b \\left(1 - α1\\right) \\left(TA - TB\\right)} + 1\\right) \\left(- TA b α1 - TA + TB + c \\left(1 - TB\\right)\\right)}{b \\left(1 - α1\\right) \\left(TA - TB\\right)}\\right) \\left(- \\left(-1 + \\frac{- TA b α1 - TA + TB + c \\left(1 - TB\\right)}{b \\left(1 - α1\\right) \\left(TA - TB\\right)}\\right) \\left(c - 1\\right) \\left(TB \\left(-1 + \\frac{- TA b α1 - TA + TB + c \\left(1 - TB\\right)}{b \\left(1 - α1\\right) \\left(TA - TB\\right)}\\right) - \\frac{TB α1 \\left(- TA b α1 - TA + TB + c \\left(1 - TB\\right)\\right)}{b \\left(1 - α1\\right) \\left(TA - TB\\right)} + 1\\right) + \\frac{\\left(TB \\left(-1 + \\frac{- TA b α1 - TA + TB + c \\left(1 - TB\\right)}{b \\left(1 - α1\\right) \\left(TA - TB\\right)}\\right) \\left(α1 - 1\\right) - 1\\right) \\left(b - c + 1\\right) \\left(- TA b α1 - TA + TB + c \\left(1 - TB\\right)\\right)}{b \\left(1 - α1\\right) \\left(TA - TB\\right)}\\right) + \\left(- \\left(-1 + \\frac{- TA b α1 - TA + TB + c \\left(1 - TB\\right)}{b \\left(1 - α1\\right) \\left(TA - TB\\right)}\\right) \\left(c - 1\\right) \\left(TB \\left(-1 + \\frac{- TA b α1 - TA + TB + c \\left(1 - TB\\right)}{b \\left(1 - α1\\right) \\left(TA - TB\\right)}\\right) - \\frac{TB α1 \\left(- TA b α1 - TA + TB + c \\left(1 - TB\\right)\\right)}{b \\left(1 - α1\\right) \\left(TA - TB\\right)} + 1\\right) + \\left(-1 + \\frac{- TA b α1 - TA + TB + c \\left(1 - TB\\right)}{b \\left(1 - α1\\right) \\left(TA - TB\\right)}\\right) \\left(\\frac{TA \\left(α1 - 1\\right) \\left(- TA b α1 - TA + TB + c \\left(1 - TB\\right)\\right)}{b \\left(1 - α1\\right) \\left(TA - TB\\right)} + 1\\right) - \\frac{\\left(b + 1\\right) \\left(TA α1 \\left(-1 + \\frac{- TA b α1 - TA + TB + c \\left(1 - TB\\right)}{b \\left(1 - α1\\right) \\left(TA - TB\\right)}\\right) - \\frac{TA \\left(- TA b α1 - TA + TB + c \\left(1 - TB\\right)\\right)}{b \\left(1 - α1\\right) \\left(TA - TB\\right)} + 1\\right) \\left(- TA b α1 - TA + TB + c \\left(1 - TB\\right)\\right)}{b \\left(1 - α1\\right) \\left(TA - TB\\right)} + \\frac{\\left(TB \\left(-1 + \\frac{- TA b α1 - TA + TB + c \\left(1 - TB\\right)}{b \\left(1 - α1\\right) \\left(TA - TB\\right)}\\right) \\left(α1 - 1\\right) - 1\\right) \\left(b - c + 1\\right) \\left(- TA b α1 - TA + TB + c \\left(1 - TB\\right)\\right)}{b \\left(1 - α1\\right) \\left(TA - TB\\right)}\\right)^{2}}$"
     },
     "metadata": {},
     "execution_count": 54
    }
   ],
   "source": [
    "diff_z = simplify(diff(z, α2).subs(p, (c*(1-TB) - b*α1*TA-(TA-TB))/(b*(1-α1)*(TA-TB))).subs(α2, α1))"
   ]
  },
  {
   "cell_type": "code",
   "execution_count": null,
   "metadata": {},
   "outputs": [],
   "source": []
  }
 ],
 "metadata": {
  "language_info": {
   "codemirror_mode": {
    "name": "ipython",
    "version": 3
   },
   "file_extension": ".py",
   "mimetype": "text/x-python",
   "name": "python",
   "nbconvert_exporter": "python",
   "pygments_lexer": "ipython3",
   "version": 3
  },
  "orig_nbformat": 2,
  "kernelspec": {
   "name": "python_defaultSpec_1603873118013",
   "display_name": "Python 3.8.6 64-bit"
  }
 },
 "nbformat": 4,
 "nbformat_minor": 2
}